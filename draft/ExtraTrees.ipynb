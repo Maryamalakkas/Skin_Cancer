{
  "cells": [
    {
      "cell_type": "code",
      "execution_count": 1,
      "metadata": {
        "colab": {
          "base_uri": "https://localhost:8080/"
        },
        "id": "xNdDQEobqKII",
        "outputId": "aa32d5c3-de41-4bd4-e7e1-0b034129acc7"
      },
      "outputs": [
        {
          "name": "stderr",
          "output_type": "stream",
          "text": [
            "/var/folders/jh/zgqt24qj3_n6m12h05s8spkr0000gn/T/ipykernel_67092/1249265048.py:1: DeprecationWarning: \n",
            "Pyarrow will become a required dependency of pandas in the next major release of pandas (pandas 3.0),\n",
            "(to allow more performant data types, such as the Arrow string type, and better interoperability with other libraries)\n",
            "but was not found to be installed on your system.\n",
            "If this would cause problems for you,\n",
            "please provide us feedback at https://github.com/pandas-dev/pandas/issues/54466\n",
            "        \n",
            "  import pandas as pd\n"
          ]
        },
        {
          "name": "stdout",
          "output_type": "stream",
          "text": [
            "Requirement already satisfied: lightgbm in /Users/hneen/miniconda3/lib/python3.11/site-packages (4.3.0)\n",
            "Requirement already satisfied: numpy in /Users/hneen/miniconda3/lib/python3.11/site-packages (from lightgbm) (1.26.4)\n",
            "Requirement already satisfied: scipy in /Users/hneen/miniconda3/lib/python3.11/site-packages (from lightgbm) (1.12.0)\n",
            "Note: you may need to restart the kernel to use updated packages.\n"
          ]
        }
      ],
      "source": [
        "import pandas as pd\n",
        "import numpy as np\n",
        "import matplotlib.pyplot as plt\n",
        "from sklearn.model_selection import train_test_split\n",
        "from sklearn.svm import SVC\n",
        "from sklearn.metrics import accuracy_score\n",
        "from sklearn.metrics import confusion_matrix\n",
        "import seaborn as sns\n",
        "from sklearn.metrics import precision_score, recall_score, f1_score\n",
        "from sklearn.discriminant_analysis import StandardScaler\n",
        "from imblearn.combine import SMOTEENN\n",
        "from imblearn.over_sampling import SMOTE\n",
        "from imblearn.under_sampling import RandomUnderSampler\n",
        "from sklearn.model_selection import GridSearchCV\n",
        "from sklearn.metrics import classification_report\n",
        "from sklearn.model_selection import cross_val_score\n",
        "%pip install lightgbm"
      ]
    },
    {
      "cell_type": "code",
      "execution_count": 2,
      "metadata": {
        "id": "88NenbxiqKIJ"
      },
      "outputs": [],
      "source": [
        "random_state=42\n",
        "best_models = {}"
      ]
    },
    {
      "cell_type": "code",
      "execution_count": 3,
      "metadata": {
        "colab": {
          "base_uri": "https://localhost:8080/",
          "height": 444
        },
        "id": "VY2BqdWOqKIJ",
        "outputId": "aedf2944-28cb-4d62-de33-8c0e671e78df"
      },
      "outputs": [],
      "source": [
        "# Read in the data\n",
        "# Read in the data\n",
        "df = pd.read_csv('../Data/Final_skin_cancer.csv')\n",
        "\n",
        "df.drop('drink', axis=1, inplace=True)"
      ]
    },
    {
      "cell_type": "markdown",
      "metadata": {
        "id": "LQX8dggmPB8c"
      },
      "source": [
        "# New Section"
      ]
    },
    {
      "cell_type": "code",
      "execution_count": 4,
      "metadata": {
        "id": "uNLe-VlTqKIK"
      },
      "outputs": [],
      "source": [
        "from sklearn.model_selection import train_test_split\n",
        "\n",
        "def splitting_data(df, sampling, test_size=0.2, random_state=123):\n",
        "    # First, split the data into features and target variable\n",
        "    X = df.drop(['diagnostic'], axis=1)\n",
        "    y = df['diagnostic']\n",
        "    \n",
        "    # Split the data into training and test sets\n",
        "    X_train, X_test, y_train, y_test = train_test_split(X, y, test_size=test_size, random_state=random_state)\n",
        "    \n",
        "    # Apply sampling methods to the training data based on the specified method\n",
        "    if sampling == 'none':\n",
        "        return X_train, X_test, y_train, y_test\n",
        "    elif sampling == 'SMOTEENN':\n",
        "        from imblearn.combine import SMOTEENN\n",
        "        smote_enn = SMOTEENN(random_state=random_state)\n",
        "        X_resampled, y_resampled = smote_enn.fit_resample(X_train, y_train)\n",
        "        return X_resampled, X_test, y_resampled, y_test\n",
        "    elif sampling == 'SMOTE':\n",
        "        from imblearn.over_sampling import SMOTE\n",
        "        smote = SMOTE(random_state=random_state)\n",
        "        X_resampled, y_resampled = smote.fit_resample(X_train, y_train)\n",
        "        return X_resampled, X_test, y_resampled, y_test\n",
        "    elif sampling == 'under':\n",
        "        from imblearn.under_sampling import RandomUnderSampler\n",
        "        rus = RandomUnderSampler(random_state=random_state)\n",
        "        X_resampled, y_resampled = rus.fit_resample(X_train, y_train)\n",
        "        return X_resampled, X_test, y_resampled, y_test\n",
        "    elif sampling == 'over':\n",
        "        from imblearn.over_sampling import RandomOverSampler\n",
        "        rus = RandomOverSampler(random_state=random_state)\n",
        "        X_resampled, y_resampled = rus.fit_resample(X_train, y_train)\n",
        "        return X_resampled, X_test, y_resampled, y_test"
      ]
    },
    {
      "cell_type": "code",
      "execution_count": 5,
      "metadata": {
        "id": "lVVxj7KAqKIK"
      },
      "outputs": [],
      "source": [
        "from sklearn.ensemble import ExtraTreesClassifier\n",
        "\n",
        "def training(X_train, y_train):\n",
        "    # Create a KNN classifier with 5 neighbors\n",
        "    LGBM = ExtraTreesClassifier()\n",
        "    # Fit the classifier to the data\n",
        "    LGBM.fit(X_train, y_train)\n",
        "    return LGBM"
      ]
    },
    {
      "cell_type": "code",
      "execution_count": null,
      "metadata": {},
      "outputs": [],
      "source": []
    },
    {
      "cell_type": "code",
      "execution_count": 6,
      "metadata": {
        "id": "3Zc5GvysOfGU"
      },
      "outputs": [],
      "source": [
        "def best_model(modelName, accuracy, precision, recall, f1):\n",
        "    best_models[modelName] = {\n",
        "        'accuracy': accuracy,\n",
        "        'precision': precision,\n",
        "        'recall': recall,\n",
        "        'f1': f1\n",
        "    }"
      ]
    },
    {
      "cell_type": "code",
      "execution_count": 7,
      "metadata": {
        "id": "Qx40EAZCqKIK"
      },
      "outputs": [],
      "source": [
        "def predict(modleName,LGBM, X_test ,y_test):\n",
        "    # Predict the labels for the training data X\n",
        "    y_pred = LGBM.predict(X_test)\n",
        "    accuracy = accuracy_score(y_test, y_pred)\n",
        "    cr=classification_report(y_test, y_pred, output_dict=True)\n",
        "    precision = cr['weighted avg']['precision']\n",
        "    recall = cr['weighted avg']['recall']\n",
        "    f1 = cr['weighted avg']['f1-score']\n",
        "    best_model(modleName,accuracy,precision,recall,f1)\n",
        "    cr=classification_report(y_test, y_pred)\n",
        "    print(cr)"
      ]
    },
    {
      "cell_type": "code",
      "execution_count": null,
      "metadata": {
        "id": "IwAOn-8uqKIK"
      },
      "outputs": [],
      "source": []
    },
    {
      "cell_type": "code",
      "execution_count": 8,
      "metadata": {
        "id": "RaCvmccpqKIK"
      },
      "outputs": [],
      "source": [
        "from sklearn.ensemble import ExtraTreesClassifier\n",
        "from sklearn.model_selection import GridSearchCV\n",
        "from sklearn.preprocessing import StandardScaler\n",
        "from sklearn.pipeline import Pipeline\n",
        "\n",
        "def optimize_with_grid(X_train, y_train):\n",
        "    # Define a pipeline\n",
        "    # Note: Scaling might not be necessary for tree-based models, but included for consistency\n",
        "    pipe = Pipeline([\n",
        "        ('scaler', StandardScaler()),  # Optional for ExtraTrees\n",
        "        ('extra_trees', ExtraTreesClassifier(random_state=random_state))\n",
        "    ])\n",
        "\n",
        "    # Define the parameter grid to search\n",
        "    param_grid = {\n",
        "        'extra_trees__n_estimators': [100, 200, 300],  # Number of trees in the forest\n",
        "        'extra_trees__max_depth': [None, 10, 20, 30],  # Maximum depth of the tree\n",
        "        'extra_trees__min_samples_split': [2, 5, 10],  # Minimum number of samples required to split an internal node\n",
        "        'extra_trees__min_samples_leaf': [1, 2, 4],  # Minimum number of samples required to be at a leaf node\n",
        "        'extra_trees__max_features': ['auto', 'sqrt', 'log2']  # Number of features to consider when looking for the best split\n",
        "    }\n",
        "\n",
        "    # Create the GridSearchCV object\n",
        "    extra_trees_cv = GridSearchCV(pipe, param_grid, cv=5, verbose=1, n_jobs=-1)\n",
        "\n",
        "    # Perform the grid search on the provided data\n",
        "    extra_trees_cv.fit(X_train, y_train)\n",
        "\n",
        "    # Best parameters and best score\n",
        "    best_params = extra_trees_cv.best_params_\n",
        "    best_score = extra_trees_cv.best_score_\n",
        "    best_estimator = extra_trees_cv.best_estimator_\n",
        "    print(\"Best Parameters:\", best_params)\n",
        "    print(\"Best Score:\", best_score)\n",
        "\n",
        "    return best_estimator\n",
        "\n",
        "# Example usage\n",
        "# Ensure you have defined X_train, y_train, and optionally random_state before calling this function\n",
        "# best_extra_trees_model = optimize_with_grid_extra_trees(X_train, y_train, random_state=42)\n"
      ]
    },
    {
      "cell_type": "markdown",
      "metadata": {
        "id": "ymbIYYOgqKIK"
      },
      "source": [
        "<h1> LGBM on original data with optimization </h1>"
      ]
    },
    {
      "cell_type": "code",
      "execution_count": 9,
      "metadata": {
        "id": "jNHPeleDqKIL"
      },
      "outputs": [],
      "source": [
        "# using function with no sampling\n",
        "X_train, X_test, y_train, y_test = splitting_data(df, 'none')\n",
        "# Split the data into train and test sets\n",
        "# Scale the features using StandardScaler\n",
        "scaler = StandardScaler()\n",
        "X_train = scaler.fit_transform(X_train)\n",
        "X_test = scaler.transform(X_test)"
      ]
    },
    {
      "cell_type": "code",
      "execution_count": 10,
      "metadata": {
        "colab": {
          "base_uri": "https://localhost:8080/"
        },
        "id": "x9HGLHNvqKIL",
        "outputId": "c660b805-d8f7-48c0-fa12-e342f729c21a"
      },
      "outputs": [
        {
          "name": "stdout",
          "output_type": "stream",
          "text": [
            "Number of observations in each class in the training set:\n",
            "diagnostic\n",
            "1    1192\n",
            "0     172\n",
            "Name: count, dtype: int64\n"
          ]
        }
      ],
      "source": [
        "#check number of observations in each class in the set\n",
        "print(\"Number of observations in each class in the training set:\")\n",
        "print(y_train.value_counts())"
      ]
    },
    {
      "cell_type": "code",
      "execution_count": 11,
      "metadata": {
        "colab": {
          "base_uri": "https://localhost:8080/"
        },
        "id": "Mo1V3LfNqKIL",
        "outputId": "c81988db-7320-4803-9ca0-12ca8e6c7bc2"
      },
      "outputs": [
        {
          "name": "stdout",
          "output_type": "stream",
          "text": [
            "              precision    recall  f1-score   support\n",
            "\n",
            "           0       0.79      0.79      0.79        39\n",
            "           1       0.97      0.97      0.97       302\n",
            "\n",
            "    accuracy                           0.95       341\n",
            "   macro avg       0.88      0.88      0.88       341\n",
            "weighted avg       0.95      0.95      0.95       341\n",
            "\n"
          ]
        }
      ],
      "source": [
        "LGBM1 = training(X_train, y_train)\n",
        "y_pred = predict('original',LGBM1, X_test, y_test)\n"
      ]
    },
    {
      "cell_type": "code",
      "execution_count": null,
      "metadata": {},
      "outputs": [],
      "source": []
    },
    {
      "cell_type": "code",
      "execution_count": null,
      "metadata": {},
      "outputs": [],
      "source": []
    },
    {
      "cell_type": "code",
      "execution_count": 12,
      "metadata": {
        "colab": {
          "base_uri": "https://localhost:8080/"
        },
        "id": "wiCcN4wtqKIL",
        "outputId": "4e26eff9-8da4-4ff5-da45-f6ee6add49bd"
      },
      "outputs": [
        {
          "name": "stdout",
          "output_type": "stream",
          "text": [
            "Fitting 5 folds for each of 324 candidates, totalling 1620 fits\n",
            "Best Parameters: {'extra_trees__max_depth': 20, 'extra_trees__max_features': 'log2', 'extra_trees__min_samples_leaf': 1, 'extra_trees__min_samples_split': 2, 'extra_trees__n_estimators': 100}\n",
            "Best Score: 0.9398971126912304\n",
            "              precision    recall  f1-score   support\n",
            "\n",
            "           0       0.82      0.82      0.82        39\n",
            "           1       0.98      0.98      0.98       302\n",
            "\n",
            "    accuracy                           0.96       341\n",
            "   macro avg       0.90      0.90      0.90       341\n",
            "weighted avg       0.96      0.96      0.96       341\n",
            "\n"
          ]
        },
        {
          "name": "stderr",
          "output_type": "stream",
          "text": [
            "/Users/hneen/miniconda3/lib/python3.11/site-packages/sklearn/model_selection/_validation.py:542: FitFailedWarning: \n",
            "540 fits failed out of a total of 1620.\n",
            "The score on these train-test partitions for these parameters will be set to nan.\n",
            "If these failures are not expected, you can try to debug them by setting error_score='raise'.\n",
            "\n",
            "Below are more details about the failures:\n",
            "--------------------------------------------------------------------------------\n",
            "186 fits failed with the following error:\n",
            "Traceback (most recent call last):\n",
            "  File \"/Users/hneen/miniconda3/lib/python3.11/site-packages/sklearn/model_selection/_validation.py\", line 890, in _fit_and_score\n",
            "    estimator.fit(X_train, y_train, **fit_params)\n",
            "  File \"/Users/hneen/miniconda3/lib/python3.11/site-packages/sklearn/base.py\", line 1351, in wrapper\n",
            "    return fit_method(estimator, *args, **kwargs)\n",
            "           ^^^^^^^^^^^^^^^^^^^^^^^^^^^^^^^^^^^^^^\n",
            "  File \"/Users/hneen/miniconda3/lib/python3.11/site-packages/sklearn/pipeline.py\", line 475, in fit\n",
            "    self._final_estimator.fit(Xt, y, **last_step_params[\"fit\"])\n",
            "  File \"/Users/hneen/miniconda3/lib/python3.11/site-packages/sklearn/base.py\", line 1344, in wrapper\n",
            "    estimator._validate_params()\n",
            "  File \"/Users/hneen/miniconda3/lib/python3.11/site-packages/sklearn/base.py\", line 666, in _validate_params\n",
            "    validate_parameter_constraints(\n",
            "  File \"/Users/hneen/miniconda3/lib/python3.11/site-packages/sklearn/utils/_param_validation.py\", line 95, in validate_parameter_constraints\n",
            "    raise InvalidParameterError(\n",
            "sklearn.utils._param_validation.InvalidParameterError: The 'max_features' parameter of ExtraTreesClassifier must be an int in the range [1, inf), a float in the range (0.0, 1.0], a str among {'sqrt', 'log2'} or None. Got 'auto' instead.\n",
            "\n",
            "--------------------------------------------------------------------------------\n",
            "354 fits failed with the following error:\n",
            "Traceback (most recent call last):\n",
            "  File \"/Users/hneen/miniconda3/lib/python3.11/site-packages/sklearn/model_selection/_validation.py\", line 890, in _fit_and_score\n",
            "    estimator.fit(X_train, y_train, **fit_params)\n",
            "  File \"/Users/hneen/miniconda3/lib/python3.11/site-packages/sklearn/base.py\", line 1351, in wrapper\n",
            "    return fit_method(estimator, *args, **kwargs)\n",
            "           ^^^^^^^^^^^^^^^^^^^^^^^^^^^^^^^^^^^^^^\n",
            "  File \"/Users/hneen/miniconda3/lib/python3.11/site-packages/sklearn/pipeline.py\", line 475, in fit\n",
            "    self._final_estimator.fit(Xt, y, **last_step_params[\"fit\"])\n",
            "  File \"/Users/hneen/miniconda3/lib/python3.11/site-packages/sklearn/base.py\", line 1344, in wrapper\n",
            "    estimator._validate_params()\n",
            "  File \"/Users/hneen/miniconda3/lib/python3.11/site-packages/sklearn/base.py\", line 666, in _validate_params\n",
            "    validate_parameter_constraints(\n",
            "  File \"/Users/hneen/miniconda3/lib/python3.11/site-packages/sklearn/utils/_param_validation.py\", line 95, in validate_parameter_constraints\n",
            "    raise InvalidParameterError(\n",
            "sklearn.utils._param_validation.InvalidParameterError: The 'max_features' parameter of ExtraTreesClassifier must be an int in the range [1, inf), a float in the range (0.0, 1.0], a str among {'log2', 'sqrt'} or None. Got 'auto' instead.\n",
            "\n",
            "  warnings.warn(some_fits_failed_message, FitFailedWarning)\n",
            "/Users/hneen/miniconda3/lib/python3.11/site-packages/sklearn/model_selection/_search.py:1051: UserWarning: One or more of the test scores are non-finite: [       nan        nan        nan        nan        nan        nan\n",
            "        nan        nan        nan        nan        nan        nan\n",
            "        nan        nan        nan        nan        nan        nan\n",
            "        nan        nan        nan        nan        nan        nan\n",
            "        nan        nan        nan 0.93842922 0.93842922 0.93769392\n",
            " 0.93036522 0.93256572 0.93256572 0.92670222 0.92596962 0.92743482\n",
            " 0.93183312 0.93110052 0.93329832 0.93109513 0.93036253 0.92962993\n",
            " 0.92156593 0.92083333 0.92083333 0.91863014 0.91790024 0.91643504\n",
            " 0.91863014 0.91790024 0.91643504 0.91643504 0.91643504 0.91423723\n",
            " 0.93916451 0.93842922 0.93769662 0.93476621 0.93403361 0.93330101\n",
            " 0.92743213 0.92523702 0.92743482 0.93036522 0.93402823 0.93403092\n",
            " 0.93036522 0.93036522 0.93183042 0.92743213 0.92376912 0.92303114\n",
            " 0.91863553 0.91936813 0.92010073 0.91863553 0.91936813 0.92010073\n",
            " 0.91717302 0.91863553 0.91936813        nan        nan        nan\n",
            "        nan        nan        nan        nan        nan        nan\n",
            "        nan        nan        nan        nan        nan        nan\n",
            "        nan        nan        nan        nan        nan        nan\n",
            "        nan        nan        nan        nan        nan        nan\n",
            " 0.93255764 0.93255764 0.93182504 0.92889194 0.92815934 0.92889463\n",
            " 0.92229853 0.92083333 0.92083603 0.92742405 0.92815665 0.92669145\n",
            " 0.92742405 0.92669414 0.92742674 0.92303114 0.92303114 0.92229853\n",
            " 0.91570243 0.91716764 0.91497253 0.91570243 0.91716764 0.91497253\n",
            " 0.91716494 0.91496714 0.91570243 0.93182234 0.93182234 0.93182234\n",
            " 0.92816473 0.92816203 0.92889463 0.92449634 0.92156593 0.92229853\n",
            " 0.92815665 0.92742405 0.92815934 0.92596154 0.92595885 0.92669145\n",
            " 0.92229584 0.92229584 0.92009804 0.91936544 0.91936544 0.92083064\n",
            " 0.91936544 0.91936544 0.92083064 0.91643773 0.91716764 0.91790024\n",
            "        nan        nan        nan        nan        nan        nan\n",
            "        nan        nan        nan        nan        nan        nan\n",
            "        nan        nan        nan        nan        nan        nan\n",
            "        nan        nan        nan        nan        nan        nan\n",
            "        nan        nan        nan 0.93695863 0.93549073 0.93549073\n",
            " 0.93110052 0.93256572 0.93110052 0.92670222 0.92596962 0.92743482\n",
            " 0.93183312 0.93256572 0.93256572 0.93109513 0.93036253 0.92962993\n",
            " 0.92156593 0.92083333 0.92083333 0.91863014 0.91790024 0.91643504\n",
            " 0.91863014 0.91790024 0.91643504 0.91643504 0.91643504 0.91423723\n",
            " 0.93989711 0.93916182 0.93696402 0.93403361 0.93403361 0.93330101\n",
            " 0.92743213 0.92523702 0.92743482 0.93036522 0.93402823 0.93403092\n",
            " 0.93036522 0.93036522 0.93183042 0.92743213 0.92376912 0.92303114\n",
            " 0.91863553 0.91936813 0.92010073 0.91863553 0.91936813 0.92010073\n",
            " 0.91717302 0.91863553 0.91936813        nan        nan        nan\n",
            "        nan        nan        nan        nan        nan        nan\n",
            "        nan        nan        nan        nan        nan        nan\n",
            "        nan        nan        nan        nan        nan        nan\n",
            "        nan        nan        nan        nan        nan        nan\n",
            " 0.93842922 0.93842922 0.93769392 0.93036522 0.93256572 0.93256572\n",
            " 0.92670222 0.92596962 0.92743482 0.93183312 0.93110052 0.93329832\n",
            " 0.93109513 0.93036253 0.92962993 0.92156593 0.92083333 0.92083333\n",
            " 0.91863014 0.91790024 0.91643504 0.91863014 0.91790024 0.91643504\n",
            " 0.91643504 0.91643504 0.91423723 0.93916451 0.93842922 0.93769662\n",
            " 0.93476621 0.93403361 0.93330101 0.92743213 0.92523702 0.92743482\n",
            " 0.93036522 0.93402823 0.93403092 0.93036522 0.93036522 0.93183042\n",
            " 0.92743213 0.92376912 0.92303114 0.91863553 0.91936813 0.92010073\n",
            " 0.91863553 0.91936813 0.92010073 0.91717302 0.91863553 0.91936813]\n",
            "  warnings.warn(\n"
          ]
        }
      ],
      "source": [
        "best_LGBM1 = optimize_with_grid(X_train, y_train)\n",
        "prediction = predict('original_grid',best_LGBM1, X_test, y_test)"
      ]
    },
    {
      "cell_type": "markdown",
      "metadata": {
        "id": "NP50kI6HqKIM"
      },
      "source": [
        "<h1> LGBM using SMOTE sampling </h1>"
      ]
    },
    {
      "cell_type": "code",
      "execution_count": 13,
      "metadata": {
        "id": "5QC5Nt4VqKIM"
      },
      "outputs": [],
      "source": [
        "X_train, X_test, y_train, y_test = splitting_data(df, 'SMOTE')\n",
        "scaler = StandardScaler()\n",
        "X_train = scaler.fit_transform(X_train)\n",
        "X_test = scaler.transform(X_test)"
      ]
    },
    {
      "cell_type": "code",
      "execution_count": 14,
      "metadata": {
        "colab": {
          "base_uri": "https://localhost:8080/"
        },
        "id": "cEyeNwUYqKIM",
        "outputId": "94a381cc-d663-43ce-d9cf-da3a66c45504"
      },
      "outputs": [
        {
          "name": "stdout",
          "output_type": "stream",
          "text": [
            "Number of observations in each class in the training set:\n",
            "diagnostic\n",
            "1    1192\n",
            "0    1192\n",
            "Name: count, dtype: int64\n"
          ]
        }
      ],
      "source": [
        "#check number of observations in each class in the set\n",
        "print(\"Number of observations in each class in the training set:\")\n",
        "print(y_train.value_counts())"
      ]
    },
    {
      "cell_type": "code",
      "execution_count": 15,
      "metadata": {
        "colab": {
          "base_uri": "https://localhost:8080/"
        },
        "id": "ejMPzo7yqKIM",
        "outputId": "1d2f5b71-0bf7-4602-a281-d7746a86a9fb"
      },
      "outputs": [
        {
          "name": "stdout",
          "output_type": "stream",
          "text": [
            "              precision    recall  f1-score   support\n",
            "\n",
            "           0       0.77      0.85      0.80        39\n",
            "           1       0.98      0.97      0.97       302\n",
            "\n",
            "    accuracy                           0.95       341\n",
            "   macro avg       0.87      0.91      0.89       341\n",
            "weighted avg       0.96      0.95      0.95       341\n",
            "\n"
          ]
        }
      ],
      "source": [
        "LGBM2 =training(X_train, y_train)\n",
        "y_pred = predict('SMOTE',LGBM2, X_test, y_test)"
      ]
    },
    {
      "cell_type": "code",
      "execution_count": 16,
      "metadata": {
        "colab": {
          "base_uri": "https://localhost:8080/"
        },
        "id": "qA7dtp3BqKIM",
        "outputId": "62195fb4-fddf-44c0-fecc-fbb9be395327"
      },
      "outputs": [
        {
          "name": "stdout",
          "output_type": "stream",
          "text": [
            "Fitting 5 folds for each of 324 candidates, totalling 1620 fits\n",
            "Best Parameters: {'extra_trees__max_depth': None, 'extra_trees__max_features': 'log2', 'extra_trees__min_samples_leaf': 1, 'extra_trees__min_samples_split': 5, 'extra_trees__n_estimators': 100}\n",
            "Best Score: 0.9563826788577066\n",
            "              precision    recall  f1-score   support\n",
            "\n",
            "           0       0.80      0.82      0.81        39\n",
            "           1       0.98      0.97      0.98       302\n",
            "\n",
            "    accuracy                           0.96       341\n",
            "   macro avg       0.89      0.90      0.89       341\n",
            "weighted avg       0.96      0.96      0.96       341\n",
            "\n"
          ]
        },
        {
          "name": "stderr",
          "output_type": "stream",
          "text": [
            "/Users/hneen/miniconda3/lib/python3.11/site-packages/sklearn/model_selection/_validation.py:542: FitFailedWarning: \n",
            "540 fits failed out of a total of 1620.\n",
            "The score on these train-test partitions for these parameters will be set to nan.\n",
            "If these failures are not expected, you can try to debug them by setting error_score='raise'.\n",
            "\n",
            "Below are more details about the failures:\n",
            "--------------------------------------------------------------------------------\n",
            "307 fits failed with the following error:\n",
            "Traceback (most recent call last):\n",
            "  File \"/Users/hneen/miniconda3/lib/python3.11/site-packages/sklearn/model_selection/_validation.py\", line 890, in _fit_and_score\n",
            "    estimator.fit(X_train, y_train, **fit_params)\n",
            "  File \"/Users/hneen/miniconda3/lib/python3.11/site-packages/sklearn/base.py\", line 1351, in wrapper\n",
            "    return fit_method(estimator, *args, **kwargs)\n",
            "           ^^^^^^^^^^^^^^^^^^^^^^^^^^^^^^^^^^^^^^\n",
            "  File \"/Users/hneen/miniconda3/lib/python3.11/site-packages/sklearn/pipeline.py\", line 475, in fit\n",
            "    self._final_estimator.fit(Xt, y, **last_step_params[\"fit\"])\n",
            "  File \"/Users/hneen/miniconda3/lib/python3.11/site-packages/sklearn/base.py\", line 1344, in wrapper\n",
            "    estimator._validate_params()\n",
            "  File \"/Users/hneen/miniconda3/lib/python3.11/site-packages/sklearn/base.py\", line 666, in _validate_params\n",
            "    validate_parameter_constraints(\n",
            "  File \"/Users/hneen/miniconda3/lib/python3.11/site-packages/sklearn/utils/_param_validation.py\", line 95, in validate_parameter_constraints\n",
            "    raise InvalidParameterError(\n",
            "sklearn.utils._param_validation.InvalidParameterError: The 'max_features' parameter of ExtraTreesClassifier must be an int in the range [1, inf), a float in the range (0.0, 1.0], a str among {'log2', 'sqrt'} or None. Got 'auto' instead.\n",
            "\n",
            "--------------------------------------------------------------------------------\n",
            "233 fits failed with the following error:\n",
            "Traceback (most recent call last):\n",
            "  File \"/Users/hneen/miniconda3/lib/python3.11/site-packages/sklearn/model_selection/_validation.py\", line 890, in _fit_and_score\n",
            "    estimator.fit(X_train, y_train, **fit_params)\n",
            "  File \"/Users/hneen/miniconda3/lib/python3.11/site-packages/sklearn/base.py\", line 1351, in wrapper\n",
            "    return fit_method(estimator, *args, **kwargs)\n",
            "           ^^^^^^^^^^^^^^^^^^^^^^^^^^^^^^^^^^^^^^\n",
            "  File \"/Users/hneen/miniconda3/lib/python3.11/site-packages/sklearn/pipeline.py\", line 475, in fit\n",
            "    self._final_estimator.fit(Xt, y, **last_step_params[\"fit\"])\n",
            "  File \"/Users/hneen/miniconda3/lib/python3.11/site-packages/sklearn/base.py\", line 1344, in wrapper\n",
            "    estimator._validate_params()\n",
            "  File \"/Users/hneen/miniconda3/lib/python3.11/site-packages/sklearn/base.py\", line 666, in _validate_params\n",
            "    validate_parameter_constraints(\n",
            "  File \"/Users/hneen/miniconda3/lib/python3.11/site-packages/sklearn/utils/_param_validation.py\", line 95, in validate_parameter_constraints\n",
            "    raise InvalidParameterError(\n",
            "sklearn.utils._param_validation.InvalidParameterError: The 'max_features' parameter of ExtraTreesClassifier must be an int in the range [1, inf), a float in the range (0.0, 1.0], a str among {'sqrt', 'log2'} or None. Got 'auto' instead.\n",
            "\n",
            "  warnings.warn(some_fits_failed_message, FitFailedWarning)\n",
            "/Users/hneen/miniconda3/lib/python3.11/site-packages/sklearn/model_selection/_search.py:1051: UserWarning: One or more of the test scores are non-finite: [       nan        nan        nan        nan        nan        nan\n",
            "        nan        nan        nan        nan        nan        nan\n",
            "        nan        nan        nan        nan        nan        nan\n",
            "        nan        nan        nan        nan        nan        nan\n",
            "        nan        nan        nan 0.95386343 0.95344414 0.95386343\n",
            " 0.95512394 0.95596339 0.9555441  0.94715572 0.94883287 0.94799341\n",
            " 0.94925303 0.94925215 0.9488311  0.9488311  0.94883287 0.94715484\n",
            " 0.94254092 0.94379878 0.94421806 0.93499022 0.9345727  0.93373412\n",
            " 0.93499022 0.9345727  0.93373412 0.93373324 0.93205609 0.93289555\n",
            " 0.95386343 0.95344414 0.95302486 0.95638268 0.95596251 0.95554322\n",
            " 0.94967144 0.95093018 0.95093018 0.95134947 0.95092842 0.95093018\n",
            " 0.94925127 0.94966968 0.94883199 0.94505664 0.94547681 0.94547681\n",
            " 0.93583056 0.93750859 0.93792699 0.93583056 0.93750859 0.93792699\n",
            " 0.93876557 0.93624985 0.93834716        nan        nan        nan\n",
            "        nan        nan        nan        nan        nan        nan\n",
            "        nan        nan        nan        nan        nan        nan\n",
            "        nan        nan        nan        nan        nan        nan\n",
            "        nan        nan        nan        nan        nan        nan\n",
            " 0.94128129 0.94044184 0.94211899 0.93960414 0.93834716 0.93750859\n",
            " 0.93750859 0.9370893  0.93541127 0.93499287 0.93499198 0.93457182\n",
            " 0.9358288  0.93666913 0.93541127 0.93163504 0.93163592 0.93079735\n",
            " 0.9299579  0.93037718 0.9291202  0.9299579  0.93037718 0.9291202\n",
            " 0.92786058 0.9291202  0.92786322 0.94547505 0.94421718 0.94254003\n",
            " 0.94337861 0.94421806 0.9429602  0.93834716 0.93918662 0.93667001\n",
            " 0.94086465 0.94002519 0.94002519 0.93876645 0.94044448 0.93918662\n",
            " 0.93624985 0.93666913 0.93624985 0.93499198 0.93247538 0.93205609\n",
            " 0.93499198 0.93247538 0.93205609 0.93373412 0.9345727  0.93373236\n",
            "        nan        nan        nan        nan        nan        nan\n",
            "        nan        nan        nan        nan        nan        nan\n",
            "        nan        nan        nan        nan        nan        nan\n",
            "        nan        nan        nan        nan        nan        nan\n",
            "        nan        nan        nan 0.95386343 0.95386343 0.95386343\n",
            " 0.95512394 0.95512482 0.9555441  0.94715572 0.94841358 0.94841358\n",
            " 0.94967232 0.94925215 0.94925039 0.94757324 0.94883287 0.947575\n",
            " 0.94254092 0.94379878 0.94337949 0.93499022 0.9345727  0.93373412\n",
            " 0.93499022 0.9345727  0.93373412 0.93373324 0.93205609 0.93289555\n",
            " 0.95386343 0.95344414 0.95302486 0.95638268 0.95596251 0.95554322\n",
            " 0.95009161 0.95093018 0.94967232 0.95134947 0.95092842 0.95009161\n",
            " 0.94925127 0.94966968 0.94925127 0.94505664 0.94547681 0.94547681\n",
            " 0.93583056 0.93750859 0.93792699 0.93583056 0.93750859 0.93792699\n",
            " 0.93876557 0.93624985 0.93834716        nan        nan        nan\n",
            "        nan        nan        nan        nan        nan        nan\n",
            "        nan        nan        nan        nan        nan        nan\n",
            "        nan        nan        nan        nan        nan        nan\n",
            "        nan        nan        nan        nan        nan        nan\n",
            " 0.95386343 0.95344414 0.95386343 0.95512394 0.95596339 0.9555441\n",
            " 0.94715572 0.94883287 0.94799341 0.94925303 0.94925215 0.9488311\n",
            " 0.9488311  0.94883287 0.94715484 0.94254092 0.94379878 0.94421806\n",
            " 0.93499022 0.9345727  0.93373412 0.93499022 0.9345727  0.93373412\n",
            " 0.93373324 0.93205609 0.93289555 0.95386343 0.95344414 0.95302486\n",
            " 0.95638268 0.95596251 0.95554322 0.94967144 0.95093018 0.95093018\n",
            " 0.95134947 0.95092842 0.95093018 0.94925127 0.94966968 0.94883199\n",
            " 0.94505664 0.94547681 0.94547681 0.93583056 0.93750859 0.93792699\n",
            " 0.93583056 0.93750859 0.93792699 0.93876557 0.93624985 0.93834716]\n",
            "  warnings.warn(\n"
          ]
        }
      ],
      "source": [
        "best_LGBM2 = optimize_with_grid(X_train, y_train)\n",
        "prediction = predict('SMOTE_grid',best_LGBM2, X_test, y_test)"
      ]
    },
    {
      "cell_type": "markdown",
      "metadata": {
        "id": "UqQKWnBOqKIM"
      },
      "source": [
        "<h1> LGBM using SMOTEENN sampling </h1>"
      ]
    },
    {
      "cell_type": "code",
      "execution_count": 17,
      "metadata": {
        "id": "i2oPMW0QqKIM"
      },
      "outputs": [],
      "source": [
        "X_train, X_test, y_train, y_test = splitting_data(df, 'SMOTEENN')\n",
        "scaler = StandardScaler()\n",
        "X_train = scaler.fit_transform(X_train)\n",
        "X_test = scaler.transform(X_test)"
      ]
    },
    {
      "cell_type": "code",
      "execution_count": 18,
      "metadata": {
        "colab": {
          "base_uri": "https://localhost:8080/"
        },
        "id": "WSBW__2vqKIM",
        "outputId": "cc80040a-d73b-4335-d3dc-2cc8f82ff736"
      },
      "outputs": [
        {
          "name": "stdout",
          "output_type": "stream",
          "text": [
            "Number of observations in each class in the set:\n",
            "diagnostic\n",
            "1    1018\n",
            "0     933\n",
            "Name: count, dtype: int64\n"
          ]
        }
      ],
      "source": [
        "print(\"Number of observations in each class in the set:\")\n",
        "print(y_train.value_counts())"
      ]
    },
    {
      "cell_type": "code",
      "execution_count": 19,
      "metadata": {
        "colab": {
          "base_uri": "https://localhost:8080/"
        },
        "id": "kAArrZCsqKIM",
        "outputId": "ceea8710-93d1-4430-d8bc-3be4458ec2d1"
      },
      "outputs": [
        {
          "name": "stdout",
          "output_type": "stream",
          "text": [
            "              precision    recall  f1-score   support\n",
            "\n",
            "           0       0.71      0.87      0.78        39\n",
            "           1       0.98      0.95      0.97       302\n",
            "\n",
            "    accuracy                           0.94       341\n",
            "   macro avg       0.85      0.91      0.87       341\n",
            "weighted avg       0.95      0.94      0.95       341\n",
            "\n"
          ]
        }
      ],
      "source": [
        "LGBM3 =training(X_train, y_train)\n",
        "y_pred = predict('SMOTEENN',LGBM3, X_test, y_test)"
      ]
    },
    {
      "cell_type": "code",
      "execution_count": null,
      "metadata": {
        "id": "n30gjeRDUJwW"
      },
      "outputs": [],
      "source": []
    },
    {
      "cell_type": "code",
      "execution_count": 20,
      "metadata": {
        "colab": {
          "base_uri": "https://localhost:8080/"
        },
        "id": "ugU45SBeTyNO",
        "outputId": "de07c078-08cd-4073-8547-683066c35f25"
      },
      "outputs": [],
      "source": [
        "# from joblib import dump\n",
        "# dump(LGBM3,'/content/LGBM_SMOTEENN.joblib')"
      ]
    },
    {
      "cell_type": "code",
      "execution_count": 21,
      "metadata": {
        "id": "coDgVriNUIdg"
      },
      "outputs": [],
      "source": [
        "# from google.colab import drive\n",
        "# drive.mount('/content/drive')"
      ]
    },
    {
      "cell_type": "code",
      "execution_count": 22,
      "metadata": {
        "colab": {
          "base_uri": "https://localhost:8080/"
        },
        "id": "mJO13pfyqKIM",
        "outputId": "fd440418-7f80-42a0-e35c-ddd737434e5d"
      },
      "outputs": [
        {
          "name": "stdout",
          "output_type": "stream",
          "text": [
            "Fitting 5 folds for each of 324 candidates, totalling 1620 fits\n",
            "Best Parameters: {'extra_trees__max_depth': None, 'extra_trees__max_features': 'log2', 'extra_trees__min_samples_leaf': 1, 'extra_trees__min_samples_split': 2, 'extra_trees__n_estimators': 200}\n",
            "Best Score: 0.9938566463374648\n",
            "              precision    recall  f1-score   support\n",
            "\n",
            "           0       0.71      0.87      0.78        39\n",
            "           1       0.98      0.95      0.97       302\n",
            "\n",
            "    accuracy                           0.94       341\n",
            "   macro avg       0.85      0.91      0.87       341\n",
            "weighted avg       0.95      0.94      0.95       341\n",
            "\n"
          ]
        },
        {
          "name": "stderr",
          "output_type": "stream",
          "text": [
            "/Users/hneen/miniconda3/lib/python3.11/site-packages/sklearn/model_selection/_validation.py:542: FitFailedWarning: \n",
            "540 fits failed out of a total of 1620.\n",
            "The score on these train-test partitions for these parameters will be set to nan.\n",
            "If these failures are not expected, you can try to debug them by setting error_score='raise'.\n",
            "\n",
            "Below are more details about the failures:\n",
            "--------------------------------------------------------------------------------\n",
            "386 fits failed with the following error:\n",
            "Traceback (most recent call last):\n",
            "  File \"/Users/hneen/miniconda3/lib/python3.11/site-packages/sklearn/model_selection/_validation.py\", line 890, in _fit_and_score\n",
            "    estimator.fit(X_train, y_train, **fit_params)\n",
            "  File \"/Users/hneen/miniconda3/lib/python3.11/site-packages/sklearn/base.py\", line 1351, in wrapper\n",
            "    return fit_method(estimator, *args, **kwargs)\n",
            "           ^^^^^^^^^^^^^^^^^^^^^^^^^^^^^^^^^^^^^^\n",
            "  File \"/Users/hneen/miniconda3/lib/python3.11/site-packages/sklearn/pipeline.py\", line 475, in fit\n",
            "    self._final_estimator.fit(Xt, y, **last_step_params[\"fit\"])\n",
            "  File \"/Users/hneen/miniconda3/lib/python3.11/site-packages/sklearn/base.py\", line 1344, in wrapper\n",
            "    estimator._validate_params()\n",
            "  File \"/Users/hneen/miniconda3/lib/python3.11/site-packages/sklearn/base.py\", line 666, in _validate_params\n",
            "    validate_parameter_constraints(\n",
            "  File \"/Users/hneen/miniconda3/lib/python3.11/site-packages/sklearn/utils/_param_validation.py\", line 95, in validate_parameter_constraints\n",
            "    raise InvalidParameterError(\n",
            "sklearn.utils._param_validation.InvalidParameterError: The 'max_features' parameter of ExtraTreesClassifier must be an int in the range [1, inf), a float in the range (0.0, 1.0], a str among {'log2', 'sqrt'} or None. Got 'auto' instead.\n",
            "\n",
            "--------------------------------------------------------------------------------\n",
            "154 fits failed with the following error:\n",
            "Traceback (most recent call last):\n",
            "  File \"/Users/hneen/miniconda3/lib/python3.11/site-packages/sklearn/model_selection/_validation.py\", line 890, in _fit_and_score\n",
            "    estimator.fit(X_train, y_train, **fit_params)\n",
            "  File \"/Users/hneen/miniconda3/lib/python3.11/site-packages/sklearn/base.py\", line 1351, in wrapper\n",
            "    return fit_method(estimator, *args, **kwargs)\n",
            "           ^^^^^^^^^^^^^^^^^^^^^^^^^^^^^^^^^^^^^^\n",
            "  File \"/Users/hneen/miniconda3/lib/python3.11/site-packages/sklearn/pipeline.py\", line 475, in fit\n",
            "    self._final_estimator.fit(Xt, y, **last_step_params[\"fit\"])\n",
            "  File \"/Users/hneen/miniconda3/lib/python3.11/site-packages/sklearn/base.py\", line 1344, in wrapper\n",
            "    estimator._validate_params()\n",
            "  File \"/Users/hneen/miniconda3/lib/python3.11/site-packages/sklearn/base.py\", line 666, in _validate_params\n",
            "    validate_parameter_constraints(\n",
            "  File \"/Users/hneen/miniconda3/lib/python3.11/site-packages/sklearn/utils/_param_validation.py\", line 95, in validate_parameter_constraints\n",
            "    raise InvalidParameterError(\n",
            "sklearn.utils._param_validation.InvalidParameterError: The 'max_features' parameter of ExtraTreesClassifier must be an int in the range [1, inf), a float in the range (0.0, 1.0], a str among {'sqrt', 'log2'} or None. Got 'auto' instead.\n",
            "\n",
            "  warnings.warn(some_fits_failed_message, FitFailedWarning)\n",
            "/Users/hneen/miniconda3/lib/python3.11/site-packages/sklearn/model_selection/_search.py:1051: UserWarning: One or more of the test scores are non-finite: [       nan        nan        nan        nan        nan        nan\n",
            "        nan        nan        nan        nan        nan        nan\n",
            "        nan        nan        nan        nan        nan        nan\n",
            "        nan        nan        nan        nan        nan        nan\n",
            "        nan        nan        nan 0.99385533 0.99283232 0.99283232\n",
            " 0.99180799 0.99283363 0.99232081 0.9892452  0.99129648 0.99078366\n",
            " 0.99077972 0.98924388 0.98975539 0.98822087 0.98924388 0.98924388\n",
            " 0.98411961 0.98668109 0.98821956 0.97079415 0.97181848 0.97181848\n",
            " 0.97079415 0.97181848 0.97181848 0.96874549 0.969257   0.97079546\n",
            " 0.99334383 0.99385665 0.99385665 0.99334383 0.99385665 0.99385665\n",
            " 0.99334251 0.99283101 0.99283101 0.99282838 0.99282838 0.99333989\n",
            " 0.99231556 0.99231556 0.99231556 0.99077841 0.99026559 0.9902669\n",
            " 0.97591711 0.97438127 0.97335563 0.97591711 0.97438127 0.97335563\n",
            " 0.97489278 0.97232868 0.97335432        nan        nan        nan\n",
            "        nan        nan        nan        nan        nan        nan\n",
            "        nan        nan        nan        nan        nan        nan\n",
            "        nan        nan        nan        nan        nan        nan\n",
            "        nan        nan        nan        nan        nan        nan\n",
            " 0.98258115 0.98360548 0.98309397 0.98309135 0.98360417 0.98309397\n",
            " 0.97642862 0.97848121 0.97745557 0.9789901  0.97796315 0.97847728\n",
            " 0.98001705 0.98104138 0.97796708 0.97438258 0.97642862 0.97745557\n",
            " 0.96720834 0.96567119 0.96823529 0.96720834 0.96567119 0.96823529\n",
            " 0.96720703 0.96618139 0.96669552 0.9871926  0.9871926  0.98565414\n",
            " 0.98770411 0.9871926  0.98770411 0.98360155 0.98257722 0.98206702\n",
            " 0.98257591 0.98257722 0.98309004 0.98462588 0.98360024 0.98308873\n",
            " 0.98104138 0.97950423 0.98104138 0.9723313  0.97130566 0.97130566\n",
            " 0.9723313  0.97130566 0.97130566 0.97079284 0.96976851 0.96925569\n",
            "        nan        nan        nan        nan        nan        nan\n",
            "        nan        nan        nan        nan        nan        nan\n",
            "        nan        nan        nan        nan        nan        nan\n",
            "        nan        nan        nan        nan        nan        nan\n",
            "        nan        nan        nan 0.99385533 0.99283232 0.99283232\n",
            " 0.99180799 0.99283363 0.99232081 0.9892452  0.99129648 0.99078366\n",
            " 0.99077972 0.98924388 0.98975539 0.98822087 0.98924388 0.98924388\n",
            " 0.98411961 0.98668109 0.98821956 0.97079415 0.97181848 0.97181848\n",
            " 0.97079415 0.97181848 0.97181848 0.96874549 0.969257   0.97079546\n",
            " 0.99334383 0.99385665 0.99385665 0.99334383 0.99385665 0.99385665\n",
            " 0.99334251 0.99283101 0.99283101 0.99282838 0.99282838 0.99333989\n",
            " 0.99231556 0.99231556 0.99231556 0.99077841 0.99026559 0.9902669\n",
            " 0.97591711 0.97438127 0.97335563 0.97591711 0.97438127 0.97335563\n",
            " 0.97489278 0.97232868 0.97335432        nan        nan        nan\n",
            "        nan        nan        nan        nan        nan        nan\n",
            "        nan        nan        nan        nan        nan        nan\n",
            "        nan        nan        nan        nan        nan        nan\n",
            "        nan        nan        nan        nan        nan        nan\n",
            " 0.99385533 0.99283232 0.99283232 0.99180799 0.99283363 0.99232081\n",
            " 0.9892452  0.99129648 0.99078366 0.99077972 0.98924388 0.98975539\n",
            " 0.98822087 0.98924388 0.98924388 0.98411961 0.98668109 0.98821956\n",
            " 0.97079415 0.97181848 0.97181848 0.97079415 0.97181848 0.97181848\n",
            " 0.96874549 0.969257   0.97079546 0.99334383 0.99385665 0.99385665\n",
            " 0.99334383 0.99385665 0.99385665 0.99334251 0.99283101 0.99283101\n",
            " 0.99282838 0.99282838 0.99333989 0.99231556 0.99231556 0.99231556\n",
            " 0.99077841 0.99026559 0.9902669  0.97591711 0.97438127 0.97335563\n",
            " 0.97591711 0.97438127 0.97335563 0.97489278 0.97232868 0.97335432]\n",
            "  warnings.warn(\n"
          ]
        }
      ],
      "source": [
        "best_LGBM3 = optimize_with_grid(X_train, y_train)\n",
        "prediction = predict('SMOTEENN_grid',best_LGBM3, X_test, y_test)"
      ]
    },
    {
      "cell_type": "markdown",
      "metadata": {
        "id": "1PnNxWS7qKIN"
      },
      "source": [
        "<h1> DT on Random undersampling </h1>"
      ]
    },
    {
      "cell_type": "code",
      "execution_count": 23,
      "metadata": {
        "id": "hyBeGwkxqKIN"
      },
      "outputs": [],
      "source": [
        "X_train, X_test, y_train, y_test = splitting_data(df, 'under')\n",
        "scaler = StandardScaler()\n",
        "X_train = scaler.fit_transform(X_train)\n",
        "X_test = scaler.transform(X_test)"
      ]
    },
    {
      "cell_type": "code",
      "execution_count": 24,
      "metadata": {
        "colab": {
          "base_uri": "https://localhost:8080/"
        },
        "id": "CngNW2VoqKIN",
        "outputId": "4e5988f1-e887-494e-9094-9f36ec80c007"
      },
      "outputs": [
        {
          "name": "stdout",
          "output_type": "stream",
          "text": [
            "Number of observations in each class in the set:\n",
            "diagnostic\n",
            "0    172\n",
            "1    172\n",
            "Name: count, dtype: int64\n"
          ]
        }
      ],
      "source": [
        "print(\"Number of observations in each class in the set:\")\n",
        "print(y_train.value_counts())"
      ]
    },
    {
      "cell_type": "code",
      "execution_count": 25,
      "metadata": {
        "colab": {
          "base_uri": "https://localhost:8080/"
        },
        "id": "oWfctngdqKIN",
        "outputId": "5f3cc946-e233-4d0d-8dc9-5981be847412"
      },
      "outputs": [
        {
          "name": "stdout",
          "output_type": "stream",
          "text": [
            "              precision    recall  f1-score   support\n",
            "\n",
            "           0       0.47      0.90      0.62        39\n",
            "           1       0.99      0.87      0.92       302\n",
            "\n",
            "    accuracy                           0.87       341\n",
            "   macro avg       0.73      0.88      0.77       341\n",
            "weighted avg       0.93      0.87      0.89       341\n",
            "\n"
          ]
        }
      ],
      "source": [
        "LGBM4 =training(X_train, y_train)\n",
        "y_pred = predict('undersampling',LGBM4, X_test, y_test)"
      ]
    },
    {
      "cell_type": "code",
      "execution_count": 26,
      "metadata": {
        "colab": {
          "base_uri": "https://localhost:8080/"
        },
        "id": "Gphc1Qn_qKIN",
        "outputId": "0209143e-94d9-4d5a-83c3-3ae43c82854d"
      },
      "outputs": [
        {
          "name": "stdout",
          "output_type": "stream",
          "text": [
            "Fitting 5 folds for each of 324 candidates, totalling 1620 fits\n",
            "Best Parameters: {'extra_trees__max_depth': 10, 'extra_trees__max_features': 'sqrt', 'extra_trees__min_samples_leaf': 2, 'extra_trees__min_samples_split': 2, 'extra_trees__n_estimators': 100}\n",
            "Best Score: 0.8953537936913897\n",
            "              precision    recall  f1-score   support\n",
            "\n",
            "           0       0.51      0.90      0.65        39\n",
            "           1       0.99      0.89      0.93       302\n",
            "\n",
            "    accuracy                           0.89       341\n",
            "   macro avg       0.75      0.89      0.79       341\n",
            "weighted avg       0.93      0.89      0.90       341\n",
            "\n"
          ]
        },
        {
          "name": "stderr",
          "output_type": "stream",
          "text": [
            "/Users/hneen/miniconda3/lib/python3.11/site-packages/sklearn/model_selection/_validation.py:542: FitFailedWarning: \n",
            "540 fits failed out of a total of 1620.\n",
            "The score on these train-test partitions for these parameters will be set to nan.\n",
            "If these failures are not expected, you can try to debug them by setting error_score='raise'.\n",
            "\n",
            "Below are more details about the failures:\n",
            "--------------------------------------------------------------------------------\n",
            "259 fits failed with the following error:\n",
            "Traceback (most recent call last):\n",
            "  File \"/Users/hneen/miniconda3/lib/python3.11/site-packages/sklearn/model_selection/_validation.py\", line 890, in _fit_and_score\n",
            "    estimator.fit(X_train, y_train, **fit_params)\n",
            "  File \"/Users/hneen/miniconda3/lib/python3.11/site-packages/sklearn/base.py\", line 1351, in wrapper\n",
            "    return fit_method(estimator, *args, **kwargs)\n",
            "           ^^^^^^^^^^^^^^^^^^^^^^^^^^^^^^^^^^^^^^\n",
            "  File \"/Users/hneen/miniconda3/lib/python3.11/site-packages/sklearn/pipeline.py\", line 475, in fit\n",
            "    self._final_estimator.fit(Xt, y, **last_step_params[\"fit\"])\n",
            "  File \"/Users/hneen/miniconda3/lib/python3.11/site-packages/sklearn/base.py\", line 1344, in wrapper\n",
            "    estimator._validate_params()\n",
            "  File \"/Users/hneen/miniconda3/lib/python3.11/site-packages/sklearn/base.py\", line 666, in _validate_params\n",
            "    validate_parameter_constraints(\n",
            "  File \"/Users/hneen/miniconda3/lib/python3.11/site-packages/sklearn/utils/_param_validation.py\", line 95, in validate_parameter_constraints\n",
            "    raise InvalidParameterError(\n",
            "sklearn.utils._param_validation.InvalidParameterError: The 'max_features' parameter of ExtraTreesClassifier must be an int in the range [1, inf), a float in the range (0.0, 1.0], a str among {'log2', 'sqrt'} or None. Got 'auto' instead.\n",
            "\n",
            "--------------------------------------------------------------------------------\n",
            "281 fits failed with the following error:\n",
            "Traceback (most recent call last):\n",
            "  File \"/Users/hneen/miniconda3/lib/python3.11/site-packages/sklearn/model_selection/_validation.py\", line 890, in _fit_and_score\n",
            "    estimator.fit(X_train, y_train, **fit_params)\n",
            "  File \"/Users/hneen/miniconda3/lib/python3.11/site-packages/sklearn/base.py\", line 1351, in wrapper\n",
            "    return fit_method(estimator, *args, **kwargs)\n",
            "           ^^^^^^^^^^^^^^^^^^^^^^^^^^^^^^^^^^^^^^\n",
            "  File \"/Users/hneen/miniconda3/lib/python3.11/site-packages/sklearn/pipeline.py\", line 475, in fit\n",
            "    self._final_estimator.fit(Xt, y, **last_step_params[\"fit\"])\n",
            "  File \"/Users/hneen/miniconda3/lib/python3.11/site-packages/sklearn/base.py\", line 1344, in wrapper\n",
            "    estimator._validate_params()\n",
            "  File \"/Users/hneen/miniconda3/lib/python3.11/site-packages/sklearn/base.py\", line 666, in _validate_params\n",
            "    validate_parameter_constraints(\n",
            "  File \"/Users/hneen/miniconda3/lib/python3.11/site-packages/sklearn/utils/_param_validation.py\", line 95, in validate_parameter_constraints\n",
            "    raise InvalidParameterError(\n",
            "sklearn.utils._param_validation.InvalidParameterError: The 'max_features' parameter of ExtraTreesClassifier must be an int in the range [1, inf), a float in the range (0.0, 1.0], a str among {'sqrt', 'log2'} or None. Got 'auto' instead.\n",
            "\n",
            "  warnings.warn(some_fits_failed_message, FitFailedWarning)\n",
            "/Users/hneen/miniconda3/lib/python3.11/site-packages/sklearn/model_selection/_search.py:1051: UserWarning: One or more of the test scores are non-finite: [       nan        nan        nan        nan        nan        nan\n",
            "        nan        nan        nan        nan        nan        nan\n",
            "        nan        nan        nan        nan        nan        nan\n",
            "        nan        nan        nan        nan        nan        nan\n",
            "        nan        nan        nan 0.87796249 0.87796249 0.88086104\n",
            " 0.88661552 0.87787724 0.88077579 0.87493606 0.88069054 0.87779199\n",
            " 0.88077579 0.87497869 0.86918159 0.87203751 0.86334186 0.86624041\n",
            " 0.87497869 0.87787724 0.87787724 0.86918159 0.87208014 0.86913896\n",
            " 0.86918159 0.87208014 0.86913896 0.87208014 0.87791986 0.86918159\n",
            " 0.88081841 0.88375959 0.88670077 0.88367434 0.88367434 0.88371697\n",
            " 0.88661552 0.88363171 0.88073316 0.88371697 0.88371697 0.88661552\n",
            " 0.87787724 0.88077579 0.87787724 0.88947144 0.88367434 0.88657289\n",
            " 0.87787724 0.87787724 0.87497869 0.87787724 0.87787724 0.87497869\n",
            " 0.87787724 0.88081841 0.87791986        nan        nan        nan\n",
            "        nan        nan        nan        nan        nan        nan\n",
            "        nan        nan        nan        nan        nan        nan\n",
            "        nan        nan        nan        nan        nan        nan\n",
            "        nan        nan        nan        nan        nan        nan\n",
            " 0.87791986 0.87791986 0.87791986 0.89241262 0.88657289 0.88657289\n",
            " 0.87787724 0.88073316 0.88073316 0.89535379 0.88661552 0.87791986\n",
            " 0.87783461 0.87203751 0.87497869 0.87208014 0.88077579 0.87497869\n",
            " 0.87502131 0.88081841 0.87208014 0.87502131 0.88081841 0.87208014\n",
            " 0.87208014 0.87791986 0.87502131 0.87791986 0.88375959 0.88371697\n",
            " 0.88661552 0.89535379 0.88951407 0.89526854 0.89236999 0.88947144\n",
            " 0.88951407 0.88661552 0.89241262 0.88661552 0.88077579 0.88367434\n",
            " 0.88657289 0.88657289 0.88657289 0.87787724 0.87497869 0.87208014\n",
            " 0.87787724 0.87497869 0.87208014 0.87787724 0.88081841 0.87791986\n",
            "        nan        nan        nan        nan        nan        nan\n",
            "        nan        nan        nan        nan        nan        nan\n",
            "        nan        nan        nan        nan        nan        nan\n",
            "        nan        nan        nan        nan        nan        nan\n",
            "        nan        nan        nan 0.87796249 0.87796249 0.88086104\n",
            " 0.88661552 0.87787724 0.88077579 0.87493606 0.88069054 0.87779199\n",
            " 0.88077579 0.87497869 0.86918159 0.87203751 0.86334186 0.86624041\n",
            " 0.87497869 0.87787724 0.87787724 0.86918159 0.87208014 0.86913896\n",
            " 0.86918159 0.87208014 0.86913896 0.87208014 0.87791986 0.86918159\n",
            " 0.88081841 0.88375959 0.88670077 0.88367434 0.88367434 0.88371697\n",
            " 0.88661552 0.88363171 0.88073316 0.88371697 0.88371697 0.88661552\n",
            " 0.87787724 0.88077579 0.87787724 0.88947144 0.88367434 0.88657289\n",
            " 0.87787724 0.87787724 0.87497869 0.87787724 0.87787724 0.87497869\n",
            " 0.87787724 0.88081841 0.87791986        nan        nan        nan\n",
            "        nan        nan        nan        nan        nan        nan\n",
            "        nan        nan        nan        nan        nan        nan\n",
            "        nan        nan        nan        nan        nan        nan\n",
            "        nan        nan        nan        nan        nan        nan\n",
            " 0.87796249 0.87796249 0.88086104 0.88661552 0.87787724 0.88077579\n",
            " 0.87493606 0.88069054 0.87779199 0.88077579 0.87497869 0.86918159\n",
            " 0.87203751 0.86334186 0.86624041 0.87497869 0.87787724 0.87787724\n",
            " 0.86918159 0.87208014 0.86913896 0.86918159 0.87208014 0.86913896\n",
            " 0.87208014 0.87791986 0.86918159 0.88081841 0.88375959 0.88670077\n",
            " 0.88367434 0.88367434 0.88371697 0.88661552 0.88363171 0.88073316\n",
            " 0.88371697 0.88371697 0.88661552 0.87787724 0.88077579 0.87787724\n",
            " 0.88947144 0.88367434 0.88657289 0.87787724 0.87787724 0.87497869\n",
            " 0.87787724 0.87787724 0.87497869 0.87787724 0.88081841 0.87791986]\n",
            "  warnings.warn(\n"
          ]
        }
      ],
      "source": [
        "best_LGBM4 = optimize_with_grid(X_train, y_train)\n",
        "prediction = predict('undersampling_grid',best_LGBM4, X_test, y_test)"
      ]
    },
    {
      "cell_type": "markdown",
      "metadata": {
        "id": "gwX52mz6rJQM"
      },
      "source": [
        "<h1> DT on Random Oversampling </h1>"
      ]
    },
    {
      "cell_type": "code",
      "execution_count": 27,
      "metadata": {
        "id": "vRNY2IctrJQY"
      },
      "outputs": [],
      "source": [
        "X_train, X_test, y_train, y_test = splitting_data(df, 'over')\n",
        "scaler = StandardScaler()\n",
        "X_train = scaler.fit_transform(X_train)\n",
        "X_test = scaler.transform(X_test)"
      ]
    },
    {
      "cell_type": "code",
      "execution_count": 28,
      "metadata": {
        "colab": {
          "base_uri": "https://localhost:8080/"
        },
        "id": "5fQJF0p-rJQY",
        "outputId": "91d1cd54-a355-432b-d511-8707f92a9812"
      },
      "outputs": [
        {
          "name": "stdout",
          "output_type": "stream",
          "text": [
            "Number of observations in each class in the set:\n",
            "diagnostic\n",
            "1    1192\n",
            "0    1192\n",
            "Name: count, dtype: int64\n"
          ]
        }
      ],
      "source": [
        "print(\"Number of observations in each class in the set:\")\n",
        "print(y_train.value_counts())"
      ]
    },
    {
      "cell_type": "code",
      "execution_count": 29,
      "metadata": {
        "colab": {
          "base_uri": "https://localhost:8080/"
        },
        "id": "tHyDEyJMrJQZ",
        "outputId": "910b50ab-9f84-4f3b-a9b6-67de99d6a906"
      },
      "outputs": [
        {
          "name": "stdout",
          "output_type": "stream",
          "text": [
            "              precision    recall  f1-score   support\n",
            "\n",
            "           0       0.77      0.85      0.80        39\n",
            "           1       0.98      0.97      0.97       302\n",
            "\n",
            "    accuracy                           0.95       341\n",
            "   macro avg       0.87      0.91      0.89       341\n",
            "weighted avg       0.96      0.95      0.95       341\n",
            "\n"
          ]
        }
      ],
      "source": [
        "LGBM5 =training(X_train, y_train)\n",
        "y_pred = predict('oversampling',LGBM5, X_test, y_test)"
      ]
    },
    {
      "cell_type": "code",
      "execution_count": 30,
      "metadata": {
        "colab": {
          "base_uri": "https://localhost:8080/"
        },
        "id": "LtbUa8ZIrrWY",
        "outputId": "f506ca33-9fd4-46a6-f8ae-21d1e14b7de3"
      },
      "outputs": [
        {
          "name": "stdout",
          "output_type": "stream",
          "text": [
            "Fitting 5 folds for each of 324 candidates, totalling 1620 fits\n",
            "Best Parameters: {'extra_trees__max_depth': None, 'extra_trees__max_features': 'sqrt', 'extra_trees__min_samples_leaf': 1, 'extra_trees__min_samples_split': 2, 'extra_trees__n_estimators': 100}\n",
            "Best Score: 0.972735760971055\n",
            "              precision    recall  f1-score   support\n",
            "\n",
            "           0       0.75      0.85      0.80        39\n",
            "           1       0.98      0.96      0.97       302\n",
            "\n",
            "    accuracy                           0.95       341\n",
            "   macro avg       0.86      0.90      0.88       341\n",
            "weighted avg       0.95      0.95      0.95       341\n",
            "\n"
          ]
        },
        {
          "name": "stderr",
          "output_type": "stream",
          "text": [
            "/Users/hneen/miniconda3/lib/python3.11/site-packages/sklearn/model_selection/_validation.py:542: FitFailedWarning: \n",
            "540 fits failed out of a total of 1620.\n",
            "The score on these train-test partitions for these parameters will be set to nan.\n",
            "If these failures are not expected, you can try to debug them by setting error_score='raise'.\n",
            "\n",
            "Below are more details about the failures:\n",
            "--------------------------------------------------------------------------------\n",
            "284 fits failed with the following error:\n",
            "Traceback (most recent call last):\n",
            "  File \"/Users/hneen/miniconda3/lib/python3.11/site-packages/sklearn/model_selection/_validation.py\", line 890, in _fit_and_score\n",
            "    estimator.fit(X_train, y_train, **fit_params)\n",
            "  File \"/Users/hneen/miniconda3/lib/python3.11/site-packages/sklearn/base.py\", line 1351, in wrapper\n",
            "    return fit_method(estimator, *args, **kwargs)\n",
            "           ^^^^^^^^^^^^^^^^^^^^^^^^^^^^^^^^^^^^^^\n",
            "  File \"/Users/hneen/miniconda3/lib/python3.11/site-packages/sklearn/pipeline.py\", line 475, in fit\n",
            "    self._final_estimator.fit(Xt, y, **last_step_params[\"fit\"])\n",
            "  File \"/Users/hneen/miniconda3/lib/python3.11/site-packages/sklearn/base.py\", line 1344, in wrapper\n",
            "    estimator._validate_params()\n",
            "  File \"/Users/hneen/miniconda3/lib/python3.11/site-packages/sklearn/base.py\", line 666, in _validate_params\n",
            "    validate_parameter_constraints(\n",
            "  File \"/Users/hneen/miniconda3/lib/python3.11/site-packages/sklearn/utils/_param_validation.py\", line 95, in validate_parameter_constraints\n",
            "    raise InvalidParameterError(\n",
            "sklearn.utils._param_validation.InvalidParameterError: The 'max_features' parameter of ExtraTreesClassifier must be an int in the range [1, inf), a float in the range (0.0, 1.0], a str among {'sqrt', 'log2'} or None. Got 'auto' instead.\n",
            "\n",
            "--------------------------------------------------------------------------------\n",
            "256 fits failed with the following error:\n",
            "Traceback (most recent call last):\n",
            "  File \"/Users/hneen/miniconda3/lib/python3.11/site-packages/sklearn/model_selection/_validation.py\", line 890, in _fit_and_score\n",
            "    estimator.fit(X_train, y_train, **fit_params)\n",
            "  File \"/Users/hneen/miniconda3/lib/python3.11/site-packages/sklearn/base.py\", line 1351, in wrapper\n",
            "    return fit_method(estimator, *args, **kwargs)\n",
            "           ^^^^^^^^^^^^^^^^^^^^^^^^^^^^^^^^^^^^^^\n",
            "  File \"/Users/hneen/miniconda3/lib/python3.11/site-packages/sklearn/pipeline.py\", line 475, in fit\n",
            "    self._final_estimator.fit(Xt, y, **last_step_params[\"fit\"])\n",
            "  File \"/Users/hneen/miniconda3/lib/python3.11/site-packages/sklearn/base.py\", line 1344, in wrapper\n",
            "    estimator._validate_params()\n",
            "  File \"/Users/hneen/miniconda3/lib/python3.11/site-packages/sklearn/base.py\", line 666, in _validate_params\n",
            "    validate_parameter_constraints(\n",
            "  File \"/Users/hneen/miniconda3/lib/python3.11/site-packages/sklearn/utils/_param_validation.py\", line 95, in validate_parameter_constraints\n",
            "    raise InvalidParameterError(\n",
            "sklearn.utils._param_validation.InvalidParameterError: The 'max_features' parameter of ExtraTreesClassifier must be an int in the range [1, inf), a float in the range (0.0, 1.0], a str among {'log2', 'sqrt'} or None. Got 'auto' instead.\n",
            "\n",
            "  warnings.warn(some_fits_failed_message, FitFailedWarning)\n",
            "/Users/hneen/miniconda3/lib/python3.11/site-packages/sklearn/model_selection/_search.py:1051: UserWarning: One or more of the test scores are non-finite: [       nan        nan        nan        nan        nan        nan\n",
            "        nan        nan        nan        nan        nan        nan\n",
            "        nan        nan        nan        nan        nan        nan\n",
            "        nan        nan        nan        nan        nan        nan\n",
            "        nan        nan        nan 0.97273576 0.97273576 0.97273576\n",
            " 0.97273576 0.97273576 0.97273576 0.96896041 0.96644469 0.96686398\n",
            " 0.95553794 0.95386079 0.95428008 0.95386079 0.95386079 0.95428008\n",
            " 0.95134507 0.95134507 0.95218364 0.92995261 0.93246833 0.93120959\n",
            " 0.92995261 0.93246833 0.93120959 0.93163504 0.92995085 0.93078942\n",
            " 0.97273576 0.97273576 0.97273576 0.97273576 0.97273576 0.97273576\n",
            " 0.96854113 0.96770255 0.96770255 0.95595723 0.95595723 0.95553794\n",
            " 0.95637651 0.95553794 0.95511865 0.95553794 0.95763437 0.95595634\n",
            " 0.92953068 0.92743336 0.92827282 0.92953068 0.92743336 0.92827282\n",
            " 0.92911051 0.92911139 0.92827458        nan        nan        nan\n",
            "        nan        nan        nan        nan        nan        nan\n",
            "        nan        nan        nan        nan        nan        nan\n",
            "        nan        nan        nan        nan        nan        nan\n",
            "        nan        nan        nan        nan        nan        nan\n",
            " 0.93582351 0.93498494 0.93582351 0.93498494 0.93414636 0.93498494\n",
            " 0.93456565 0.93330515 0.93288586 0.92827282 0.93037102 0.92953068\n",
            " 0.92743336 0.92994997 0.92953068 0.92911139 0.92743336 0.92785265\n",
            " 0.9228212  0.92198351 0.92198351 0.9228212  0.92198351 0.92198351\n",
            " 0.92114406 0.92282208 0.9224028  0.93834188 0.93708137 0.93750066\n",
            " 0.93833924 0.93540422 0.93666209 0.93540422 0.9362428  0.93540422\n",
            " 0.9307903  0.9307903  0.93162888 0.93162888 0.9307903  0.93162888\n",
            " 0.92995085 0.93078942 0.93120871 0.92407818 0.92198263 0.92324049\n",
            " 0.92407818 0.92198263 0.92324049 0.92323961 0.92324049 0.92240104\n",
            "        nan        nan        nan        nan        nan        nan\n",
            "        nan        nan        nan        nan        nan        nan\n",
            "        nan        nan        nan        nan        nan        nan\n",
            "        nan        nan        nan        nan        nan        nan\n",
            "        nan        nan        nan 0.97273576 0.97273576 0.97273576\n",
            " 0.97273576 0.97273576 0.97273576 0.96896041 0.96770255 0.96812184\n",
            " 0.95553794 0.95428008 0.95428008 0.95428008 0.95386079 0.95428008\n",
            " 0.95176435 0.95260293 0.95260293 0.92995261 0.93246833 0.93120959\n",
            " 0.92995261 0.93246833 0.93120959 0.93163504 0.92995085 0.93078942\n",
            " 0.97273576 0.97273576 0.97273576 0.97273576 0.97273576 0.97273576\n",
            " 0.96770255 0.96770255 0.96770255 0.95595723 0.95595723 0.95553794\n",
            " 0.95637651 0.95553794 0.95511865 0.95553794 0.95763437 0.95595634\n",
            " 0.92953068 0.92743336 0.92827282 0.92953068 0.92743336 0.92827282\n",
            " 0.92869122 0.92911139 0.92953244        nan        nan        nan\n",
            "        nan        nan        nan        nan        nan        nan\n",
            "        nan        nan        nan        nan        nan        nan\n",
            "        nan        nan        nan        nan        nan        nan\n",
            "        nan        nan        nan        nan        nan        nan\n",
            " 0.97273576 0.97273576 0.97273576 0.97273576 0.97273576 0.97273576\n",
            " 0.96896041 0.96644469 0.96686398 0.95553794 0.95386079 0.95428008\n",
            " 0.95386079 0.95386079 0.95428008 0.95134507 0.95134507 0.95218364\n",
            " 0.92995261 0.93246833 0.93120959 0.92995261 0.93246833 0.93120959\n",
            " 0.93163504 0.92995085 0.93078942 0.97273576 0.97273576 0.97273576\n",
            " 0.97273576 0.97273576 0.97273576 0.96854113 0.96770255 0.96770255\n",
            " 0.95595723 0.95595723 0.95553794 0.95637651 0.95553794 0.95511865\n",
            " 0.95553794 0.95763437 0.95595634 0.92953068 0.92743336 0.92827282\n",
            " 0.92953068 0.92743336 0.92827282 0.92911051 0.92911139 0.92827458]\n",
            "  warnings.warn(\n"
          ]
        }
      ],
      "source": [
        "best_LGBM5 = optimize_with_grid(X_train, y_train)\n",
        "prediction = predict('oversampling_grid',best_LGBM5, X_test, y_test)"
      ]
    },
    {
      "cell_type": "code",
      "execution_count": 31,
      "metadata": {
        "colab": {
          "base_uri": "https://localhost:8080/",
          "height": 488
        },
        "id": "_KHeS-NAOfGc",
        "outputId": "b266a67b-2bac-4887-cb70-63238ab818dc"
      },
      "outputs": [
        {
          "data": {
            "text/html": [
              "<div>\n",
              "<style scoped>\n",
              "    .dataframe tbody tr th:only-of-type {\n",
              "        vertical-align: middle;\n",
              "    }\n",
              "\n",
              "    .dataframe tbody tr th {\n",
              "        vertical-align: top;\n",
              "    }\n",
              "\n",
              "    .dataframe thead th {\n",
              "        text-align: right;\n",
              "    }\n",
              "</style>\n",
              "<table border=\"1\" class=\"dataframe\">\n",
              "  <thead>\n",
              "    <tr style=\"text-align: right;\">\n",
              "      <th></th>\n",
              "      <th>accuracy</th>\n",
              "      <th>precision</th>\n",
              "      <th>recall</th>\n",
              "      <th>f1</th>\n",
              "    </tr>\n",
              "  </thead>\n",
              "  <tbody>\n",
              "    <tr>\n",
              "      <th>original_grid</th>\n",
              "      <td>0.958944</td>\n",
              "      <td>0.958944</td>\n",
              "      <td>0.958944</td>\n",
              "      <td>0.958944</td>\n",
              "    </tr>\n",
              "    <tr>\n",
              "      <th>SMOTE_grid</th>\n",
              "      <td>0.956012</td>\n",
              "      <td>0.956530</td>\n",
              "      <td>0.956012</td>\n",
              "      <td>0.956254</td>\n",
              "    </tr>\n",
              "    <tr>\n",
              "      <th>original</th>\n",
              "      <td>0.953079</td>\n",
              "      <td>0.953079</td>\n",
              "      <td>0.953079</td>\n",
              "      <td>0.953079</td>\n",
              "    </tr>\n",
              "    <tr>\n",
              "      <th>SMOTE</th>\n",
              "      <td>0.953079</td>\n",
              "      <td>0.955571</td>\n",
              "      <td>0.953079</td>\n",
              "      <td>0.954067</td>\n",
              "    </tr>\n",
              "    <tr>\n",
              "      <th>oversampling</th>\n",
              "      <td>0.953079</td>\n",
              "      <td>0.955571</td>\n",
              "      <td>0.953079</td>\n",
              "      <td>0.954067</td>\n",
              "    </tr>\n",
              "    <tr>\n",
              "      <th>oversampling_grid</th>\n",
              "      <td>0.950147</td>\n",
              "      <td>0.953516</td>\n",
              "      <td>0.950147</td>\n",
              "      <td>0.951440</td>\n",
              "    </tr>\n",
              "    <tr>\n",
              "      <th>SMOTEENN</th>\n",
              "      <td>0.944282</td>\n",
              "      <td>0.951529</td>\n",
              "      <td>0.944282</td>\n",
              "      <td>0.946742</td>\n",
              "    </tr>\n",
              "    <tr>\n",
              "      <th>SMOTEENN_grid</th>\n",
              "      <td>0.944282</td>\n",
              "      <td>0.951529</td>\n",
              "      <td>0.944282</td>\n",
              "      <td>0.946742</td>\n",
              "    </tr>\n",
              "    <tr>\n",
              "      <th>undersampling_grid</th>\n",
              "      <td>0.888563</td>\n",
              "      <td>0.930620</td>\n",
              "      <td>0.888563</td>\n",
              "      <td>0.901128</td>\n",
              "    </tr>\n",
              "    <tr>\n",
              "      <th>undersampling</th>\n",
              "      <td>0.873900</td>\n",
              "      <td>0.926456</td>\n",
              "      <td>0.873900</td>\n",
              "      <td>0.889551</td>\n",
              "    </tr>\n",
              "  </tbody>\n",
              "</table>\n",
              "</div>"
            ],
            "text/plain": [
              "                    accuracy  precision    recall        f1\n",
              "original_grid       0.958944   0.958944  0.958944  0.958944\n",
              "SMOTE_grid          0.956012   0.956530  0.956012  0.956254\n",
              "original            0.953079   0.953079  0.953079  0.953079\n",
              "SMOTE               0.953079   0.955571  0.953079  0.954067\n",
              "oversampling        0.953079   0.955571  0.953079  0.954067\n",
              "oversampling_grid   0.950147   0.953516  0.950147  0.951440\n",
              "SMOTEENN            0.944282   0.951529  0.944282  0.946742\n",
              "SMOTEENN_grid       0.944282   0.951529  0.944282  0.946742\n",
              "undersampling_grid  0.888563   0.930620  0.888563  0.901128\n",
              "undersampling       0.873900   0.926456  0.873900  0.889551"
            ]
          },
          "execution_count": 31,
          "metadata": {},
          "output_type": "execute_result"
        }
      ],
      "source": [
        "best_model_df = pd.DataFrame.from_dict(best_models, orient='index')\n",
        "best_model_df.sort_values(by='accuracy', ascending=False, inplace=True)\n",
        "best_model_df"
      ]
    },
    {
      "cell_type": "code",
      "execution_count": null,
      "metadata": {
        "id": "c6ECXu3QQryM"
      },
      "outputs": [],
      "source": []
    }
  ],
  "metadata": {
    "colab": {
      "provenance": []
    },
    "kernelspec": {
      "display_name": "Python 3 (ipykernel)",
      "language": "python",
      "name": "python3"
    },
    "language_info": {
      "codemirror_mode": {
        "name": "ipython",
        "version": 3
      },
      "file_extension": ".py",
      "mimetype": "text/x-python",
      "name": "python",
      "nbconvert_exporter": "python",
      "pygments_lexer": "ipython3",
      "version": "3.11.7"
    }
  },
  "nbformat": 4,
  "nbformat_minor": 0
}
