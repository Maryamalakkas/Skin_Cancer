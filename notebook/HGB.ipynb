{
 "cells": [
  {
   "cell_type": "code",
   "execution_count": 15,
   "metadata": {},
   "outputs": [],
   "source": [
    "import pandas as pd\n",
    "import numpy as np\n",
    "from sklearn.experimental import enable_hist_gradient_boosting  # noqa\n",
    "from sklearn.ensemble import HistGradientBoostingClassifier\n",
    "from sklearn.model_selection import train_test_split\n",
    "from sklearn.metrics import accuracy_score, precision_score, recall_score, f1_score\n",
    "from imblearn.over_sampling import SMOTE\n",
    "from imblearn.under_sampling import RandomUnderSampler\n",
    "from imblearn.pipeline import Pipeline\n",
    "from sklearn.metrics import classification_report\n",
    "from imblearn.combine import SMOTEENN\n",
    "import matplotlib.pyplot as plt\n",
    "import seaborn as sns\n"
   ]
  },
  {
   "cell_type": "code",
   "execution_count": 16,
   "metadata": {},
   "outputs": [],
   "source": [
    "# load data\n",
    "random_state=42\n",
    "best_models = {}\n",
    "\n",
    "data = pd.read_csv('../Data/Final_skin_cancer.csv')\n",
    "data.drop('drink', axis=1, inplace=True)\n"
   ]
  },
  {
   "cell_type": "code",
   "execution_count": 17,
   "metadata": {},
   "outputs": [],
   "source": [
    "# data.drop(['fitspatrick','region_hash_0','region_hash_1','region_hash_2','region_hash_3','region_hash_4','region_hash_5','region_hash_6','region_hash_7','region_hash_8','region_hash_9','changed','bleed','elevation','biopsed','diameter_2','diameter_1','itch','grew','hurt'], axis=1, inplace=True)"
   ]
  },
  {
   "cell_type": "code",
   "execution_count": 18,
   "metadata": {},
   "outputs": [],
   "source": [
    "# data"
   ]
  },
  {
   "cell_type": "code",
   "execution_count": 19,
   "metadata": {},
   "outputs": [],
   "source": [
    "from sklearn.model_selection import train_test_split\n",
    "\n",
    "def splitting_data(df, sampling, test_size=0.2, random_state=123):\n",
    "    # First, split the data into features and target variable\n",
    "    X = df.drop(['diagnostic'], axis=1)\n",
    "    y = df['diagnostic']\n",
    "    \n",
    "    # Split the data into training and test sets\n",
    "    X_train, X_test, y_train, y_test = train_test_split(X, y, test_size=test_size, random_state=random_state)\n",
    "    \n",
    "    # Apply sampling methods to the training data based on the specified method\n",
    "    if sampling == 'none':\n",
    "        return X_train, X_test, y_train, y_test\n",
    "    elif sampling == 'SMOTEENN':\n",
    "        from imblearn.combine import SMOTEENN\n",
    "        smote_enn = SMOTEENN(random_state=random_state)\n",
    "        X_resampled, y_resampled = smote_enn.fit_resample(X_train, y_train)\n",
    "        return X_resampled, X_test, y_resampled, y_test\n",
    "    elif sampling == 'SMOTE':\n",
    "        from imblearn.over_sampling import SMOTE\n",
    "        smote = SMOTE(random_state=random_state)\n",
    "        X_resampled, y_resampled = smote.fit_resample(X_train, y_train)\n",
    "        return X_resampled, X_test, y_resampled, y_test\n",
    "    elif sampling == 'under':\n",
    "        from imblearn.under_sampling import RandomUnderSampler\n",
    "        rus = RandomUnderSampler(random_state=random_state)\n",
    "        X_resampled, y_resampled = rus.fit_resample(X_train, y_train)\n",
    "        return X_resampled, X_test, y_resampled, y_test\n",
    "    elif sampling == 'over':\n",
    "        from imblearn.over_sampling import RandomOverSampler\n",
    "        rus = RandomOverSampler(random_state=random_state)\n",
    "        X_resampled, y_resampled = rus.fit_resample(X_train, y_train)\n",
    "        return X_resampled, X_test, y_resampled, y_test\n"
   ]
  },
  {
   "cell_type": "code",
   "execution_count": 20,
   "metadata": {},
   "outputs": [],
   "source": [
    "\n",
    "def training(X_train, y_train):\n",
    "\n",
    "    HGB = HistGradientBoostingClassifier()\n",
    "    # Fit the classifier to the data\n",
    "    HGB.fit(X_train, y_train)\n",
    "    return HGB"
   ]
  },
  {
   "cell_type": "code",
   "execution_count": 21,
   "metadata": {},
   "outputs": [],
   "source": [
    "def best_model(modelName, accuracy, precision, recall, f1):\n",
    "    best_models[modelName] = {\n",
    "        'accuracy': accuracy,\n",
    "        'precision': precision,\n",
    "        'recall': recall,\n",
    "        'f1': f1\n",
    "    }"
   ]
  },
  {
   "cell_type": "code",
   "execution_count": 22,
   "metadata": {},
   "outputs": [],
   "source": [
    "def predict(modleName,HGB, X_test ,y_test):\n",
    "    # Predict the labels for the training data X\n",
    "    y_pred = HGB.predict(X_test)\n",
    "    accuracy = accuracy_score(y_test, y_pred)\n",
    "    cr=classification_report(y_test, y_pred)\n",
    "    print(cr)"
   ]
  },
  {
   "cell_type": "code",
   "execution_count": 23,
   "metadata": {},
   "outputs": [],
   "source": [
    "from sklearn.model_selection import GridSearchCV\n",
    "from sklearn.preprocessing import StandardScaler\n",
    "\n",
    "def optimize_with_grid(X_train, y_train):\n",
    "\n",
    "    # Initialize the LGBMClassifier\n",
    "    HGB = HistGradientBoostingClassifier()\n",
    "    # Define the parameter grid\n",
    "    param_grid = {\n",
    "        'max_iter': [100, 200, 300],\n",
    "        'max_depth': [3, 5, 7],\n",
    "        'learning_rate': [0.01, 0.1, 0.2],\n",
    "        'min_samples_leaf': [20, 40, 60]\n",
    "    }\n",
    "\n",
    "    # Initialize GridSearchCV\n",
    "    HGB_cv = GridSearchCV(HGB, param_grid, cv=5)\n",
    "\n",
    "    # Fit the grid search to the data\n",
    "    HGB_cv.fit(X_train, y_train)\n",
    "\n",
    "    # Best parameters and best score\n",
    "    best_params = HGB_cv.best_params_\n",
    "    best_score = HGB_cv.best_score_\n",
    "    best_estimator = HGB_cv.best_estimator_\n",
    "    print(best_params)\n",
    "    print(best_score)\n",
    "\n",
    "    return best_estimator"
   ]
  },
  {
   "cell_type": "markdown",
   "metadata": {},
   "source": [
    "# Original Dataset"
   ]
  },
  {
   "cell_type": "code",
   "execution_count": 24,
   "metadata": {},
   "outputs": [],
   "source": [
    "# using function with no sampling\n",
    "X_train, X_test, y_train, y_test = splitting_data(data, 'none')\n",
    "# Scale the features using StandardScaler\n",
    "scaler = StandardScaler()\n",
    "X_train = scaler.fit_transform(X_train)\n",
    "X_test = scaler.transform(X_test)"
   ]
  },
  {
   "cell_type": "code",
   "execution_count": 25,
   "metadata": {},
   "outputs": [
    {
     "name": "stdout",
     "output_type": "stream",
     "text": [
      "Number of observations in each class in the training set:\n",
      "diagnostic\n",
      "1    1192\n",
      "0     172\n",
      "Name: count, dtype: int64\n"
     ]
    }
   ],
   "source": [
    "#check number of observations in each class in the set\n",
    "print(\"Number of observations in each class in the training set:\")\n",
    "print(y_train.value_counts())"
   ]
  },
  {
   "cell_type": "code",
   "execution_count": 26,
   "metadata": {},
   "outputs": [
    {
     "name": "stdout",
     "output_type": "stream",
     "text": [
      "              precision    recall  f1-score   support\n",
      "\n",
      "           0       0.84      0.82      0.83        39\n",
      "           1       0.98      0.98      0.98       302\n",
      "\n",
      "    accuracy                           0.96       341\n",
      "   macro avg       0.91      0.90      0.90       341\n",
      "weighted avg       0.96      0.96      0.96       341\n",
      "\n"
     ]
    }
   ],
   "source": [
    "HGB1 = training(X_train, y_train)\n",
    "y_pred = predict('original',HGB1, X_test, y_test)"
   ]
  },
  {
   "cell_type": "code",
   "execution_count": 27,
   "metadata": {},
   "outputs": [
    {
     "name": "stdout",
     "output_type": "stream",
     "text": [
      "{'learning_rate': 0.2, 'max_depth': 7, 'max_iter': 300, 'min_samples_leaf': 40}\n",
      "0.9391537384184442\n",
      "              precision    recall  f1-score   support\n",
      "\n",
      "           0       0.82      0.82      0.82        39\n",
      "           1       0.98      0.98      0.98       302\n",
      "\n",
      "    accuracy                           0.96       341\n",
      "   macro avg       0.90      0.90      0.90       341\n",
      "weighted avg       0.96      0.96      0.96       341\n",
      "\n"
     ]
    }
   ],
   "source": [
    "best_HGB1 = optimize_with_grid(X_train, y_train)\n",
    "prediction = predict('original_grid',best_HGB1, X_test, y_test)"
   ]
  },
  {
   "cell_type": "code",
   "execution_count": 28,
   "metadata": {},
   "outputs": [
    {
     "data": {
      "image/png": "[encoded data removed]",
      "text/plain": [
       "<Figure size 640x480 with 2 Axes>"
      ]
     },
     "metadata": {},
     "output_type": "display_data"
    }
   ],
   "source": [
    "from sklearn.metrics import confusion_matrix\n",
    "# plot the confusion matrix for the model\n",
    "\n",
    "y_pred = best_HGB1.predict(X_test)\n",
    "cm = confusion_matrix(y_test, y_pred)\n",
    "sns.heatmap(cm, annot=True, fmt='d')\n",
    "plt.xlabel('Predicted')\n",
    "plt.ylabel('True')\n",
    "plt.title('ET Classifier')\n",
    "plt.show()"
   ]
  }
 ],
 "metadata": {
  "kernelspec": {
   "display_name": "Python 3",
   "language": "python",
   "name": "python3"
  },
  "language_info": {
   "codemirror_mode": {
    "name": "ipython",
    "version": 3
   },
   "file_extension": ".py",
   "mimetype": "text/x-python",
   "name": "python",
   "nbconvert_exporter": "python",
   "pygments_lexer": "ipython3",
   "version": "3.11.7"
  }
 },
 "nbformat": 4,
 "nbformat_minor": 2
}
