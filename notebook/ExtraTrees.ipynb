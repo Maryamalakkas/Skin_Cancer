{
  "cells": [
    {
      "cell_type": "code",
      "execution_count": 1,
      "metadata": {
        "colab": {
          "base_uri": "https://localhost:8080/"
        },
        "id": "xNdDQEobqKII",
        "outputId": "aa32d5c3-de41-4bd4-e7e1-0b034129acc7"
      },
      "outputs": [
        {
          "name": "stderr",
          "output_type": "stream",
          "text": [
            "/var/folders/jh/zgqt24qj3_n6m12h05s8spkr0000gn/T/ipykernel_4170/3128864870.py:1: DeprecationWarning: \n",
            "Pyarrow will become a required dependency of pandas in the next major release of pandas (pandas 3.0),\n",
            "(to allow more performant data types, such as the Arrow string type, and better interoperability with other libraries)\n",
            "but was not found to be installed on your system.\n",
            "If this would cause problems for you,\n",
            "please provide us feedback at https://github.com/pandas-dev/pandas/issues/54466\n",
            "        \n",
            "  import pandas as pd\n"
          ]
        }
      ],
      "source": [
        "import pandas as pd\n",
        "import numpy as np\n",
        "import matplotlib.pyplot as plt\n",
        "from sklearn.model_selection import train_test_split\n",
        "from sklearn.ensemble import ExtraTreesClassifier\n",
        "from sklearn.metrics import accuracy_score\n",
        "from sklearn.metrics import confusion_matrix\n",
        "import seaborn as sns\n",
        "from sklearn.metrics import precision_score, recall_score, f1_score\n",
        "from sklearn.discriminant_analysis import StandardScaler\n",
        "from imblearn.combine import SMOTEENN\n",
        "from imblearn.over_sampling import SMOTE\n",
        "from imblearn.under_sampling import RandomUnderSampler\n",
        "from sklearn.model_selection import GridSearchCV\n",
        "from sklearn.metrics import classification_report\n",
        "from sklearn.model_selection import cross_val_score\n",
        "# %pip install lightgbm\n",
        "from imblearn.under_sampling import ClusterCentroids, TomekLinks\n",
        "from imblearn.over_sampling import RandomOverSampler"
      ]
    },
    {
      "cell_type": "code",
      "execution_count": 2,
      "metadata": {
        "id": "88NenbxiqKIJ"
      },
      "outputs": [],
      "source": [
        "random_state=42\n",
        "best_models = {}"
      ]
    },
    {
      "cell_type": "code",
      "execution_count": 3,
      "metadata": {
        "colab": {
          "base_uri": "https://localhost:8080/",
          "height": 444
        },
        "id": "VY2BqdWOqKIJ",
        "outputId": "aedf2944-28cb-4d62-de33-8c0e671e78df"
      },
      "outputs": [],
      "source": [
        "# Read in the data\n",
        "df = pd.read_csv('../Data/Final_skin_cancer.csv')\n"
      ]
    },
    {
      "cell_type": "markdown",
      "metadata": {
        "id": "LQX8dggmPB8c"
      },
      "source": [
        "# New Section"
      ]
    },
    {
      "cell_type": "code",
      "execution_count": 4,
      "metadata": {
        "id": "uNLe-VlTqKIK"
      },
      "outputs": [],
      "source": [
        "\n",
        "\n",
        "def splitting_data(df, sampling):\n",
        "    X = df.drop(['diagnostic'], axis=1)\n",
        "    y = df['diagnostic']\n",
        "\n",
        "    if sampling == 'none':\n",
        "        return X, y\n",
        "    elif sampling == 'SMOTEENN':\n",
        "        sampler = SMOTEENN(random_state=random_state)\n",
        "    elif sampling == 'SMOTE':\n",
        "        sampler = SMOTE(random_state=random_state)\n",
        "    elif sampling == 'under':\n",
        "        sampler = RandomUnderSampler(random_state=random_state)\n",
        "    elif sampling == 'over':\n",
        "        sampler = RandomOverSampler(random_state=random_state)\n",
        "    elif sampling == 'cluster_centroids':\n",
        "        sampler = ClusterCentroids(random_state=random_state)\n",
        "    elif sampling == 'tomek_links':\n",
        "        sampler = TomekLinks()\n",
        "\n",
        "    X_resampled, y_resampled = sampler.fit_resample(X, y)\n",
        "    return X_resampled, y_resampled\n"
      ]
    },
    {
      "cell_type": "code",
      "execution_count": 5,
      "metadata": {
        "id": "lVVxj7KAqKIK"
      },
      "outputs": [],
      "source": [
        "\n",
        "def training(X_train, y_train):\n",
        "    # Create a KNN classifier with 5 neighbors\n",
        "    LGBM = ExtraTreesClassifier()\n",
        "    # Fit the classifier to the data\n",
        "    LGBM.fit(X_train, y_train)\n",
        "    return LGBM"
      ]
    },
    {
      "cell_type": "code",
      "execution_count": 6,
      "metadata": {
        "id": "3Zc5GvysOfGU"
      },
      "outputs": [],
      "source": [
        "def best_model(modelName, accuracy, precision, recall, f1):\n",
        "    best_models[modelName] = {\n",
        "        'accuracy': accuracy,\n",
        "        'precision': precision,\n",
        "        'recall': recall,\n",
        "        'f1': f1\n",
        "    }"
      ]
    },
    {
      "cell_type": "code",
      "execution_count": 7,
      "metadata": {
        "id": "Qx40EAZCqKIK"
      },
      "outputs": [],
      "source": [
        "def predict(modleName,LGBM, X_test ,y_test):\n",
        "    # Predict the labels for the training data X\n",
        "    y_pred = LGBM.predict(X_test)\n",
        "    accuracy = accuracy_score(y_test, y_pred)\n",
        "    cr=classification_report(y_test, y_pred, output_dict=True)\n",
        "    precision = cr['weighted avg']['precision']\n",
        "    recall = cr['weighted avg']['recall']\n",
        "    f1 = cr['weighted avg']['f1-score']\n",
        "    best_model(modleName,accuracy,precision,recall,f1)\n",
        "    cr=classification_report(y_test, y_pred)\n",
        "    print(cr)"
      ]
    },
    {
      "cell_type": "code",
      "execution_count": null,
      "metadata": {
        "id": "IwAOn-8uqKIK"
      },
      "outputs": [],
      "source": []
    },
    {
      "cell_type": "code",
      "execution_count": 8,
      "metadata": {
        "id": "RaCvmccpqKIK"
      },
      "outputs": [],
      "source": [
        "from sklearn.ensemble import ExtraTreesClassifier\n",
        "from sklearn.model_selection import GridSearchCV\n",
        "from sklearn.preprocessing import StandardScaler\n",
        "from sklearn.pipeline import Pipeline\n",
        "\n",
        "def optimize_with_grid(X_train, y_train):\n",
        "    # Define a pipeline\n",
        "    # Note: Scaling might not be necessary for tree-based models, but included for consistency\n",
        "    pipe = Pipeline([\n",
        "        ('scaler', StandardScaler()),  # Optional for ExtraTrees\n",
        "        ('extra_trees', ExtraTreesClassifier(random_state=random_state))\n",
        "    ])\n",
        "\n",
        "    # Define the parameter grid to search\n",
        "    param_grid = {\n",
        "        'extra_trees__n_estimators': [100, 200, 300],  # Number of trees in the forest\n",
        "        'extra_trees__max_depth': [None, 10, 20, 30],  # Maximum depth of the tree\n",
        "        'extra_trees__min_samples_split': [2, 5, 10],  # Minimum number of samples required to split an internal node\n",
        "        'extra_trees__min_samples_leaf': [1, 2, 4],  # Minimum number of samples required to be at a leaf node\n",
        "        'extra_trees__max_features': ['auto', 'sqrt', 'log2']  # Number of features to consider when looking for the best split\n",
        "    }\n",
        "\n",
        "    # Create the GridSearchCV object\n",
        "    extra_trees_cv = GridSearchCV(pipe, param_grid, cv=5, verbose=1, n_jobs=-1)\n",
        "\n",
        "    # Perform the grid search on the provided data\n",
        "    extra_trees_cv.fit(X_train, y_train)\n",
        "\n",
        "    # Best parameters and best score\n",
        "    best_params = extra_trees_cv.best_params_\n",
        "    best_score = extra_trees_cv.best_score_\n",
        "    best_estimator = extra_trees_cv.best_estimator_\n",
        "    print(\"Best Parameters:\", best_params)\n",
        "    print(\"Best Score:\", best_score)\n",
        "\n",
        "    return best_estimator\n",
        "\n",
        "# Example usage\n",
        "# Ensure you have defined X_train, y_train, and optionally random_state before calling this function\n",
        "# best_extra_trees_model = optimize_with_grid_extra_trees(X_train, y_train, random_state=42)\n"
      ]
    },
    {
      "cell_type": "markdown",
      "metadata": {
        "id": "ymbIYYOgqKIK"
      },
      "source": [
        "<h1> LGBM on original data with optimization </h1>"
      ]
    },
    {
      "cell_type": "code",
      "execution_count": 9,
      "metadata": {
        "id": "jNHPeleDqKIL"
      },
      "outputs": [],
      "source": [
        "# using function with no sampling\n",
        "X, y= splitting_data(df, 'none')\n",
        "# Split the data into train and test sets\n",
        "X_train, X_test, y_train, y_test = train_test_split(X, y, test_size=0.2, random_state=random_state)\n",
        "# Scale the features using StandardScaler\n",
        "scaler = StandardScaler()\n",
        "X_train = scaler.fit_transform(X_train)\n",
        "X_test = scaler.transform(X_test)"
      ]
    },
    {
      "cell_type": "code",
      "execution_count": 10,
      "metadata": {
        "colab": {
          "base_uri": "https://localhost:8080/"
        },
        "id": "x9HGLHNvqKIL",
        "outputId": "c660b805-d8f7-48c0-fa12-e342f729c21a"
      },
      "outputs": [
        {
          "name": "stdout",
          "output_type": "stream",
          "text": [
            "Number of observations in each class in the training set:\n",
            "diagnostic\n",
            "1    1494\n",
            "0     211\n",
            "Name: count, dtype: int64\n"
          ]
        }
      ],
      "source": [
        "#check number of observations in each class in the set\n",
        "print(\"Number of observations in each class in the training set:\")\n",
        "print(y.value_counts())"
      ]
    },
    {
      "cell_type": "code",
      "execution_count": 11,
      "metadata": {
        "colab": {
          "base_uri": "https://localhost:8080/"
        },
        "id": "Mo1V3LfNqKIL",
        "outputId": "c81988db-7320-4803-9ca0-12ca8e6c7bc2"
      },
      "outputs": [
        {
          "name": "stdout",
          "output_type": "stream",
          "text": [
            "              precision    recall  f1-score   support\n",
            "\n",
            "           0       0.82      0.76      0.79        37\n",
            "           1       0.97      0.98      0.98       304\n",
            "\n",
            "    accuracy                           0.96       341\n",
            "   macro avg       0.90      0.87      0.88       341\n",
            "weighted avg       0.95      0.96      0.96       341\n",
            "\n"
          ]
        }
      ],
      "source": [
        "LGBM1 = training(X_train, y_train)\n",
        "y_pred = predict('original',LGBM1, X_test, y_test)\n"
      ]
    },
    {
      "cell_type": "code",
      "execution_count": 12,
      "metadata": {
        "colab": {
          "base_uri": "https://localhost:8080/"
        },
        "id": "wiCcN4wtqKIL",
        "outputId": "4e26eff9-8da4-4ff5-da45-f6ee6add49bd"
      },
      "outputs": [
        {
          "name": "stdout",
          "output_type": "stream",
          "text": [
            "Fitting 5 folds for each of 324 candidates, totalling 1620 fits\n"
          ]
        },
        {
          "name": "stdout",
          "output_type": "stream",
          "text": [
            "Best Parameters: {'extra_trees__max_depth': None, 'extra_trees__max_features': 'sqrt', 'extra_trees__min_samples_leaf': 1, 'extra_trees__min_samples_split': 5, 'extra_trees__n_estimators': 200}\n",
            "Best Score: 0.9384130575307046\n",
            "              precision    recall  f1-score   support\n",
            "\n",
            "           0       0.97      0.78      0.87        37\n",
            "           1       0.97      1.00      0.99       304\n",
            "\n",
            "    accuracy                           0.97       341\n",
            "   macro avg       0.97      0.89      0.93       341\n",
            "weighted avg       0.97      0.97      0.97       341\n",
            "\n"
          ]
        },
        {
          "name": "stderr",
          "output_type": "stream",
          "text": [
            "/Users/hneen/miniconda3/lib/python3.11/site-packages/sklearn/model_selection/_validation.py:542: FitFailedWarning: \n",
            "540 fits failed out of a total of 1620.\n",
            "The score on these train-test partitions for these parameters will be set to nan.\n",
            "If these failures are not expected, you can try to debug them by setting error_score='raise'.\n",
            "\n",
            "Below are more details about the failures:\n",
            "--------------------------------------------------------------------------------\n",
            "421 fits failed with the following error:\n",
            "Traceback (most recent call last):\n",
            "  File \"/Users/hneen/miniconda3/lib/python3.11/site-packages/sklearn/model_selection/_validation.py\", line 890, in _fit_and_score\n",
            "    estimator.fit(X_train, y_train, **fit_params)\n",
            "  File \"/Users/hneen/miniconda3/lib/python3.11/site-packages/sklearn/base.py\", line 1351, in wrapper\n",
            "    return fit_method(estimator, *args, **kwargs)\n",
            "           ^^^^^^^^^^^^^^^^^^^^^^^^^^^^^^^^^^^^^^\n",
            "  File \"/Users/hneen/miniconda3/lib/python3.11/site-packages/sklearn/pipeline.py\", line 475, in fit\n",
            "    self._final_estimator.fit(Xt, y, **last_step_params[\"fit\"])\n",
            "  File \"/Users/hneen/miniconda3/lib/python3.11/site-packages/sklearn/base.py\", line 1344, in wrapper\n",
            "    estimator._validate_params()\n",
            "  File \"/Users/hneen/miniconda3/lib/python3.11/site-packages/sklearn/base.py\", line 666, in _validate_params\n",
            "    validate_parameter_constraints(\n",
            "  File \"/Users/hneen/miniconda3/lib/python3.11/site-packages/sklearn/utils/_param_validation.py\", line 95, in validate_parameter_constraints\n",
            "    raise InvalidParameterError(\n",
            "sklearn.utils._param_validation.InvalidParameterError: The 'max_features' parameter of ExtraTreesClassifier must be an int in the range [1, inf), a float in the range (0.0, 1.0], a str among {'sqrt', 'log2'} or None. Got 'auto' instead.\n",
            "\n",
            "--------------------------------------------------------------------------------\n",
            "119 fits failed with the following error:\n",
            "Traceback (most recent call last):\n",
            "  File \"/Users/hneen/miniconda3/lib/python3.11/site-packages/sklearn/model_selection/_validation.py\", line 890, in _fit_and_score\n",
            "    estimator.fit(X_train, y_train, **fit_params)\n",
            "  File \"/Users/hneen/miniconda3/lib/python3.11/site-packages/sklearn/base.py\", line 1351, in wrapper\n",
            "    return fit_method(estimator, *args, **kwargs)\n",
            "           ^^^^^^^^^^^^^^^^^^^^^^^^^^^^^^^^^^^^^^\n",
            "  File \"/Users/hneen/miniconda3/lib/python3.11/site-packages/sklearn/pipeline.py\", line 475, in fit\n",
            "    self._final_estimator.fit(Xt, y, **last_step_params[\"fit\"])\n",
            "  File \"/Users/hneen/miniconda3/lib/python3.11/site-packages/sklearn/base.py\", line 1344, in wrapper\n",
            "    estimator._validate_params()\n",
            "  File \"/Users/hneen/miniconda3/lib/python3.11/site-packages/sklearn/base.py\", line 666, in _validate_params\n",
            "    validate_parameter_constraints(\n",
            "  File \"/Users/hneen/miniconda3/lib/python3.11/site-packages/sklearn/utils/_param_validation.py\", line 95, in validate_parameter_constraints\n",
            "    raise InvalidParameterError(\n",
            "sklearn.utils._param_validation.InvalidParameterError: The 'max_features' parameter of ExtraTreesClassifier must be an int in the range [1, inf), a float in the range (0.0, 1.0], a str among {'log2', 'sqrt'} or None. Got 'auto' instead.\n",
            "\n",
            "  warnings.warn(some_fits_failed_message, FitFailedWarning)\n",
            "/Users/hneen/miniconda3/lib/python3.11/site-packages/sklearn/model_selection/_search.py:1051: UserWarning: One or more of the test scores are non-finite: [       nan        nan        nan        nan        nan        nan\n",
            "        nan        nan        nan        nan        nan        nan\n",
            "        nan        nan        nan        nan        nan        nan\n",
            "        nan        nan        nan        nan        nan        nan\n",
            "        nan        nan        nan 0.93695324 0.93621795 0.93548535\n",
            " 0.93694786 0.93841306 0.93768046 0.92961646 0.92888655 0.93035176\n",
            " 0.93181426 0.93108436 0.93034906 0.93108166 0.93108166 0.93107897\n",
            " 0.92814587 0.92814587 0.92888117 0.92447748 0.92374219 0.92374488\n",
            " 0.92447748 0.92374219 0.92374488 0.92228237 0.92154708 0.92228237\n",
            " 0.93695324 0.93621795 0.93548535 0.93694786 0.93841306 0.93768046\n",
            " 0.92961646 0.92888655 0.93035176 0.93181426 0.93108436 0.93034906\n",
            " 0.93108166 0.93108166 0.93107897 0.92814587 0.92814587 0.92888117\n",
            " 0.92447748 0.92374219 0.92374488 0.92447748 0.92374219 0.92374488\n",
            " 0.92228237 0.92154708 0.92228237        nan        nan        nan\n",
            "        nan        nan        nan        nan        nan        nan\n",
            "        nan        nan        nan        nan        nan        nan\n",
            "        nan        nan        nan        nan        nan        nan\n",
            "        nan        nan        nan        nan        nan        nan\n",
            " 0.93254956 0.93254956 0.93254956 0.93181426 0.93034637 0.93034637\n",
            " 0.92448018 0.92668067 0.92668067 0.92668337 0.92668337 0.92668337\n",
            " 0.92448556 0.92595346 0.92668337 0.92448018 0.92448018 0.92374758\n",
            " 0.92154977 0.92081179 0.91861398 0.92154977 0.92081179 0.91861398\n",
            " 0.92081179 0.91861398 0.92081448 0.93254956 0.93254956 0.93254956\n",
            " 0.93181426 0.93034637 0.93034637 0.92448018 0.92668067 0.92668067\n",
            " 0.92668337 0.92668337 0.92668337 0.92448556 0.92595346 0.92668337\n",
            " 0.92448018 0.92448018 0.92374758 0.92154977 0.92081179 0.91861398\n",
            " 0.92154977 0.92081179 0.91861398 0.92081179 0.91861398 0.92081448\n",
            "        nan        nan        nan        nan        nan        nan\n",
            "        nan        nan        nan        nan        nan        nan\n",
            "        nan        nan        nan        nan        nan        nan\n",
            "        nan        nan        nan        nan        nan        nan\n",
            "        nan        nan        nan 0.93548535 0.93548535 0.93402015\n",
            " 0.93694786 0.93841306 0.93768046 0.92961646 0.92888655 0.93035176\n",
            " 0.93108166 0.93108436 0.92961646 0.93108166 0.93108166 0.93107897\n",
            " 0.92814587 0.92814587 0.92888117 0.92447748 0.92374219 0.92374488\n",
            " 0.92447748 0.92374219 0.92374488 0.92228237 0.92154708 0.92228237\n",
            " 0.93548535 0.93548535 0.93402015 0.93694786 0.93841306 0.93768046\n",
            " 0.92961646 0.92888655 0.93035176 0.93108166 0.93108436 0.92961646\n",
            " 0.93108166 0.93108166 0.93107897 0.92814587 0.92814587 0.92888117\n",
            " 0.92447748 0.92374219 0.92374488 0.92447748 0.92374219 0.92374488\n",
            " 0.92228237 0.92154708 0.92228237        nan        nan        nan\n",
            "        nan        nan        nan        nan        nan        nan\n",
            "        nan        nan        nan        nan        nan        nan\n",
            "        nan        nan        nan        nan        nan        nan\n",
            "        nan        nan        nan        nan        nan        nan\n",
            " 0.93695324 0.93621795 0.93548535 0.93694786 0.93841306 0.93768046\n",
            " 0.92961646 0.92888655 0.93035176 0.93181426 0.93108436 0.93034906\n",
            " 0.93108166 0.93108166 0.93107897 0.92814587 0.92814587 0.92888117\n",
            " 0.92447748 0.92374219 0.92374488 0.92447748 0.92374219 0.92374488\n",
            " 0.92228237 0.92154708 0.92228237 0.93695324 0.93621795 0.93548535\n",
            " 0.93694786 0.93841306 0.93768046 0.92961646 0.92888655 0.93035176\n",
            " 0.93181426 0.93108436 0.93034906 0.93108166 0.93108166 0.93107897\n",
            " 0.92814587 0.92814587 0.92888117 0.92447748 0.92374219 0.92374488\n",
            " 0.92447748 0.92374219 0.92374488 0.92228237 0.92154708 0.92228237]\n",
            "  warnings.warn(\n"
          ]
        }
      ],
      "source": [
        "best_LGBM1 = optimize_with_grid(X_train, y_train)\n",
        "prediction = predict('original_grid',best_LGBM1, X_test, y_test)"
      ]
    },
    {
      "cell_type": "markdown",
      "metadata": {
        "id": "NP50kI6HqKIM"
      },
      "source": [
        "<h1> LGBM using SMOTE sampling </h1>"
      ]
    },
    {
      "cell_type": "code",
      "execution_count": 13,
      "metadata": {
        "id": "5QC5Nt4VqKIM"
      },
      "outputs": [],
      "source": [
        "X,y = splitting_data(df, 'SMOTE')\n",
        "X_train, X_test, y_train, y_test = train_test_split(X, y, test_size=0.2, random_state=random_state)\n",
        "scaler = StandardScaler()\n",
        "X_train = scaler.fit_transform(X_train)\n",
        "X_test = scaler.transform(X_test)"
      ]
    },
    {
      "cell_type": "code",
      "execution_count": 14,
      "metadata": {
        "colab": {
          "base_uri": "https://localhost:8080/"
        },
        "id": "cEyeNwUYqKIM",
        "outputId": "94a381cc-d663-43ce-d9cf-da3a66c45504"
      },
      "outputs": [
        {
          "name": "stdout",
          "output_type": "stream",
          "text": [
            "Number of observations in each class in the training set:\n",
            "diagnostic\n",
            "1    1494\n",
            "0    1494\n",
            "Name: count, dtype: int64\n"
          ]
        }
      ],
      "source": [
        "#check number of observations in each class in the set\n",
        "print(\"Number of observations in each class in the training set:\")\n",
        "print(y.value_counts())"
      ]
    },
    {
      "cell_type": "code",
      "execution_count": 15,
      "metadata": {
        "colab": {
          "base_uri": "https://localhost:8080/"
        },
        "id": "ejMPzo7yqKIM",
        "outputId": "1d2f5b71-0bf7-4602-a281-d7746a86a9fb"
      },
      "outputs": [
        {
          "name": "stdout",
          "output_type": "stream",
          "text": [
            "              precision    recall  f1-score   support\n",
            "\n",
            "           0       0.96      0.99      0.97       284\n",
            "           1       0.99      0.96      0.97       314\n",
            "\n",
            "    accuracy                           0.97       598\n",
            "   macro avg       0.97      0.97      0.97       598\n",
            "weighted avg       0.97      0.97      0.97       598\n",
            "\n"
          ]
        }
      ],
      "source": [
        "LGBM2 =training(X_train, y_train)\n",
        "y_pred = predict('SMOTE',LGBM2, X_test, y_test)"
      ]
    },
    {
      "cell_type": "code",
      "execution_count": 16,
      "metadata": {
        "colab": {
          "base_uri": "https://localhost:8080/"
        },
        "id": "qA7dtp3BqKIM",
        "outputId": "62195fb4-fddf-44c0-fecc-fbb9be395327"
      },
      "outputs": [
        {
          "name": "stdout",
          "output_type": "stream",
          "text": [
            "Fitting 5 folds for each of 324 candidates, totalling 1620 fits\n",
            "Best Parameters: {'extra_trees__max_depth': 20, 'extra_trees__max_features': 'sqrt', 'extra_trees__min_samples_leaf': 1, 'extra_trees__min_samples_split': 2, 'extra_trees__n_estimators': 200}\n",
            "Best Score: 0.9661087866108786\n",
            "              precision    recall  f1-score   support\n",
            "\n",
            "           0       0.96      0.99      0.97       284\n",
            "           1       0.99      0.96      0.97       314\n",
            "\n",
            "    accuracy                           0.97       598\n",
            "   macro avg       0.97      0.97      0.97       598\n",
            "weighted avg       0.97      0.97      0.97       598\n",
            "\n"
          ]
        },
        {
          "name": "stderr",
          "output_type": "stream",
          "text": [
            "/Users/hneen/miniconda3/lib/python3.11/site-packages/sklearn/model_selection/_validation.py:542: FitFailedWarning: \n",
            "540 fits failed out of a total of 1620.\n",
            "The score on these train-test partitions for these parameters will be set to nan.\n",
            "If these failures are not expected, you can try to debug them by setting error_score='raise'.\n",
            "\n",
            "Below are more details about the failures:\n",
            "--------------------------------------------------------------------------------\n",
            "258 fits failed with the following error:\n",
            "Traceback (most recent call last):\n",
            "  File \"/Users/hneen/miniconda3/lib/python3.11/site-packages/sklearn/model_selection/_validation.py\", line 890, in _fit_and_score\n",
            "    estimator.fit(X_train, y_train, **fit_params)\n",
            "  File \"/Users/hneen/miniconda3/lib/python3.11/site-packages/sklearn/base.py\", line 1351, in wrapper\n",
            "    return fit_method(estimator, *args, **kwargs)\n",
            "           ^^^^^^^^^^^^^^^^^^^^^^^^^^^^^^^^^^^^^^\n",
            "  File \"/Users/hneen/miniconda3/lib/python3.11/site-packages/sklearn/pipeline.py\", line 475, in fit\n",
            "    self._final_estimator.fit(Xt, y, **last_step_params[\"fit\"])\n",
            "  File \"/Users/hneen/miniconda3/lib/python3.11/site-packages/sklearn/base.py\", line 1344, in wrapper\n",
            "    estimator._validate_params()\n",
            "  File \"/Users/hneen/miniconda3/lib/python3.11/site-packages/sklearn/base.py\", line 666, in _validate_params\n",
            "    validate_parameter_constraints(\n",
            "  File \"/Users/hneen/miniconda3/lib/python3.11/site-packages/sklearn/utils/_param_validation.py\", line 95, in validate_parameter_constraints\n",
            "    raise InvalidParameterError(\n",
            "sklearn.utils._param_validation.InvalidParameterError: The 'max_features' parameter of ExtraTreesClassifier must be an int in the range [1, inf), a float in the range (0.0, 1.0], a str among {'log2', 'sqrt'} or None. Got 'auto' instead.\n",
            "\n",
            "--------------------------------------------------------------------------------\n",
            "282 fits failed with the following error:\n",
            "Traceback (most recent call last):\n",
            "  File \"/Users/hneen/miniconda3/lib/python3.11/site-packages/sklearn/model_selection/_validation.py\", line 890, in _fit_and_score\n",
            "    estimator.fit(X_train, y_train, **fit_params)\n",
            "  File \"/Users/hneen/miniconda3/lib/python3.11/site-packages/sklearn/base.py\", line 1351, in wrapper\n",
            "    return fit_method(estimator, *args, **kwargs)\n",
            "           ^^^^^^^^^^^^^^^^^^^^^^^^^^^^^^^^^^^^^^\n",
            "  File \"/Users/hneen/miniconda3/lib/python3.11/site-packages/sklearn/pipeline.py\", line 475, in fit\n",
            "    self._final_estimator.fit(Xt, y, **last_step_params[\"fit\"])\n",
            "  File \"/Users/hneen/miniconda3/lib/python3.11/site-packages/sklearn/base.py\", line 1344, in wrapper\n",
            "    estimator._validate_params()\n",
            "  File \"/Users/hneen/miniconda3/lib/python3.11/site-packages/sklearn/base.py\", line 666, in _validate_params\n",
            "    validate_parameter_constraints(\n",
            "  File \"/Users/hneen/miniconda3/lib/python3.11/site-packages/sklearn/utils/_param_validation.py\", line 95, in validate_parameter_constraints\n",
            "    raise InvalidParameterError(\n",
            "sklearn.utils._param_validation.InvalidParameterError: The 'max_features' parameter of ExtraTreesClassifier must be an int in the range [1, inf), a float in the range (0.0, 1.0], a str among {'sqrt', 'log2'} or None. Got 'auto' instead.\n",
            "\n",
            "  warnings.warn(some_fits_failed_message, FitFailedWarning)\n",
            "/Users/hneen/miniconda3/lib/python3.11/site-packages/sklearn/model_selection/_search.py:1051: UserWarning: One or more of the test scores are non-finite: [       nan        nan        nan        nan        nan        nan\n",
            "        nan        nan        nan        nan        nan        nan\n",
            "        nan        nan        nan        nan        nan        nan\n",
            "        nan        nan        nan        nan        nan        nan\n",
            "        nan        nan        nan 0.96485356 0.96485356 0.96569038\n",
            " 0.96527197 0.96485356 0.96485356 0.96192469 0.96150628 0.96192469\n",
            " 0.96108787 0.96066946 0.96066946 0.96066946 0.95941423 0.95941423\n",
            " 0.95774059 0.95983264 0.95983264 0.941841   0.94058577 0.94142259\n",
            " 0.941841   0.94058577 0.94142259 0.94100418 0.94058577 0.94100418\n",
            " 0.96485356 0.96485356 0.96569038 0.96527197 0.96485356 0.96485356\n",
            " 0.96192469 0.96150628 0.96192469 0.96108787 0.96066946 0.96066946\n",
            " 0.96066946 0.95941423 0.95941423 0.95774059 0.95983264 0.95983264\n",
            " 0.941841   0.94058577 0.94142259 0.941841   0.94058577 0.94142259\n",
            " 0.94100418 0.94058577 0.94100418        nan        nan        nan\n",
            "        nan        nan        nan        nan        nan        nan\n",
            "        nan        nan        nan        nan        nan        nan\n",
            "        nan        nan        nan        nan        nan        nan\n",
            "        nan        nan        nan        nan        nan        nan\n",
            " 0.95020921 0.95020921 0.94979079 0.95062762 0.94937238 0.94853556\n",
            " 0.94937238 0.94937238 0.94853556 0.94686192 0.94644351 0.94644351\n",
            " 0.94895397 0.94728033 0.94686192 0.94769874 0.94435146 0.94518828\n",
            " 0.93807531 0.9376569  0.93723849 0.93807531 0.9376569  0.93723849\n",
            " 0.9376569  0.93640167 0.93682008 0.95020921 0.95020921 0.94979079\n",
            " 0.95062762 0.94937238 0.94853556 0.94937238 0.94937238 0.94853556\n",
            " 0.94686192 0.94644351 0.94644351 0.94895397 0.94728033 0.94686192\n",
            " 0.94769874 0.94435146 0.94518828 0.93807531 0.9376569  0.93723849\n",
            " 0.93807531 0.9376569  0.93723849 0.9376569  0.93640167 0.93682008\n",
            "        nan        nan        nan        nan        nan        nan\n",
            "        nan        nan        nan        nan        nan        nan\n",
            "        nan        nan        nan        nan        nan        nan\n",
            "        nan        nan        nan        nan        nan        nan\n",
            "        nan        nan        nan 0.96569038 0.96610879 0.96569038\n",
            " 0.96527197 0.96569038 0.96485356 0.96276151 0.96192469 0.96192469\n",
            " 0.96025105 0.96025105 0.96066946 0.96066946 0.95941423 0.95941423\n",
            " 0.95774059 0.95857741 0.96025105 0.94225941 0.94058577 0.94058577\n",
            " 0.94225941 0.94058577 0.94058577 0.94058577 0.94016736 0.94100418\n",
            " 0.96569038 0.96610879 0.96569038 0.96527197 0.96569038 0.96485356\n",
            " 0.96276151 0.96192469 0.96192469 0.96025105 0.96025105 0.96066946\n",
            " 0.96066946 0.95941423 0.95941423 0.95774059 0.95857741 0.96025105\n",
            " 0.94225941 0.94058577 0.94058577 0.94225941 0.94058577 0.94058577\n",
            " 0.94058577 0.94016736 0.94100418        nan        nan        nan\n",
            "        nan        nan        nan        nan        nan        nan\n",
            "        nan        nan        nan        nan        nan        nan\n",
            "        nan        nan        nan        nan        nan        nan\n",
            "        nan        nan        nan        nan        nan        nan\n",
            " 0.96485356 0.96485356 0.96569038 0.96527197 0.96485356 0.96485356\n",
            " 0.96192469 0.96150628 0.96192469 0.96108787 0.96066946 0.96066946\n",
            " 0.96066946 0.95941423 0.95941423 0.95774059 0.95983264 0.95983264\n",
            " 0.941841   0.94058577 0.94142259 0.941841   0.94058577 0.94142259\n",
            " 0.94100418 0.94058577 0.94100418 0.96485356 0.96485356 0.96569038\n",
            " 0.96527197 0.96485356 0.96485356 0.96192469 0.96150628 0.96192469\n",
            " 0.96108787 0.96066946 0.96066946 0.96066946 0.95941423 0.95941423\n",
            " 0.95774059 0.95983264 0.95983264 0.941841   0.94058577 0.94142259\n",
            " 0.941841   0.94058577 0.94142259 0.94100418 0.94058577 0.94100418]\n",
            "  warnings.warn(\n"
          ]
        }
      ],
      "source": [
        "best_LGBM2 = optimize_with_grid(X_train, y_train)\n",
        "prediction = predict('SMOTE_grid',best_LGBM2, X_test, y_test)"
      ]
    },
    {
      "cell_type": "markdown",
      "metadata": {
        "id": "UqQKWnBOqKIM"
      },
      "source": [
        "<h1> LGBM using SMOTEENN sampling </h1>"
      ]
    },
    {
      "cell_type": "code",
      "execution_count": 17,
      "metadata": {
        "id": "i2oPMW0QqKIM"
      },
      "outputs": [],
      "source": [
        "X,y = splitting_data(df, 'SMOTEENN')\n",
        "X_train, X_test, y_train, y_test = train_test_split(X, y, test_size=0.2, random_state=123)\n",
        "scaler = StandardScaler()\n",
        "X_train = scaler.fit_transform(X_train)\n",
        "X_test = scaler.transform(X_test)"
      ]
    },
    {
      "cell_type": "code",
      "execution_count": 18,
      "metadata": {
        "colab": {
          "base_uri": "https://localhost:8080/"
        },
        "id": "WSBW__2vqKIM",
        "outputId": "cc80040a-d73b-4335-d3dc-2cc8f82ff736"
      },
      "outputs": [
        {
          "name": "stdout",
          "output_type": "stream",
          "text": [
            "Number of observations in each class in the set:\n",
            "diagnostic\n",
            "1    1332\n",
            "0    1256\n",
            "Name: count, dtype: int64\n"
          ]
        }
      ],
      "source": [
        "print(\"Number of observations in each class in the set:\")\n",
        "print(y.value_counts())"
      ]
    },
    {
      "cell_type": "code",
      "execution_count": 19,
      "metadata": {
        "colab": {
          "base_uri": "https://localhost:8080/"
        },
        "id": "kAArrZCsqKIM",
        "outputId": "ceea8710-93d1-4430-d8bc-3be4458ec2d1"
      },
      "outputs": [
        {
          "name": "stdout",
          "output_type": "stream",
          "text": [
            "              precision    recall  f1-score   support\n",
            "\n",
            "           0       0.99      1.00      1.00       241\n",
            "           1       1.00      0.99      1.00       277\n",
            "\n",
            "    accuracy                           1.00       518\n",
            "   macro avg       1.00      1.00      1.00       518\n",
            "weighted avg       1.00      1.00      1.00       518\n",
            "\n"
          ]
        }
      ],
      "source": [
        "LGBM3 =training(X_train, y_train)\n",
        "y_pred = predict('SMOTEENN',LGBM3, X_test, y_test)"
      ]
    },
    {
      "cell_type": "code",
      "execution_count": null,
      "metadata": {
        "id": "n30gjeRDUJwW"
      },
      "outputs": [],
      "source": []
    },
    {
      "cell_type": "code",
      "execution_count": 20,
      "metadata": {
        "colab": {
          "base_uri": "https://localhost:8080/"
        },
        "id": "ugU45SBeTyNO",
        "outputId": "de07c078-08cd-4073-8547-683066c35f25"
      },
      "outputs": [],
      "source": [
        "# from joblib import dump\n",
        "# dump(LGBM3,'/content/LGBM_SMOTEENN.joblib')"
      ]
    },
    {
      "cell_type": "code",
      "execution_count": 21,
      "metadata": {
        "id": "coDgVriNUIdg"
      },
      "outputs": [],
      "source": [
        "# from google.colab import drive\n",
        "# drive.mount('/content/drive')"
      ]
    },
    {
      "cell_type": "code",
      "execution_count": 22,
      "metadata": {
        "colab": {
          "base_uri": "https://localhost:8080/"
        },
        "id": "mJO13pfyqKIM",
        "outputId": "fd440418-7f80-42a0-e35c-ddd737434e5d"
      },
      "outputs": [
        {
          "name": "stdout",
          "output_type": "stream",
          "text": [
            "Fitting 5 folds for each of 324 candidates, totalling 1620 fits\n"
          ]
        },
        {
          "name": "stderr",
          "output_type": "stream",
          "text": [
            "/Users/hneen/miniconda3/lib/python3.11/site-packages/sklearn/model_selection/_validation.py:542: FitFailedWarning: \n",
            "540 fits failed out of a total of 1620.\n",
            "The score on these train-test partitions for these parameters will be set to nan.\n",
            "If these failures are not expected, you can try to debug them by setting error_score='raise'.\n",
            "\n",
            "Below are more details about the failures:\n",
            "--------------------------------------------------------------------------------\n",
            "183 fits failed with the following error:\n",
            "Traceback (most recent call last):\n",
            "  File \"/Users/hneen/miniconda3/lib/python3.11/site-packages/sklearn/model_selection/_validation.py\", line 890, in _fit_and_score\n",
            "    estimator.fit(X_train, y_train, **fit_params)\n",
            "  File \"/Users/hneen/miniconda3/lib/python3.11/site-packages/sklearn/base.py\", line 1351, in wrapper\n",
            "    return fit_method(estimator, *args, **kwargs)\n",
            "           ^^^^^^^^^^^^^^^^^^^^^^^^^^^^^^^^^^^^^^\n",
            "  File \"/Users/hneen/miniconda3/lib/python3.11/site-packages/sklearn/pipeline.py\", line 475, in fit\n",
            "    self._final_estimator.fit(Xt, y, **last_step_params[\"fit\"])\n",
            "  File \"/Users/hneen/miniconda3/lib/python3.11/site-packages/sklearn/base.py\", line 1344, in wrapper\n",
            "    estimator._validate_params()\n",
            "  File \"/Users/hneen/miniconda3/lib/python3.11/site-packages/sklearn/base.py\", line 666, in _validate_params\n",
            "    validate_parameter_constraints(\n",
            "  File \"/Users/hneen/miniconda3/lib/python3.11/site-packages/sklearn/utils/_param_validation.py\", line 95, in validate_parameter_constraints\n",
            "    raise InvalidParameterError(\n",
            "sklearn.utils._param_validation.InvalidParameterError: The 'max_features' parameter of ExtraTreesClassifier must be an int in the range [1, inf), a float in the range (0.0, 1.0], a str among {'sqrt', 'log2'} or None. Got 'auto' instead.\n",
            "\n",
            "--------------------------------------------------------------------------------\n",
            "357 fits failed with the following error:\n",
            "Traceback (most recent call last):\n",
            "  File \"/Users/hneen/miniconda3/lib/python3.11/site-packages/sklearn/model_selection/_validation.py\", line 890, in _fit_and_score\n",
            "    estimator.fit(X_train, y_train, **fit_params)\n",
            "  File \"/Users/hneen/miniconda3/lib/python3.11/site-packages/sklearn/base.py\", line 1351, in wrapper\n",
            "    return fit_method(estimator, *args, **kwargs)\n",
            "           ^^^^^^^^^^^^^^^^^^^^^^^^^^^^^^^^^^^^^^\n",
            "  File \"/Users/hneen/miniconda3/lib/python3.11/site-packages/sklearn/pipeline.py\", line 475, in fit\n",
            "    self._final_estimator.fit(Xt, y, **last_step_params[\"fit\"])\n",
            "  File \"/Users/hneen/miniconda3/lib/python3.11/site-packages/sklearn/base.py\", line 1344, in wrapper\n",
            "    estimator._validate_params()\n",
            "  File \"/Users/hneen/miniconda3/lib/python3.11/site-packages/sklearn/base.py\", line 666, in _validate_params\n",
            "    validate_parameter_constraints(\n",
            "  File \"/Users/hneen/miniconda3/lib/python3.11/site-packages/sklearn/utils/_param_validation.py\", line 95, in validate_parameter_constraints\n",
            "    raise InvalidParameterError(\n",
            "sklearn.utils._param_validation.InvalidParameterError: The 'max_features' parameter of ExtraTreesClassifier must be an int in the range [1, inf), a float in the range (0.0, 1.0], a str among {'log2', 'sqrt'} or None. Got 'auto' instead.\n",
            "\n",
            "  warnings.warn(some_fits_failed_message, FitFailedWarning)\n",
            "/Users/hneen/miniconda3/lib/python3.11/site-packages/sklearn/model_selection/_search.py:1051: UserWarning: One or more of the test scores are non-finite: [       nan        nan        nan        nan        nan        nan\n",
            "        nan        nan        nan        nan        nan        nan\n",
            "        nan        nan        nan        nan        nan        nan\n",
            "        nan        nan        nan        nan        nan        nan\n",
            "        nan        nan        nan 0.99275362 0.99130435 0.99371981\n",
            " 0.99082126 0.99082126 0.99033816 0.98599034 0.98792271 0.98647343\n",
            " 0.98502415 0.98599034 0.98502415 0.98599034 0.98550725 0.98647343\n",
            " 0.97971014 0.98115942 0.98115942 0.97487923 0.97487923 0.97439614\n",
            " 0.97487923 0.97487923 0.97439614 0.97536232 0.97439614 0.97391304\n",
            " 0.99275362 0.99130435 0.99371981 0.99082126 0.99082126 0.99033816\n",
            " 0.98599034 0.98792271 0.98647343 0.98502415 0.98599034 0.98502415\n",
            " 0.98599034 0.98550725 0.98647343 0.97971014 0.98115942 0.98115942\n",
            " 0.97487923 0.97487923 0.97439614 0.97487923 0.97487923 0.97439614\n",
            " 0.97536232 0.97439614 0.97391304        nan        nan        nan\n",
            "        nan        nan        nan        nan        nan        nan\n",
            "        nan        nan        nan        nan        nan        nan\n",
            "        nan        nan        nan        nan        nan        nan\n",
            "        nan        nan        nan        nan        nan        nan\n",
            " 0.97777778 0.97729469 0.97777778 0.9763285  0.97681159 0.97584541\n",
            " 0.97536232 0.9763285  0.9763285  0.97391304 0.97584541 0.97487923\n",
            " 0.97439614 0.97342995 0.97391304 0.97342995 0.97391304 0.97439614\n",
            " 0.97149758 0.97101449 0.9705314  0.97149758 0.97101449 0.9705314\n",
            " 0.97246377 0.97198068 0.97101449 0.97777778 0.97729469 0.97777778\n",
            " 0.9763285  0.97681159 0.97584541 0.97536232 0.9763285  0.9763285\n",
            " 0.97391304 0.97584541 0.97487923 0.97439614 0.97342995 0.97391304\n",
            " 0.97342995 0.97391304 0.97439614 0.97149758 0.97101449 0.9705314\n",
            " 0.97149758 0.97101449 0.9705314  0.97246377 0.97198068 0.97101449\n",
            "        nan        nan        nan        nan        nan        nan\n",
            "        nan        nan        nan        nan        nan        nan\n",
            "        nan        nan        nan        nan        nan        nan\n",
            "        nan        nan        nan        nan        nan        nan\n",
            "        nan        nan        nan 0.99275362 0.99130435 0.99371981\n",
            " 0.99082126 0.99082126 0.99033816 0.98599034 0.9884058  0.98647343\n",
            " 0.98502415 0.98599034 0.98502415 0.98599034 0.98550725 0.98647343\n",
            " 0.97971014 0.98115942 0.98115942 0.97487923 0.97487923 0.97439614\n",
            " 0.97487923 0.97487923 0.97439614 0.97536232 0.97439614 0.97391304\n",
            " 0.99275362 0.99130435 0.99371981 0.99082126 0.99082126 0.99033816\n",
            " 0.98599034 0.9884058  0.98647343 0.98502415 0.98599034 0.98502415\n",
            " 0.98599034 0.98550725 0.98647343 0.97971014 0.98115942 0.98115942\n",
            " 0.97487923 0.97487923 0.97439614 0.97487923 0.97487923 0.97439614\n",
            " 0.97536232 0.97439614 0.97391304        nan        nan        nan\n",
            "        nan        nan        nan        nan        nan        nan\n",
            "        nan        nan        nan        nan        nan        nan\n",
            "        nan        nan        nan        nan        nan        nan\n",
            "        nan        nan        nan        nan        nan        nan\n",
            " 0.99275362 0.99130435 0.99371981 0.99082126 0.99082126 0.99033816\n",
            " 0.98599034 0.98792271 0.98647343 0.98502415 0.98599034 0.98502415\n",
            " 0.98599034 0.98550725 0.98647343 0.97971014 0.98115942 0.98115942\n",
            " 0.97487923 0.97487923 0.97439614 0.97487923 0.97487923 0.97439614\n",
            " 0.97536232 0.97439614 0.97391304 0.99275362 0.99130435 0.99371981\n",
            " 0.99082126 0.99082126 0.99033816 0.98599034 0.98792271 0.98647343\n",
            " 0.98502415 0.98599034 0.98502415 0.98599034 0.98550725 0.98647343\n",
            " 0.97971014 0.98115942 0.98115942 0.97487923 0.97487923 0.97439614\n",
            " 0.97487923 0.97487923 0.97439614 0.97536232 0.97439614 0.97391304]\n",
            "  warnings.warn(\n"
          ]
        },
        {
          "name": "stdout",
          "output_type": "stream",
          "text": [
            "Best Parameters: {'extra_trees__max_depth': None, 'extra_trees__max_features': 'sqrt', 'extra_trees__min_samples_leaf': 1, 'extra_trees__min_samples_split': 2, 'extra_trees__n_estimators': 300}\n",
            "Best Score: 0.9937198067632849\n",
            "              precision    recall  f1-score   support\n",
            "\n",
            "           0       0.99      1.00      1.00       241\n",
            "           1       1.00      0.99      1.00       277\n",
            "\n",
            "    accuracy                           1.00       518\n",
            "   macro avg       1.00      1.00      1.00       518\n",
            "weighted avg       1.00      1.00      1.00       518\n",
            "\n"
          ]
        }
      ],
      "source": [
        "best_LGBM3 = optimize_with_grid(X_train, y_train)\n",
        "prediction = predict('SMOTEENN_grid',best_LGBM3, X_test, y_test)"
      ]
    },
    {
      "cell_type": "markdown",
      "metadata": {
        "id": "1PnNxWS7qKIN"
      },
      "source": [
        "<h1> DT on Random undersampling </h1>"
      ]
    },
    {
      "cell_type": "code",
      "execution_count": 23,
      "metadata": {
        "id": "hyBeGwkxqKIN"
      },
      "outputs": [],
      "source": [
        "X,y = splitting_data(df, 'under')\n",
        "X_train, X_test, y_train, y_test = train_test_split(X, y, test_size=0.2, random_state=123)\n",
        "scaler = StandardScaler()\n",
        "X_train = scaler.fit_transform(X_train)\n",
        "X_test = scaler.transform(X_test)"
      ]
    },
    {
      "cell_type": "code",
      "execution_count": 24,
      "metadata": {
        "colab": {
          "base_uri": "https://localhost:8080/"
        },
        "id": "CngNW2VoqKIN",
        "outputId": "4e5988f1-e887-494e-9094-9f36ec80c007"
      },
      "outputs": [
        {
          "name": "stdout",
          "output_type": "stream",
          "text": [
            "Number of observations in each class in the set:\n",
            "diagnostic\n",
            "0    211\n",
            "1    211\n",
            "Name: count, dtype: int64\n"
          ]
        }
      ],
      "source": [
        "print(\"Number of observations in each class in the set:\")\n",
        "print(y.value_counts())"
      ]
    },
    {
      "cell_type": "code",
      "execution_count": 25,
      "metadata": {
        "colab": {
          "base_uri": "https://localhost:8080/"
        },
        "id": "oWfctngdqKIN",
        "outputId": "5f3cc946-e233-4d0d-8dc9-5981be847412"
      },
      "outputs": [
        {
          "name": "stdout",
          "output_type": "stream",
          "text": [
            "              precision    recall  f1-score   support\n",
            "\n",
            "           0       0.82      0.94      0.88        35\n",
            "           1       0.96      0.86      0.91        50\n",
            "\n",
            "    accuracy                           0.89        85\n",
            "   macro avg       0.89      0.90      0.89        85\n",
            "weighted avg       0.90      0.89      0.89        85\n",
            "\n"
          ]
        }
      ],
      "source": [
        "LGBM4 =training(X_train, y_train)\n",
        "y_pred = predict('undersampling',LGBM4, X_test, y_test)"
      ]
    },
    {
      "cell_type": "code",
      "execution_count": 26,
      "metadata": {
        "colab": {
          "base_uri": "https://localhost:8080/"
        },
        "id": "Gphc1Qn_qKIN",
        "outputId": "0209143e-94d9-4d5a-83c3-3ae43c82854d"
      },
      "outputs": [
        {
          "name": "stdout",
          "output_type": "stream",
          "text": [
            "Fitting 5 folds for each of 324 candidates, totalling 1620 fits\n",
            "Best Parameters: {'extra_trees__max_depth': 10, 'extra_trees__max_features': 'sqrt', 'extra_trees__min_samples_leaf': 1, 'extra_trees__min_samples_split': 5, 'extra_trees__n_estimators': 100}\n",
            "Best Score: 0.90513608428446\n",
            "              precision    recall  f1-score   support\n",
            "\n",
            "           0       0.87      0.94      0.90        35\n",
            "           1       0.96      0.90      0.93        50\n",
            "\n",
            "    accuracy                           0.92        85\n",
            "   macro avg       0.91      0.92      0.92        85\n",
            "weighted avg       0.92      0.92      0.92        85\n",
            "\n"
          ]
        },
        {
          "name": "stderr",
          "output_type": "stream",
          "text": [
            "/Users/hneen/miniconda3/lib/python3.11/site-packages/sklearn/model_selection/_validation.py:542: FitFailedWarning: \n",
            "540 fits failed out of a total of 1620.\n",
            "The score on these train-test partitions for these parameters will be set to nan.\n",
            "If these failures are not expected, you can try to debug them by setting error_score='raise'.\n",
            "\n",
            "Below are more details about the failures:\n",
            "--------------------------------------------------------------------------------\n",
            "403 fits failed with the following error:\n",
            "Traceback (most recent call last):\n",
            "  File \"/Users/hneen/miniconda3/lib/python3.11/site-packages/sklearn/model_selection/_validation.py\", line 890, in _fit_and_score\n",
            "    estimator.fit(X_train, y_train, **fit_params)\n",
            "  File \"/Users/hneen/miniconda3/lib/python3.11/site-packages/sklearn/base.py\", line 1351, in wrapper\n",
            "    return fit_method(estimator, *args, **kwargs)\n",
            "           ^^^^^^^^^^^^^^^^^^^^^^^^^^^^^^^^^^^^^^\n",
            "  File \"/Users/hneen/miniconda3/lib/python3.11/site-packages/sklearn/pipeline.py\", line 475, in fit\n",
            "    self._final_estimator.fit(Xt, y, **last_step_params[\"fit\"])\n",
            "  File \"/Users/hneen/miniconda3/lib/python3.11/site-packages/sklearn/base.py\", line 1344, in wrapper\n",
            "    estimator._validate_params()\n",
            "  File \"/Users/hneen/miniconda3/lib/python3.11/site-packages/sklearn/base.py\", line 666, in _validate_params\n",
            "    validate_parameter_constraints(\n",
            "  File \"/Users/hneen/miniconda3/lib/python3.11/site-packages/sklearn/utils/_param_validation.py\", line 95, in validate_parameter_constraints\n",
            "    raise InvalidParameterError(\n",
            "sklearn.utils._param_validation.InvalidParameterError: The 'max_features' parameter of ExtraTreesClassifier must be an int in the range [1, inf), a float in the range (0.0, 1.0], a str among {'sqrt', 'log2'} or None. Got 'auto' instead.\n",
            "\n",
            "--------------------------------------------------------------------------------\n",
            "137 fits failed with the following error:\n",
            "Traceback (most recent call last):\n",
            "  File \"/Users/hneen/miniconda3/lib/python3.11/site-packages/sklearn/model_selection/_validation.py\", line 890, in _fit_and_score\n",
            "    estimator.fit(X_train, y_train, **fit_params)\n",
            "  File \"/Users/hneen/miniconda3/lib/python3.11/site-packages/sklearn/base.py\", line 1351, in wrapper\n",
            "    return fit_method(estimator, *args, **kwargs)\n",
            "           ^^^^^^^^^^^^^^^^^^^^^^^^^^^^^^^^^^^^^^\n",
            "  File \"/Users/hneen/miniconda3/lib/python3.11/site-packages/sklearn/pipeline.py\", line 475, in fit\n",
            "    self._final_estimator.fit(Xt, y, **last_step_params[\"fit\"])\n",
            "  File \"/Users/hneen/miniconda3/lib/python3.11/site-packages/sklearn/base.py\", line 1344, in wrapper\n",
            "    estimator._validate_params()\n",
            "  File \"/Users/hneen/miniconda3/lib/python3.11/site-packages/sklearn/base.py\", line 666, in _validate_params\n",
            "    validate_parameter_constraints(\n",
            "  File \"/Users/hneen/miniconda3/lib/python3.11/site-packages/sklearn/utils/_param_validation.py\", line 95, in validate_parameter_constraints\n",
            "    raise InvalidParameterError(\n",
            "sklearn.utils._param_validation.InvalidParameterError: The 'max_features' parameter of ExtraTreesClassifier must be an int in the range [1, inf), a float in the range (0.0, 1.0], a str among {'log2', 'sqrt'} or None. Got 'auto' instead.\n",
            "\n",
            "  warnings.warn(some_fits_failed_message, FitFailedWarning)\n",
            "/Users/hneen/miniconda3/lib/python3.11/site-packages/sklearn/model_selection/_search.py:1051: UserWarning: One or more of the test scores are non-finite: [       nan        nan        nan        nan        nan        nan\n",
            "        nan        nan        nan        nan        nan        nan\n",
            "        nan        nan        nan        nan        nan        nan\n",
            "        nan        nan        nan        nan        nan        nan\n",
            "        nan        nan        nan 0.87550483 0.8784899  0.88143108\n",
            " 0.88428446 0.87835821 0.88424056 0.90504829 0.89618086 0.89912204\n",
            " 0.89323968 0.89916594 0.89618086 0.89618086 0.89618086 0.89319579\n",
            " 0.90215101 0.89622476 0.89622476 0.89920983 0.89034241 0.88147498\n",
            " 0.89920983 0.89034241 0.88147498 0.88437226 0.89626866 0.89626866\n",
            " 0.87550483 0.8784899  0.88143108 0.88428446 0.87835821 0.88424056\n",
            " 0.90504829 0.89618086 0.89912204 0.89323968 0.89916594 0.89618086\n",
            " 0.89618086 0.89618086 0.89319579 0.90215101 0.89622476 0.89622476\n",
            " 0.89920983 0.89034241 0.88147498 0.89920983 0.89034241 0.88147498\n",
            " 0.88437226 0.89626866 0.89626866        nan        nan        nan\n",
            "        nan        nan        nan        nan        nan        nan\n",
            "        nan        nan        nan        nan        nan        nan\n",
            "        nan        nan        nan        nan        nan        nan\n",
            "        nan        nan        nan        nan        nan        nan\n",
            " 0.90210711 0.90210711 0.89916594 0.90513608 0.89622476 0.89920983\n",
            " 0.90504829 0.89323968 0.89618086 0.89920983 0.90215101 0.89916594\n",
            " 0.89920983 0.89622476 0.89618086 0.90215101 0.89622476 0.89622476\n",
            " 0.89920983 0.88735733 0.88147498 0.89920983 0.88735733 0.88147498\n",
            " 0.89332748 0.89626866 0.89626866 0.90210711 0.90210711 0.89916594\n",
            " 0.90513608 0.89622476 0.89920983 0.90504829 0.89323968 0.89618086\n",
            " 0.89920983 0.90215101 0.89916594 0.89920983 0.89622476 0.89618086\n",
            " 0.90215101 0.89622476 0.89622476 0.89920983 0.88735733 0.88147498\n",
            " 0.89920983 0.88735733 0.88147498 0.89332748 0.89626866 0.89626866\n",
            "        nan        nan        nan        nan        nan        nan\n",
            "        nan        nan        nan        nan        nan        nan\n",
            "        nan        nan        nan        nan        nan        nan\n",
            "        nan        nan        nan        nan        nan        nan\n",
            "        nan        nan        nan 0.87550483 0.8784899  0.88143108\n",
            " 0.88428446 0.87835821 0.88424056 0.90504829 0.89618086 0.89912204\n",
            " 0.89323968 0.89916594 0.89618086 0.89618086 0.89618086 0.89319579\n",
            " 0.90215101 0.89622476 0.89622476 0.89920983 0.89034241 0.88147498\n",
            " 0.89920983 0.89034241 0.88147498 0.88437226 0.89626866 0.89626866\n",
            " 0.87550483 0.8784899  0.88143108 0.88428446 0.87835821 0.88424056\n",
            " 0.90504829 0.89618086 0.89912204 0.89323968 0.89916594 0.89618086\n",
            " 0.89618086 0.89618086 0.89319579 0.90215101 0.89622476 0.89622476\n",
            " 0.89920983 0.89034241 0.88147498 0.89920983 0.89034241 0.88147498\n",
            " 0.88437226 0.89626866 0.89626866        nan        nan        nan\n",
            "        nan        nan        nan        nan        nan        nan\n",
            "        nan        nan        nan        nan        nan        nan\n",
            "        nan        nan        nan        nan        nan        nan\n",
            "        nan        nan        nan        nan        nan        nan\n",
            " 0.87550483 0.8784899  0.88143108 0.88428446 0.87835821 0.88424056\n",
            " 0.90504829 0.89618086 0.89912204 0.89323968 0.89916594 0.89618086\n",
            " 0.89618086 0.89618086 0.89319579 0.90215101 0.89622476 0.89622476\n",
            " 0.89920983 0.89034241 0.88147498 0.89920983 0.89034241 0.88147498\n",
            " 0.88437226 0.89626866 0.89626866 0.87550483 0.8784899  0.88143108\n",
            " 0.88428446 0.87835821 0.88424056 0.90504829 0.89618086 0.89912204\n",
            " 0.89323968 0.89916594 0.89618086 0.89618086 0.89618086 0.89319579\n",
            " 0.90215101 0.89622476 0.89622476 0.89920983 0.89034241 0.88147498\n",
            " 0.89920983 0.89034241 0.88147498 0.88437226 0.89626866 0.89626866]\n",
            "  warnings.warn(\n"
          ]
        }
      ],
      "source": [
        "best_LGBM4 = optimize_with_grid(X_train, y_train)\n",
        "prediction = predict('undersampling_grid',best_LGBM4, X_test, y_test)"
      ]
    },
    {
      "cell_type": "markdown",
      "metadata": {
        "id": "gwX52mz6rJQM"
      },
      "source": [
        "<h1> DT on Random Oversampling </h1>"
      ]
    },
    {
      "cell_type": "code",
      "execution_count": 27,
      "metadata": {
        "id": "vRNY2IctrJQY"
      },
      "outputs": [],
      "source": [
        "X,y = splitting_data(df, 'over')\n",
        "X_train, X_test, y_train, y_test = train_test_split(X, y, test_size=0.2, random_state=123)\n",
        "scaler = StandardScaler()\n",
        "X_train = scaler.fit_transform(X_train)\n",
        "X_test = scaler.transform(X_test)"
      ]
    },
    {
      "cell_type": "code",
      "execution_count": 28,
      "metadata": {
        "colab": {
          "base_uri": "https://localhost:8080/"
        },
        "id": "5fQJF0p-rJQY",
        "outputId": "91d1cd54-a355-432b-d511-8707f92a9812"
      },
      "outputs": [
        {
          "name": "stdout",
          "output_type": "stream",
          "text": [
            "Number of observations in each class in the set:\n",
            "diagnostic\n",
            "1    1494\n",
            "0    1494\n",
            "Name: count, dtype: int64\n"
          ]
        }
      ],
      "source": [
        "print(\"Number of observations in each class in the set:\")\n",
        "print(y.value_counts())"
      ]
    },
    {
      "cell_type": "code",
      "execution_count": 29,
      "metadata": {
        "colab": {
          "base_uri": "https://localhost:8080/"
        },
        "id": "tHyDEyJMrJQZ",
        "outputId": "910b50ab-9f84-4f3b-a9b6-67de99d6a906"
      },
      "outputs": [
        {
          "name": "stdout",
          "output_type": "stream",
          "text": [
            "              precision    recall  f1-score   support\n",
            "\n",
            "           0       0.94      1.00      0.97       292\n",
            "           1       1.00      0.94      0.97       306\n",
            "\n",
            "    accuracy                           0.97       598\n",
            "   macro avg       0.97      0.97      0.97       598\n",
            "weighted avg       0.97      0.97      0.97       598\n",
            "\n"
          ]
        }
      ],
      "source": [
        "LGBM5 =training(X_train, y_train)\n",
        "y_pred = predict('oversampling',LGBM5, X_test, y_test)"
      ]
    },
    {
      "cell_type": "code",
      "execution_count": 30,
      "metadata": {
        "colab": {
          "base_uri": "https://localhost:8080/"
        },
        "id": "LtbUa8ZIrrWY",
        "outputId": "f506ca33-9fd4-46a6-f8ae-21d1e14b7de3"
      },
      "outputs": [
        {
          "name": "stdout",
          "output_type": "stream",
          "text": [
            "Fitting 5 folds for each of 324 candidates, totalling 1620 fits\n",
            "Best Parameters: {'extra_trees__max_depth': None, 'extra_trees__max_features': 'sqrt', 'extra_trees__min_samples_leaf': 1, 'extra_trees__min_samples_split': 2, 'extra_trees__n_estimators': 100}\n",
            "Best Score: 0.9732217573221759\n",
            "              precision    recall  f1-score   support\n",
            "\n",
            "           0       0.94      1.00      0.97       292\n",
            "           1       1.00      0.94      0.97       306\n",
            "\n",
            "    accuracy                           0.97       598\n",
            "   macro avg       0.97      0.97      0.97       598\n",
            "weighted avg       0.97      0.97      0.97       598\n",
            "\n"
          ]
        },
        {
          "name": "stderr",
          "output_type": "stream",
          "text": [
            "/Users/hneen/miniconda3/lib/python3.11/site-packages/sklearn/model_selection/_validation.py:542: FitFailedWarning: \n",
            "540 fits failed out of a total of 1620.\n",
            "The score on these train-test partitions for these parameters will be set to nan.\n",
            "If these failures are not expected, you can try to debug them by setting error_score='raise'.\n",
            "\n",
            "Below are more details about the failures:\n",
            "--------------------------------------------------------------------------------\n",
            "406 fits failed with the following error:\n",
            "Traceback (most recent call last):\n",
            "  File \"/Users/hneen/miniconda3/lib/python3.11/site-packages/sklearn/model_selection/_validation.py\", line 890, in _fit_and_score\n",
            "    estimator.fit(X_train, y_train, **fit_params)\n",
            "  File \"/Users/hneen/miniconda3/lib/python3.11/site-packages/sklearn/base.py\", line 1351, in wrapper\n",
            "    return fit_method(estimator, *args, **kwargs)\n",
            "           ^^^^^^^^^^^^^^^^^^^^^^^^^^^^^^^^^^^^^^\n",
            "  File \"/Users/hneen/miniconda3/lib/python3.11/site-packages/sklearn/pipeline.py\", line 475, in fit\n",
            "    self._final_estimator.fit(Xt, y, **last_step_params[\"fit\"])\n",
            "  File \"/Users/hneen/miniconda3/lib/python3.11/site-packages/sklearn/base.py\", line 1344, in wrapper\n",
            "    estimator._validate_params()\n",
            "  File \"/Users/hneen/miniconda3/lib/python3.11/site-packages/sklearn/base.py\", line 666, in _validate_params\n",
            "    validate_parameter_constraints(\n",
            "  File \"/Users/hneen/miniconda3/lib/python3.11/site-packages/sklearn/utils/_param_validation.py\", line 95, in validate_parameter_constraints\n",
            "    raise InvalidParameterError(\n",
            "sklearn.utils._param_validation.InvalidParameterError: The 'max_features' parameter of ExtraTreesClassifier must be an int in the range [1, inf), a float in the range (0.0, 1.0], a str among {'sqrt', 'log2'} or None. Got 'auto' instead.\n",
            "\n",
            "--------------------------------------------------------------------------------\n",
            "134 fits failed with the following error:\n",
            "Traceback (most recent call last):\n",
            "  File \"/Users/hneen/miniconda3/lib/python3.11/site-packages/sklearn/model_selection/_validation.py\", line 890, in _fit_and_score\n",
            "    estimator.fit(X_train, y_train, **fit_params)\n",
            "  File \"/Users/hneen/miniconda3/lib/python3.11/site-packages/sklearn/base.py\", line 1351, in wrapper\n",
            "    return fit_method(estimator, *args, **kwargs)\n",
            "           ^^^^^^^^^^^^^^^^^^^^^^^^^^^^^^^^^^^^^^\n",
            "  File \"/Users/hneen/miniconda3/lib/python3.11/site-packages/sklearn/pipeline.py\", line 475, in fit\n",
            "    self._final_estimator.fit(Xt, y, **last_step_params[\"fit\"])\n",
            "  File \"/Users/hneen/miniconda3/lib/python3.11/site-packages/sklearn/base.py\", line 1344, in wrapper\n",
            "    estimator._validate_params()\n",
            "  File \"/Users/hneen/miniconda3/lib/python3.11/site-packages/sklearn/base.py\", line 666, in _validate_params\n",
            "    validate_parameter_constraints(\n",
            "  File \"/Users/hneen/miniconda3/lib/python3.11/site-packages/sklearn/utils/_param_validation.py\", line 95, in validate_parameter_constraints\n",
            "    raise InvalidParameterError(\n",
            "sklearn.utils._param_validation.InvalidParameterError: The 'max_features' parameter of ExtraTreesClassifier must be an int in the range [1, inf), a float in the range (0.0, 1.0], a str among {'log2', 'sqrt'} or None. Got 'auto' instead.\n",
            "\n",
            "  warnings.warn(some_fits_failed_message, FitFailedWarning)\n",
            "/Users/hneen/miniconda3/lib/python3.11/site-packages/sklearn/model_selection/_search.py:1051: UserWarning: One or more of the test scores are non-finite: [       nan        nan        nan        nan        nan        nan\n",
            "        nan        nan        nan        nan        nan        nan\n",
            "        nan        nan        nan        nan        nan        nan\n",
            "        nan        nan        nan        nan        nan        nan\n",
            "        nan        nan        nan 0.97322176 0.97280335 0.97280335\n",
            " 0.97154812 0.97112971 0.9707113  0.96736402 0.96820084 0.96820084\n",
            " 0.96276151 0.96276151 0.96276151 0.96025105 0.96192469 0.96192469\n",
            " 0.95857741 0.958159   0.95857741 0.94686192 0.94686192 0.94769874\n",
            " 0.94686192 0.94686192 0.94769874 0.94728033 0.94644351 0.94728033\n",
            " 0.97322176 0.97280335 0.97280335 0.97154812 0.97112971 0.9707113\n",
            " 0.96736402 0.96820084 0.96820084 0.96276151 0.96276151 0.96276151\n",
            " 0.96025105 0.96192469 0.96192469 0.95857741 0.958159   0.95857741\n",
            " 0.94686192 0.94686192 0.94769874 0.94686192 0.94686192 0.94769874\n",
            " 0.94728033 0.94644351 0.94728033        nan        nan        nan\n",
            "        nan        nan        nan        nan        nan        nan\n",
            "        nan        nan        nan        nan        nan        nan\n",
            "        nan        nan        nan        nan        nan        nan\n",
            "        nan        nan        nan        nan        nan        nan\n",
            " 0.95230126 0.95188285 0.95104603 0.94811715 0.95020921 0.95062762\n",
            " 0.94979079 0.94937238 0.94728033 0.94979079 0.94811715 0.94853556\n",
            " 0.94937238 0.94853556 0.94811715 0.94393305 0.94476987 0.94351464\n",
            " 0.94351464 0.94142259 0.94100418 0.94351464 0.94142259 0.94100418\n",
            " 0.941841   0.93891213 0.94100418 0.95230126 0.95188285 0.95104603\n",
            " 0.94811715 0.95020921 0.95062762 0.94979079 0.94937238 0.94728033\n",
            " 0.94979079 0.94811715 0.94853556 0.94937238 0.94853556 0.94811715\n",
            " 0.94393305 0.94476987 0.94351464 0.94351464 0.94142259 0.94100418\n",
            " 0.94351464 0.94142259 0.94100418 0.941841   0.93891213 0.94100418\n",
            "        nan        nan        nan        nan        nan        nan\n",
            "        nan        nan        nan        nan        nan        nan\n",
            "        nan        nan        nan        nan        nan        nan\n",
            "        nan        nan        nan        nan        nan        nan\n",
            "        nan        nan        nan 0.97322176 0.97280335 0.97280335\n",
            " 0.97154812 0.9707113  0.97112971 0.96903766 0.96945607 0.96945607\n",
            " 0.96192469 0.96276151 0.96276151 0.96066946 0.96066946 0.96192469\n",
            " 0.95857741 0.958159   0.95899582 0.94728033 0.94686192 0.94769874\n",
            " 0.94728033 0.94686192 0.94769874 0.94728033 0.94644351 0.94728033\n",
            " 0.97322176 0.97280335 0.97280335 0.97154812 0.9707113  0.97112971\n",
            " 0.96903766 0.96945607 0.96945607 0.96192469 0.96276151 0.96276151\n",
            " 0.96066946 0.96066946 0.96192469 0.95857741 0.958159   0.95899582\n",
            " 0.94728033 0.94686192 0.94769874 0.94728033 0.94686192 0.94769874\n",
            " 0.94728033 0.94644351 0.94728033        nan        nan        nan\n",
            "        nan        nan        nan        nan        nan        nan\n",
            "        nan        nan        nan        nan        nan        nan\n",
            "        nan        nan        nan        nan        nan        nan\n",
            "        nan        nan        nan        nan        nan        nan\n",
            " 0.97322176 0.97280335 0.97280335 0.97154812 0.97112971 0.9707113\n",
            " 0.96736402 0.96820084 0.96820084 0.96276151 0.96276151 0.96276151\n",
            " 0.96025105 0.96192469 0.96192469 0.95857741 0.958159   0.95857741\n",
            " 0.94686192 0.94686192 0.94769874 0.94686192 0.94686192 0.94769874\n",
            " 0.94728033 0.94644351 0.94728033 0.97322176 0.97280335 0.97280335\n",
            " 0.97154812 0.97112971 0.9707113  0.96736402 0.96820084 0.96820084\n",
            " 0.96276151 0.96276151 0.96276151 0.96025105 0.96192469 0.96192469\n",
            " 0.95857741 0.958159   0.95857741 0.94686192 0.94686192 0.94769874\n",
            " 0.94686192 0.94686192 0.94769874 0.94728033 0.94644351 0.94728033]\n",
            "  warnings.warn(\n"
          ]
        }
      ],
      "source": [
        "best_LGBM5 = optimize_with_grid(X_train, y_train)\n",
        "prediction = predict('oversampling_grid',best_LGBM5, X_test, y_test)"
      ]
    },
    {
      "cell_type": "markdown",
      "metadata": {
        "id": "LGpTKsmiqKIN"
      },
      "source": [
        "<h1> DT on Cluster Centroids </h1>"
      ]
    },
    {
      "cell_type": "code",
      "execution_count": 31,
      "metadata": {
        "colab": {
          "base_uri": "https://localhost:8080/"
        },
        "id": "ZkaTFoZVqKIN",
        "outputId": "5dd6d896-8f22-4902-e9ae-fce76914004f"
      },
      "outputs": [],
      "source": [
        "X,y = splitting_data(df, 'cluster_centroids')\n",
        "X_train, X_test, y_train, y_test = train_test_split(X, y, test_size=0.2, random_state=123)\n",
        "scaler = StandardScaler()\n",
        "X_train = scaler.fit_transform(X_train)\n",
        "X_test = scaler.transform(X_test)"
      ]
    },
    {
      "cell_type": "code",
      "execution_count": 32,
      "metadata": {
        "colab": {
          "base_uri": "https://localhost:8080/"
        },
        "id": "dS1rSgaxqKIN",
        "outputId": "5962a95b-06f3-41ce-94da-5e35c6e14371"
      },
      "outputs": [
        {
          "name": "stdout",
          "output_type": "stream",
          "text": [
            "Number of observations in each class in the set:\n",
            "diagnostic\n",
            "0    211\n",
            "1    211\n",
            "Name: count, dtype: int64\n"
          ]
        }
      ],
      "source": [
        "print(\"Number of observations in each class in the set:\")\n",
        "print(y.value_counts())"
      ]
    },
    {
      "cell_type": "code",
      "execution_count": 33,
      "metadata": {
        "colab": {
          "base_uri": "https://localhost:8080/"
        },
        "id": "nqdTB76UqKIN",
        "outputId": "02ab0f35-37e7-44f2-e8e8-1d1add42d954"
      },
      "outputs": [
        {
          "name": "stdout",
          "output_type": "stream",
          "text": [
            "              precision    recall  f1-score   support\n",
            "\n",
            "           0       0.88      1.00      0.93        35\n",
            "           1       1.00      0.90      0.95        50\n",
            "\n",
            "    accuracy                           0.94        85\n",
            "   macro avg       0.94      0.95      0.94        85\n",
            "weighted avg       0.95      0.94      0.94        85\n",
            "\n"
          ]
        }
      ],
      "source": [
        "LGBM6 =training(X_train, y_train)\n",
        "y_pred = predict('cluster_centroids',LGBM6, X_test, y_test)"
      ]
    },
    {
      "cell_type": "code",
      "execution_count": 34,
      "metadata": {
        "colab": {
          "base_uri": "https://localhost:8080/"
        },
        "id": "4EeeuE9NqKIN",
        "outputId": "22fe4910-323a-4447-9c15-6f4c480698dc"
      },
      "outputs": [
        {
          "name": "stdout",
          "output_type": "stream",
          "text": [
            "Fitting 5 folds for each of 324 candidates, totalling 1620 fits\n",
            "Best Parameters: {'extra_trees__max_depth': None, 'extra_trees__max_features': 'sqrt', 'extra_trees__min_samples_leaf': 2, 'extra_trees__min_samples_split': 2, 'extra_trees__n_estimators': 200}\n",
            "Best Score: 0.9525899912203688\n",
            "              precision    recall  f1-score   support\n",
            "\n",
            "           0       0.90      1.00      0.95        35\n",
            "           1       1.00      0.92      0.96        50\n",
            "\n",
            "    accuracy                           0.95        85\n",
            "   macro avg       0.95      0.96      0.95        85\n",
            "weighted avg       0.96      0.95      0.95        85\n",
            "\n"
          ]
        },
        {
          "name": "stderr",
          "output_type": "stream",
          "text": [
            "/Users/hneen/miniconda3/lib/python3.11/site-packages/sklearn/model_selection/_validation.py:542: FitFailedWarning: \n",
            "540 fits failed out of a total of 1620.\n",
            "The score on these train-test partitions for these parameters will be set to nan.\n",
            "If these failures are not expected, you can try to debug them by setting error_score='raise'.\n",
            "\n",
            "Below are more details about the failures:\n",
            "--------------------------------------------------------------------------------\n",
            "400 fits failed with the following error:\n",
            "Traceback (most recent call last):\n",
            "  File \"/Users/hneen/miniconda3/lib/python3.11/site-packages/sklearn/model_selection/_validation.py\", line 890, in _fit_and_score\n",
            "    estimator.fit(X_train, y_train, **fit_params)\n",
            "  File \"/Users/hneen/miniconda3/lib/python3.11/site-packages/sklearn/base.py\", line 1351, in wrapper\n",
            "    return fit_method(estimator, *args, **kwargs)\n",
            "           ^^^^^^^^^^^^^^^^^^^^^^^^^^^^^^^^^^^^^^\n",
            "  File \"/Users/hneen/miniconda3/lib/python3.11/site-packages/sklearn/pipeline.py\", line 475, in fit\n",
            "    self._final_estimator.fit(Xt, y, **last_step_params[\"fit\"])\n",
            "  File \"/Users/hneen/miniconda3/lib/python3.11/site-packages/sklearn/base.py\", line 1344, in wrapper\n",
            "    estimator._validate_params()\n",
            "  File \"/Users/hneen/miniconda3/lib/python3.11/site-packages/sklearn/base.py\", line 666, in _validate_params\n",
            "    validate_parameter_constraints(\n",
            "  File \"/Users/hneen/miniconda3/lib/python3.11/site-packages/sklearn/utils/_param_validation.py\", line 95, in validate_parameter_constraints\n",
            "    raise InvalidParameterError(\n",
            "sklearn.utils._param_validation.InvalidParameterError: The 'max_features' parameter of ExtraTreesClassifier must be an int in the range [1, inf), a float in the range (0.0, 1.0], a str among {'sqrt', 'log2'} or None. Got 'auto' instead.\n",
            "\n",
            "--------------------------------------------------------------------------------\n",
            "140 fits failed with the following error:\n",
            "Traceback (most recent call last):\n",
            "  File \"/Users/hneen/miniconda3/lib/python3.11/site-packages/sklearn/model_selection/_validation.py\", line 890, in _fit_and_score\n",
            "    estimator.fit(X_train, y_train, **fit_params)\n",
            "  File \"/Users/hneen/miniconda3/lib/python3.11/site-packages/sklearn/base.py\", line 1351, in wrapper\n",
            "    return fit_method(estimator, *args, **kwargs)\n",
            "           ^^^^^^^^^^^^^^^^^^^^^^^^^^^^^^^^^^^^^^\n",
            "  File \"/Users/hneen/miniconda3/lib/python3.11/site-packages/sklearn/pipeline.py\", line 475, in fit\n",
            "    self._final_estimator.fit(Xt, y, **last_step_params[\"fit\"])\n",
            "  File \"/Users/hneen/miniconda3/lib/python3.11/site-packages/sklearn/base.py\", line 1344, in wrapper\n",
            "    estimator._validate_params()\n",
            "  File \"/Users/hneen/miniconda3/lib/python3.11/site-packages/sklearn/base.py\", line 666, in _validate_params\n",
            "    validate_parameter_constraints(\n",
            "  File \"/Users/hneen/miniconda3/lib/python3.11/site-packages/sklearn/utils/_param_validation.py\", line 95, in validate_parameter_constraints\n",
            "    raise InvalidParameterError(\n",
            "sklearn.utils._param_validation.InvalidParameterError: The 'max_features' parameter of ExtraTreesClassifier must be an int in the range [1, inf), a float in the range (0.0, 1.0], a str among {'log2', 'sqrt'} or None. Got 'auto' instead.\n",
            "\n",
            "  warnings.warn(some_fits_failed_message, FitFailedWarning)\n",
            "/Users/hneen/miniconda3/lib/python3.11/site-packages/sklearn/model_selection/_search.py:1051: UserWarning: One or more of the test scores are non-finite: [       nan        nan        nan        nan        nan        nan\n",
            "        nan        nan        nan        nan        nan        nan\n",
            "        nan        nan        nan        nan        nan        nan\n",
            "        nan        nan        nan        nan        nan        nan\n",
            "        nan        nan        nan 0.93766462 0.93766462 0.93766462\n",
            " 0.94666374 0.94666374 0.94666374 0.94964881 0.94964881 0.94964881\n",
            " 0.94666374 0.95258999 0.94960492 0.94661984 0.94960492 0.94661984\n",
            " 0.93476734 0.94078139 0.93779631 0.93178227 0.93182616 0.93182616\n",
            " 0.93178227 0.93182616 0.93182616 0.93476734 0.93182616 0.93182616\n",
            " 0.93766462 0.93766462 0.93766462 0.94666374 0.94666374 0.94666374\n",
            " 0.94964881 0.94964881 0.94964881 0.94666374 0.95258999 0.94960492\n",
            " 0.94661984 0.94960492 0.94661984 0.93476734 0.94078139 0.93779631\n",
            " 0.93178227 0.93182616 0.93182616 0.93178227 0.93182616 0.93182616\n",
            " 0.93476734 0.93182616 0.93182616        nan        nan        nan\n",
            "        nan        nan        nan        nan        nan        nan\n",
            "        nan        nan        nan        nan        nan        nan\n",
            "        nan        nan        nan        nan        nan        nan\n",
            "        nan        nan        nan        nan        nan        nan\n",
            " 0.94064969 0.94064969 0.94363477 0.94069359 0.94666374 0.94666374\n",
            " 0.94964881 0.94666374 0.94964881 0.94964881 0.95258999 0.95258999\n",
            " 0.94960492 0.94960492 0.94661984 0.94367867 0.94078139 0.93779631\n",
            " 0.93178227 0.93182616 0.93182616 0.93178227 0.93182616 0.93182616\n",
            " 0.93476734 0.93182616 0.93182616 0.94064969 0.94064969 0.94363477\n",
            " 0.94069359 0.94666374 0.94666374 0.94964881 0.94666374 0.94964881\n",
            " 0.94964881 0.95258999 0.95258999 0.94960492 0.94960492 0.94661984\n",
            " 0.94367867 0.94078139 0.93779631 0.93178227 0.93182616 0.93182616\n",
            " 0.93178227 0.93182616 0.93182616 0.93476734 0.93182616 0.93182616\n",
            "        nan        nan        nan        nan        nan        nan\n",
            "        nan        nan        nan        nan        nan        nan\n",
            "        nan        nan        nan        nan        nan        nan\n",
            "        nan        nan        nan        nan        nan        nan\n",
            "        nan        nan        nan 0.93766462 0.93766462 0.93766462\n",
            " 0.94666374 0.94666374 0.94666374 0.94964881 0.94964881 0.94964881\n",
            " 0.94666374 0.95258999 0.94960492 0.94661984 0.94960492 0.94661984\n",
            " 0.93476734 0.94078139 0.93779631 0.93178227 0.93182616 0.93182616\n",
            " 0.93178227 0.93182616 0.93182616 0.93476734 0.93182616 0.93182616\n",
            " 0.93766462 0.93766462 0.93766462 0.94666374 0.94666374 0.94666374\n",
            " 0.94964881 0.94964881 0.94964881 0.94666374 0.95258999 0.94960492\n",
            " 0.94661984 0.94960492 0.94661984 0.93476734 0.94078139 0.93779631\n",
            " 0.93178227 0.93182616 0.93182616 0.93178227 0.93182616 0.93182616\n",
            " 0.93476734 0.93182616 0.93182616        nan        nan        nan\n",
            "        nan        nan        nan        nan        nan        nan\n",
            "        nan        nan        nan        nan        nan        nan\n",
            "        nan        nan        nan        nan        nan        nan\n",
            "        nan        nan        nan        nan        nan        nan\n",
            " 0.93766462 0.93766462 0.93766462 0.94666374 0.94666374 0.94666374\n",
            " 0.94964881 0.94964881 0.94964881 0.94666374 0.95258999 0.94960492\n",
            " 0.94661984 0.94960492 0.94661984 0.93476734 0.94078139 0.93779631\n",
            " 0.93178227 0.93182616 0.93182616 0.93178227 0.93182616 0.93182616\n",
            " 0.93476734 0.93182616 0.93182616 0.93766462 0.93766462 0.93766462\n",
            " 0.94666374 0.94666374 0.94666374 0.94964881 0.94964881 0.94964881\n",
            " 0.94666374 0.95258999 0.94960492 0.94661984 0.94960492 0.94661984\n",
            " 0.93476734 0.94078139 0.93779631 0.93178227 0.93182616 0.93182616\n",
            " 0.93178227 0.93182616 0.93182616 0.93476734 0.93182616 0.93182616]\n",
            "  warnings.warn(\n"
          ]
        }
      ],
      "source": [
        "best_LGBM6 = optimize_with_grid(X_train, y_train)\n",
        "prediction = predict('cluster_centroids_grid',best_LGBM6, X_test, y_test)"
      ]
    },
    {
      "cell_type": "markdown",
      "metadata": {
        "id": "Oiouy-TeqKIN"
      },
      "source": [
        "<h1> DT on Tomek Links </h1>"
      ]
    },
    {
      "cell_type": "code",
      "execution_count": 35,
      "metadata": {
        "id": "vv9E9_GxqKIN"
      },
      "outputs": [],
      "source": [
        "X,y = splitting_data(df, 'tomek_links')\n",
        "X_train, X_test, y_train, y_test = train_test_split(X, y, test_size=0.2, random_state=123)\n",
        "scaler = StandardScaler()\n",
        "X_train = scaler.fit_transform(X_train)\n",
        "X_test = scaler.transform(X_test)"
      ]
    },
    {
      "cell_type": "code",
      "execution_count": 36,
      "metadata": {
        "colab": {
          "base_uri": "https://localhost:8080/"
        },
        "id": "5E5JKBcpqKIO",
        "outputId": "45d71ad9-688e-46e1-a3af-2d41bd99ea52"
      },
      "outputs": [
        {
          "name": "stdout",
          "output_type": "stream",
          "text": [
            "Number of observations in each class in the set:\n",
            "diagnostic\n",
            "1    1492\n",
            "0     211\n",
            "Name: count, dtype: int64\n"
          ]
        }
      ],
      "source": [
        "print(\"Number of observations in each class in the set:\")\n",
        "print(y.value_counts())"
      ]
    },
    {
      "cell_type": "code",
      "execution_count": 37,
      "metadata": {
        "colab": {
          "base_uri": "https://localhost:8080/"
        },
        "id": "qhD1_sXpqKIO",
        "outputId": "72705b23-115d-47fd-ed4f-440fd93a52a2"
      },
      "outputs": [
        {
          "name": "stdout",
          "output_type": "stream",
          "text": [
            "              precision    recall  f1-score   support\n",
            "\n",
            "           0       0.88      0.75      0.81        48\n",
            "           1       0.96      0.98      0.97       293\n",
            "\n",
            "    accuracy                           0.95       341\n",
            "   macro avg       0.92      0.87      0.89       341\n",
            "weighted avg       0.95      0.95      0.95       341\n",
            "\n"
          ]
        }
      ],
      "source": [
        "LGBM7 =training(X_train, y_train)\n",
        "y_pred = predict('tomek_links',LGBM7, X_test, y_test)"
      ]
    },
    {
      "cell_type": "code",
      "execution_count": 38,
      "metadata": {
        "colab": {
          "base_uri": "https://localhost:8080/"
        },
        "id": "40edJ6c9qKIO",
        "outputId": "83bc31d7-887c-422e-d40a-9f0763642a14"
      },
      "outputs": [
        {
          "name": "stdout",
          "output_type": "stream",
          "text": [
            "Fitting 5 folds for each of 324 candidates, totalling 1620 fits\n",
            "Best Parameters: {'extra_trees__max_depth': None, 'extra_trees__max_features': 'sqrt', 'extra_trees__min_samples_leaf': 1, 'extra_trees__min_samples_split': 2, 'extra_trees__n_estimators': 200}\n",
            "Best Score: 0.9478749191984486\n",
            "              precision    recall  f1-score   support\n",
            "\n",
            "           0       0.88      0.75      0.81        48\n",
            "           1       0.96      0.98      0.97       293\n",
            "\n",
            "    accuracy                           0.95       341\n",
            "   macro avg       0.92      0.87      0.89       341\n",
            "weighted avg       0.95      0.95      0.95       341\n",
            "\n"
          ]
        },
        {
          "name": "stderr",
          "output_type": "stream",
          "text": [
            "/Users/hneen/miniconda3/lib/python3.11/site-packages/sklearn/model_selection/_validation.py:542: FitFailedWarning: \n",
            "540 fits failed out of a total of 1620.\n",
            "The score on these train-test partitions for these parameters will be set to nan.\n",
            "If these failures are not expected, you can try to debug them by setting error_score='raise'.\n",
            "\n",
            "Below are more details about the failures:\n",
            "--------------------------------------------------------------------------------\n",
            "112 fits failed with the following error:\n",
            "Traceback (most recent call last):\n",
            "  File \"/Users/hneen/miniconda3/lib/python3.11/site-packages/sklearn/model_selection/_validation.py\", line 890, in _fit_and_score\n",
            "    estimator.fit(X_train, y_train, **fit_params)\n",
            "  File \"/Users/hneen/miniconda3/lib/python3.11/site-packages/sklearn/base.py\", line 1351, in wrapper\n",
            "    return fit_method(estimator, *args, **kwargs)\n",
            "           ^^^^^^^^^^^^^^^^^^^^^^^^^^^^^^^^^^^^^^\n",
            "  File \"/Users/hneen/miniconda3/lib/python3.11/site-packages/sklearn/pipeline.py\", line 475, in fit\n",
            "    self._final_estimator.fit(Xt, y, **last_step_params[\"fit\"])\n",
            "  File \"/Users/hneen/miniconda3/lib/python3.11/site-packages/sklearn/base.py\", line 1344, in wrapper\n",
            "    estimator._validate_params()\n",
            "  File \"/Users/hneen/miniconda3/lib/python3.11/site-packages/sklearn/base.py\", line 666, in _validate_params\n",
            "    validate_parameter_constraints(\n",
            "  File \"/Users/hneen/miniconda3/lib/python3.11/site-packages/sklearn/utils/_param_validation.py\", line 95, in validate_parameter_constraints\n",
            "    raise InvalidParameterError(\n",
            "sklearn.utils._param_validation.InvalidParameterError: The 'max_features' parameter of ExtraTreesClassifier must be an int in the range [1, inf), a float in the range (0.0, 1.0], a str among {'log2', 'sqrt'} or None. Got 'auto' instead.\n",
            "\n",
            "--------------------------------------------------------------------------------\n",
            "428 fits failed with the following error:\n",
            "Traceback (most recent call last):\n",
            "  File \"/Users/hneen/miniconda3/lib/python3.11/site-packages/sklearn/model_selection/_validation.py\", line 890, in _fit_and_score\n",
            "    estimator.fit(X_train, y_train, **fit_params)\n",
            "  File \"/Users/hneen/miniconda3/lib/python3.11/site-packages/sklearn/base.py\", line 1351, in wrapper\n",
            "    return fit_method(estimator, *args, **kwargs)\n",
            "           ^^^^^^^^^^^^^^^^^^^^^^^^^^^^^^^^^^^^^^\n",
            "  File \"/Users/hneen/miniconda3/lib/python3.11/site-packages/sklearn/pipeline.py\", line 475, in fit\n",
            "    self._final_estimator.fit(Xt, y, **last_step_params[\"fit\"])\n",
            "  File \"/Users/hneen/miniconda3/lib/python3.11/site-packages/sklearn/base.py\", line 1344, in wrapper\n",
            "    estimator._validate_params()\n",
            "  File \"/Users/hneen/miniconda3/lib/python3.11/site-packages/sklearn/base.py\", line 666, in _validate_params\n",
            "    validate_parameter_constraints(\n",
            "  File \"/Users/hneen/miniconda3/lib/python3.11/site-packages/sklearn/utils/_param_validation.py\", line 95, in validate_parameter_constraints\n",
            "    raise InvalidParameterError(\n",
            "sklearn.utils._param_validation.InvalidParameterError: The 'max_features' parameter of ExtraTreesClassifier must be an int in the range [1, inf), a float in the range (0.0, 1.0], a str among {'sqrt', 'log2'} or None. Got 'auto' instead.\n",
            "\n",
            "  warnings.warn(some_fits_failed_message, FitFailedWarning)\n",
            "/Users/hneen/miniconda3/lib/python3.11/site-packages/sklearn/model_selection/_search.py:1051: UserWarning: One or more of the test scores are non-finite: [       nan        nan        nan        nan        nan        nan\n",
            "        nan        nan        nan        nan        nan        nan\n",
            "        nan        nan        nan        nan        nan        nan\n",
            "        nan        nan        nan        nan        nan        nan\n",
            "        nan        nan        nan 0.94713963 0.94787492 0.94787492\n",
            " 0.94200334 0.94199795 0.94346585 0.93906216 0.93612907 0.93832956\n",
            " 0.93906486 0.93979746 0.94052736 0.94347123 0.93979746 0.93979476\n",
            " 0.93685628 0.93612907 0.93759427 0.92731631 0.92731362 0.9287869\n",
            " 0.92731631 0.92731362 0.9287869  0.92585111 0.92438052 0.92364792\n",
            " 0.94713963 0.94787492 0.94787492 0.94200334 0.94199795 0.94346585\n",
            " 0.93906216 0.93612907 0.93832956 0.93906486 0.93979746 0.94052736\n",
            " 0.94347123 0.93979746 0.93979476 0.93685628 0.93612907 0.93759427\n",
            " 0.92731631 0.92731362 0.9287869  0.92731631 0.92731362 0.9287869\n",
            " 0.92585111 0.92438052 0.92364792        nan        nan        nan\n",
            "        nan        nan        nan        nan        nan        nan\n",
            "        nan        nan        nan        nan        nan        nan\n",
            "        nan        nan        nan        nan        nan        nan\n",
            "        nan        nan        nan        nan        nan        nan\n",
            " 0.94200873 0.94127882 0.94201142 0.93613176 0.93613445 0.93686705\n",
            " 0.93319328 0.93172808 0.93246337 0.93392857 0.93539377 0.93466117\n",
            " 0.93393126 0.93319328 0.93246337 0.93319328 0.93245798 0.93099009\n",
            " 0.92658371 0.92438052 0.92584842 0.92658371 0.92438052 0.92584842\n",
            " 0.9265864  0.92438052 0.92511312 0.94200873 0.94127882 0.94201142\n",
            " 0.93613176 0.93613445 0.93686705 0.93319328 0.93172808 0.93246337\n",
            " 0.93392857 0.93539377 0.93466117 0.93393126 0.93319328 0.93246337\n",
            " 0.93319328 0.93245798 0.93099009 0.92658371 0.92438052 0.92584842\n",
            " 0.92658371 0.92438052 0.92584842 0.9265864  0.92438052 0.92511312\n",
            "        nan        nan        nan        nan        nan        nan\n",
            "        nan        nan        nan        nan        nan        nan\n",
            "        nan        nan        nan        nan        nan        nan\n",
            "        nan        nan        nan        nan        nan        nan\n",
            "        nan        nan        nan 0.94566634 0.94713693 0.94640433\n",
            " 0.94126805 0.94273325 0.94419845 0.93906216 0.93612907 0.93832956\n",
            " 0.93906486 0.93979746 0.94052736 0.94273594 0.93979746 0.94053006\n",
            " 0.93685628 0.93612907 0.93759427 0.92731631 0.92731362 0.9287869\n",
            " 0.92731631 0.92731362 0.9287869  0.92585111 0.92438052 0.92364792\n",
            " 0.94566634 0.94713693 0.94640433 0.94126805 0.94273325 0.94419845\n",
            " 0.93906216 0.93612907 0.93832956 0.93906486 0.93979746 0.94052736\n",
            " 0.94273594 0.93979746 0.94053006 0.93685628 0.93612907 0.93759427\n",
            " 0.92731631 0.92731362 0.9287869  0.92731631 0.92731362 0.9287869\n",
            " 0.92585111 0.92438052 0.92364792        nan        nan        nan\n",
            "        nan        nan        nan        nan        nan        nan\n",
            "        nan        nan        nan        nan        nan        nan\n",
            "        nan        nan        nan        nan        nan        nan\n",
            "        nan        nan        nan        nan        nan        nan\n",
            " 0.94713963 0.94787492 0.94787492 0.94200334 0.94199795 0.94346585\n",
            " 0.93906216 0.93612907 0.93832956 0.93906486 0.93979746 0.94052736\n",
            " 0.94347123 0.93979746 0.93979476 0.93685628 0.93612907 0.93759427\n",
            " 0.92731631 0.92731362 0.9287869  0.92731631 0.92731362 0.9287869\n",
            " 0.92585111 0.92438052 0.92364792 0.94713963 0.94787492 0.94787492\n",
            " 0.94200334 0.94199795 0.94346585 0.93906216 0.93612907 0.93832956\n",
            " 0.93906486 0.93979746 0.94052736 0.94347123 0.93979746 0.93979476\n",
            " 0.93685628 0.93612907 0.93759427 0.92731631 0.92731362 0.9287869\n",
            " 0.92731631 0.92731362 0.9287869  0.92585111 0.92438052 0.92364792]\n",
            "  warnings.warn(\n"
          ]
        }
      ],
      "source": [
        "best_LGBM7 = optimize_with_grid(X_train, y_train)\n",
        "prediction = predict('tomek_links_grid',best_LGBM7, X_test, y_test)"
      ]
    },
    {
      "cell_type": "code",
      "execution_count": 39,
      "metadata": {
        "colab": {
          "base_uri": "https://localhost:8080/",
          "height": 488
        },
        "id": "_KHeS-NAOfGc",
        "outputId": "b266a67b-2bac-4887-cb70-63238ab818dc"
      },
      "outputs": [
        {
          "data": {
            "text/html": [
              "<div>\n",
              "<style scoped>\n",
              "    .dataframe tbody tr th:only-of-type {\n",
              "        vertical-align: middle;\n",
              "    }\n",
              "\n",
              "    .dataframe tbody tr th {\n",
              "        vertical-align: top;\n",
              "    }\n",
              "\n",
              "    .dataframe thead th {\n",
              "        text-align: right;\n",
              "    }\n",
              "</style>\n",
              "<table border=\"1\" class=\"dataframe\">\n",
              "  <thead>\n",
              "    <tr style=\"text-align: right;\">\n",
              "      <th></th>\n",
              "      <th>accuracy</th>\n",
              "      <th>precision</th>\n",
              "      <th>recall</th>\n",
              "      <th>f1</th>\n",
              "    </tr>\n",
              "  </thead>\n",
              "  <tbody>\n",
              "    <tr>\n",
              "      <th>SMOTEENN</th>\n",
              "      <td>0.996139</td>\n",
              "      <td>0.996171</td>\n",
              "      <td>0.996139</td>\n",
              "      <td>0.996140</td>\n",
              "    </tr>\n",
              "    <tr>\n",
              "      <th>SMOTEENN_grid</th>\n",
              "      <td>0.996139</td>\n",
              "      <td>0.996171</td>\n",
              "      <td>0.996139</td>\n",
              "      <td>0.996140</td>\n",
              "    </tr>\n",
              "    <tr>\n",
              "      <th>original_grid</th>\n",
              "      <td>0.973607</td>\n",
              "      <td>0.973451</td>\n",
              "      <td>0.973607</td>\n",
              "      <td>0.972379</td>\n",
              "    </tr>\n",
              "    <tr>\n",
              "      <th>SMOTE</th>\n",
              "      <td>0.971572</td>\n",
              "      <td>0.972042</td>\n",
              "      <td>0.971572</td>\n",
              "      <td>0.971587</td>\n",
              "    </tr>\n",
              "    <tr>\n",
              "      <th>SMOTE_grid</th>\n",
              "      <td>0.971572</td>\n",
              "      <td>0.972042</td>\n",
              "      <td>0.971572</td>\n",
              "      <td>0.971587</td>\n",
              "    </tr>\n",
              "    <tr>\n",
              "      <th>oversampling</th>\n",
              "      <td>0.969900</td>\n",
              "      <td>0.971647</td>\n",
              "      <td>0.969900</td>\n",
              "      <td>0.969894</td>\n",
              "    </tr>\n",
              "    <tr>\n",
              "      <th>oversampling_grid</th>\n",
              "      <td>0.968227</td>\n",
              "      <td>0.970169</td>\n",
              "      <td>0.968227</td>\n",
              "      <td>0.968219</td>\n",
              "    </tr>\n",
              "    <tr>\n",
              "      <th>original</th>\n",
              "      <td>0.956012</td>\n",
              "      <td>0.954717</td>\n",
              "      <td>0.956012</td>\n",
              "      <td>0.955190</td>\n",
              "    </tr>\n",
              "    <tr>\n",
              "      <th>cluster_centroids_grid</th>\n",
              "      <td>0.952941</td>\n",
              "      <td>0.957768</td>\n",
              "      <td>0.952941</td>\n",
              "      <td>0.953233</td>\n",
              "    </tr>\n",
              "    <tr>\n",
              "      <th>tomek_links</th>\n",
              "      <td>0.950147</td>\n",
              "      <td>0.948464</td>\n",
              "      <td>0.950147</td>\n",
              "      <td>0.948480</td>\n",
              "    </tr>\n",
              "    <tr>\n",
              "      <th>tomek_links_grid</th>\n",
              "      <td>0.950147</td>\n",
              "      <td>0.948464</td>\n",
              "      <td>0.950147</td>\n",
              "      <td>0.948480</td>\n",
              "    </tr>\n",
              "    <tr>\n",
              "      <th>cluster_centroids</th>\n",
              "      <td>0.941176</td>\n",
              "      <td>0.948529</td>\n",
              "      <td>0.941176</td>\n",
              "      <td>0.941589</td>\n",
              "    </tr>\n",
              "    <tr>\n",
              "      <th>undersampling_grid</th>\n",
              "      <td>0.917647</td>\n",
              "      <td>0.920789</td>\n",
              "      <td>0.917647</td>\n",
              "      <td>0.918066</td>\n",
              "    </tr>\n",
              "    <tr>\n",
              "      <th>undersampling</th>\n",
              "      <td>0.894118</td>\n",
              "      <td>0.901797</td>\n",
              "      <td>0.894118</td>\n",
              "      <td>0.894861</td>\n",
              "    </tr>\n",
              "  </tbody>\n",
              "</table>\n",
              "</div>"
            ],
            "text/plain": [
              "                        accuracy  precision    recall        f1\n",
              "SMOTEENN                0.996139   0.996171  0.996139  0.996140\n",
              "SMOTEENN_grid           0.996139   0.996171  0.996139  0.996140\n",
              "original_grid           0.973607   0.973451  0.973607  0.972379\n",
              "SMOTE                   0.971572   0.972042  0.971572  0.971587\n",
              "SMOTE_grid              0.971572   0.972042  0.971572  0.971587\n",
              "oversampling            0.969900   0.971647  0.969900  0.969894\n",
              "oversampling_grid       0.968227   0.970169  0.968227  0.968219\n",
              "original                0.956012   0.954717  0.956012  0.955190\n",
              "cluster_centroids_grid  0.952941   0.957768  0.952941  0.953233\n",
              "tomek_links             0.950147   0.948464  0.950147  0.948480\n",
              "tomek_links_grid        0.950147   0.948464  0.950147  0.948480\n",
              "cluster_centroids       0.941176   0.948529  0.941176  0.941589\n",
              "undersampling_grid      0.917647   0.920789  0.917647  0.918066\n",
              "undersampling           0.894118   0.901797  0.894118  0.894861"
            ]
          },
          "execution_count": 39,
          "metadata": {},
          "output_type": "execute_result"
        }
      ],
      "source": [
        "best_model_df = pd.DataFrame.from_dict(best_models, orient='index')\n",
        "best_model_df.sort_values(by='accuracy', ascending=False, inplace=True)\n",
        "best_model_df"
      ]
    },
    {
      "cell_type": "code",
      "execution_count": null,
      "metadata": {
        "id": "c6ECXu3QQryM"
      },
      "outputs": [],
      "source": []
    }
  ],
  "metadata": {
    "colab": {
      "provenance": []
    },
    "kernelspec": {
      "display_name": "Python 3 (ipykernel)",
      "language": "python",
      "name": "python3"
    },
    "language_info": {
      "codemirror_mode": {
        "name": "ipython",
        "version": 3
      },
      "file_extension": ".py",
      "mimetype": "text/x-python",
      "name": "python",
      "nbconvert_exporter": "python",
      "pygments_lexer": "ipython3",
      "version": "3.11.7"
    }
  },
  "nbformat": 4,
  "nbformat_minor": 0
}
