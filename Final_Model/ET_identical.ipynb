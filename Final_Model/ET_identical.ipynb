{
  "cells": [
    {
      "cell_type": "code",
      "execution_count": 4,
      "metadata": {
        "colab": {
          "base_uri": "https://localhost:8080/"
        },
        "id": "xNdDQEobqKII",
        "outputId": "aa32d5c3-de41-4bd4-e7e1-0b034129acc7"
      },
      "outputs": [],
      "source": [
        "import pandas as pd\n",
        "import numpy as np\n",
        "import matplotlib.pyplot as plt\n",
        "from sklearn.model_selection import train_test_split\n",
        "from sklearn.ensemble import ExtraTreesClassifier\n",
        "from sklearn.metrics import accuracy_score\n",
        "from sklearn.metrics import confusion_matrix\n",
        "import seaborn as sns\n",
        "from sklearn.metrics import precision_score, recall_score, f1_score\n",
        "from sklearn.discriminant_analysis import StandardScaler\n",
        "from imblearn.combine import SMOTEENN\n",
        "from imblearn.over_sampling import SMOTE\n",
        "from imblearn.under_sampling import RandomUnderSampler\n",
        "from sklearn.model_selection import GridSearchCV\n",
        "from sklearn.metrics import classification_report\n",
        "from sklearn.model_selection import cross_val_score\n",
        "# %pip install lightgbm\n",
        "from imblearn.under_sampling import ClusterCentroids, TomekLinks\n",
        "from imblearn.over_sampling import RandomOverSampler"
      ]
    },
    {
      "cell_type": "code",
      "execution_count": 5,
      "metadata": {
        "id": "88NenbxiqKIJ"
      },
      "outputs": [],
      "source": [
        "random_state=123\n",
        "best_models = {}"
      ]
    },
    {
      "cell_type": "code",
      "execution_count": 6,
      "metadata": {
        "colab": {
          "base_uri": "https://localhost:8080/",
          "height": 444
        },
        "id": "VY2BqdWOqKIJ",
        "outputId": "aedf2944-28cb-4d62-de33-8c0e671e78df"
      },
      "outputs": [
        {
          "data": {
            "text/html": [
              "<div>\n",
              "<style scoped>\n",
              "    .dataframe tbody tr th:only-of-type {\n",
              "        vertical-align: middle;\n",
              "    }\n",
              "\n",
              "    .dataframe tbody tr th {\n",
              "        vertical-align: top;\n",
              "    }\n",
              "\n",
              "    .dataframe thead th {\n",
              "        text-align: right;\n",
              "    }\n",
              "</style>\n",
              "<table border=\"1\" class=\"dataframe\">\n",
              "  <thead>\n",
              "    <tr style=\"text-align: right;\">\n",
              "      <th></th>\n",
              "      <th>smoke</th>\n",
              "      <th>age</th>\n",
              "      <th>pesticide</th>\n",
              "      <th>gender</th>\n",
              "      <th>skin_cancer_history</th>\n",
              "      <th>cancer_history</th>\n",
              "      <th>has_piped_water</th>\n",
              "      <th>has_sewage_system</th>\n",
              "      <th>diagnostic</th>\n",
              "    </tr>\n",
              "  </thead>\n",
              "  <tbody>\n",
              "    <tr>\n",
              "      <th>0</th>\n",
              "      <td>False</td>\n",
              "      <td>55</td>\n",
              "      <td>False</td>\n",
              "      <td>0</td>\n",
              "      <td>True</td>\n",
              "      <td>True</td>\n",
              "      <td>True</td>\n",
              "      <td>True</td>\n",
              "      <td>1</td>\n",
              "    </tr>\n",
              "    <tr>\n",
              "      <th>1</th>\n",
              "      <td>False</td>\n",
              "      <td>79</td>\n",
              "      <td>False</td>\n",
              "      <td>1</td>\n",
              "      <td>True</td>\n",
              "      <td>False</td>\n",
              "      <td>False</td>\n",
              "      <td>False</td>\n",
              "      <td>1</td>\n",
              "    </tr>\n",
              "    <tr>\n",
              "      <th>2</th>\n",
              "      <td>False</td>\n",
              "      <td>52</td>\n",
              "      <td>False</td>\n",
              "      <td>0</td>\n",
              "      <td>False</td>\n",
              "      <td>True</td>\n",
              "      <td>True</td>\n",
              "      <td>True</td>\n",
              "      <td>1</td>\n",
              "    </tr>\n",
              "    <tr>\n",
              "      <th>3</th>\n",
              "      <td>False</td>\n",
              "      <td>74</td>\n",
              "      <td>True</td>\n",
              "      <td>0</td>\n",
              "      <td>False</td>\n",
              "      <td>False</td>\n",
              "      <td>False</td>\n",
              "      <td>False</td>\n",
              "      <td>1</td>\n",
              "    </tr>\n",
              "    <tr>\n",
              "      <th>4</th>\n",
              "      <td>False</td>\n",
              "      <td>58</td>\n",
              "      <td>True</td>\n",
              "      <td>0</td>\n",
              "      <td>True</td>\n",
              "      <td>True</td>\n",
              "      <td>True</td>\n",
              "      <td>True</td>\n",
              "      <td>1</td>\n",
              "    </tr>\n",
              "    <tr>\n",
              "      <th>...</th>\n",
              "      <td>...</td>\n",
              "      <td>...</td>\n",
              "      <td>...</td>\n",
              "      <td>...</td>\n",
              "      <td>...</td>\n",
              "      <td>...</td>\n",
              "      <td>...</td>\n",
              "      <td>...</td>\n",
              "      <td>...</td>\n",
              "    </tr>\n",
              "    <tr>\n",
              "      <th>1700</th>\n",
              "      <td>False</td>\n",
              "      <td>23</td>\n",
              "      <td>True</td>\n",
              "      <td>0</td>\n",
              "      <td>False</td>\n",
              "      <td>True</td>\n",
              "      <td>True</td>\n",
              "      <td>True</td>\n",
              "      <td>0</td>\n",
              "    </tr>\n",
              "    <tr>\n",
              "      <th>1701</th>\n",
              "      <td>False</td>\n",
              "      <td>27</td>\n",
              "      <td>False</td>\n",
              "      <td>0</td>\n",
              "      <td>False</td>\n",
              "      <td>False</td>\n",
              "      <td>True</td>\n",
              "      <td>True</td>\n",
              "      <td>0</td>\n",
              "    </tr>\n",
              "    <tr>\n",
              "      <th>1702</th>\n",
              "      <td>True</td>\n",
              "      <td>23</td>\n",
              "      <td>False</td>\n",
              "      <td>1</td>\n",
              "      <td>False</td>\n",
              "      <td>False</td>\n",
              "      <td>True</td>\n",
              "      <td>True</td>\n",
              "      <td>0</td>\n",
              "    </tr>\n",
              "    <tr>\n",
              "      <th>1703</th>\n",
              "      <td>False</td>\n",
              "      <td>23</td>\n",
              "      <td>True</td>\n",
              "      <td>0</td>\n",
              "      <td>False</td>\n",
              "      <td>False</td>\n",
              "      <td>True</td>\n",
              "      <td>False</td>\n",
              "      <td>0</td>\n",
              "    </tr>\n",
              "    <tr>\n",
              "      <th>1704</th>\n",
              "      <td>False</td>\n",
              "      <td>21</td>\n",
              "      <td>False</td>\n",
              "      <td>0</td>\n",
              "      <td>False</td>\n",
              "      <td>False</td>\n",
              "      <td>True</td>\n",
              "      <td>True</td>\n",
              "      <td>0</td>\n",
              "    </tr>\n",
              "  </tbody>\n",
              "</table>\n",
              "<p>1705 rows × 9 columns</p>\n",
              "</div>"
            ],
            "text/plain": [
              "      smoke  age  pesticide  gender  skin_cancer_history  cancer_history  \\\n",
              "0     False   55      False       0                 True            True   \n",
              "1     False   79      False       1                 True           False   \n",
              "2     False   52      False       0                False            True   \n",
              "3     False   74       True       0                False           False   \n",
              "4     False   58       True       0                 True            True   \n",
              "...     ...  ...        ...     ...                  ...             ...   \n",
              "1700  False   23       True       0                False            True   \n",
              "1701  False   27      False       0                False           False   \n",
              "1702   True   23      False       1                False           False   \n",
              "1703  False   23       True       0                False           False   \n",
              "1704  False   21      False       0                False           False   \n",
              "\n",
              "      has_piped_water  has_sewage_system  diagnostic  \n",
              "0                True               True           1  \n",
              "1               False              False           1  \n",
              "2                True               True           1  \n",
              "3               False              False           1  \n",
              "4                True               True           1  \n",
              "...               ...                ...         ...  \n",
              "1700             True               True           0  \n",
              "1701             True               True           0  \n",
              "1702             True               True           0  \n",
              "1703             True              False           0  \n",
              "1704             True               True           0  \n",
              "\n",
              "[1705 rows x 9 columns]"
            ]
          },
          "execution_count": 6,
          "metadata": {},
          "output_type": "execute_result"
        }
      ],
      "source": [
        "# Read in the data\n",
        "df = pd.read_csv('../Data/Final_skin_cancer.csv')\n",
        "\n",
        "df.drop('drink', axis=1, inplace=True)\n",
        "\n",
        "df\n"
      ]
    },
    {
      "cell_type": "code",
      "execution_count": 7,
      "metadata": {},
      "outputs": [
        {
          "data": {
            "text/plain": [
              "856"
            ]
          },
          "execution_count": 7,
          "metadata": {},
          "output_type": "execute_result"
        }
      ],
      "source": [
        "df.duplicated().sum()"
      ]
    },
    {
      "cell_type": "markdown",
      "metadata": {
        "id": "LQX8dggmPB8c"
      },
      "source": [
        "# New Section"
      ]
    },
    {
      "cell_type": "code",
      "execution_count": 8,
      "metadata": {
        "id": "uNLe-VlTqKIK"
      },
      "outputs": [],
      "source": [
        "from sklearn.model_selection import train_test_split\n",
        "\n",
        "def splitting_data(df, sampling, test_size=0.2, random_state=123):\n",
        "    # First, split the data into features and target variable\n",
        "    X = df.drop(['diagnostic'], axis=1)\n",
        "    y = df['diagnostic']\n",
        "    \n",
        "    # Split the data into training and test sets\n",
        "    X_train, X_test, y_train, y_test = train_test_split(X, y, test_size=test_size, random_state=random_state)\n",
        "    \n",
        "    # Apply sampling methods to the training data based on the specified method\n",
        "    if sampling == 'none':\n",
        "        return X_train, X_test, y_train, y_test\n",
        "    elif sampling == 'SMOTEENN':\n",
        "        from imblearn.combine import SMOTEENN\n",
        "        smote_enn = SMOTEENN(random_state=random_state)\n",
        "        X_resampled, y_resampled = smote_enn.fit_resample(X_train, y_train)\n",
        "        return X_resampled, X_test, y_resampled, y_test\n",
        "    elif sampling == 'SMOTE':\n",
        "        from imblearn.over_sampling import SMOTE\n",
        "        smote = SMOTE(random_state=random_state)\n",
        "        X_resampled, y_resampled = smote.fit_resample(X_train, y_train)\n",
        "        return X_resampled, X_test, y_resampled, y_test\n",
        "    elif sampling == 'under':\n",
        "        from imblearn.under_sampling import RandomUnderSampler\n",
        "        rus = RandomUnderSampler(random_state=random_state)\n",
        "        X_resampled, y_resampled = rus.fit_resample(X_train, y_train)\n",
        "        return X_resampled, X_test, y_resampled, y_test\n",
        "    elif sampling == 'over':\n",
        "        from imblearn.over_sampling import RandomOverSampler\n",
        "        rus = RandomOverSampler(random_state=random_state)\n",
        "        X_resampled, y_resampled = rus.fit_resample(X_train, y_train)\n",
        "        return X_resampled, X_test, y_resampled, y_test"
      ]
    },
    {
      "cell_type": "code",
      "execution_count": 9,
      "metadata": {
        "id": "lVVxj7KAqKIK"
      },
      "outputs": [],
      "source": [
        "\n",
        "def training(X_train, y_train):\n",
        "    # Create a ET classifier with 5 neighbors\n",
        "    ET = ExtraTreesClassifier()\n",
        "    # Fit the classifier to the data\n",
        "    ET.fit(X_train, y_train)\n",
        "    return ET"
      ]
    },
    {
      "cell_type": "code",
      "execution_count": 10,
      "metadata": {
        "id": "3Zc5GvysOfGU"
      },
      "outputs": [],
      "source": [
        "def best_model(modelName, accuracy, precision, recall, f1):\n",
        "    best_models[modelName] = {\n",
        "        'accuracy': accuracy,\n",
        "        'precision': precision,\n",
        "        'recall': recall,\n",
        "        'f1': f1\n",
        "    }"
      ]
    },
    {
      "cell_type": "code",
      "execution_count": 11,
      "metadata": {
        "id": "Qx40EAZCqKIK"
      },
      "outputs": [],
      "source": [
        "def predict(modleName,ET, X_test ,y_test):\n",
        "    # Predict the labels for the training data X\n",
        "    y_pred = ET.predict(X_test)\n",
        "    accuracy = accuracy_score(y_test, y_pred)\n",
        "    cr=classification_report(y_test, y_pred, output_dict=True)\n",
        "    precision = cr['weighted avg']['precision']\n",
        "    recall = cr['weighted avg']['recall']\n",
        "    f1 = cr['weighted avg']['f1-score']\n",
        "    best_model(modleName,accuracy,precision,recall,f1)\n",
        "    cr=classification_report(y_test, y_pred)\n",
        "    print(cr)"
      ]
    },
    {
      "cell_type": "code",
      "execution_count": null,
      "metadata": {
        "id": "IwAOn-8uqKIK"
      },
      "outputs": [],
      "source": []
    },
    {
      "cell_type": "code",
      "execution_count": 12,
      "metadata": {
        "id": "RaCvmccpqKIK"
      },
      "outputs": [],
      "source": [
        "from sklearn.ensemble import ExtraTreesClassifier\n",
        "from sklearn.model_selection import GridSearchCV\n",
        "from sklearn.preprocessing import StandardScaler\n",
        "from sklearn.pipeline import Pipeline\n",
        "\n",
        "def optimize_with_grid(X_train, y_train):\n",
        "    # Define a pipeline\n",
        "    # Note: Scaling might not be necessary for tree-based models, but included for consistency\n",
        "    pipe = Pipeline([\n",
        "        ('scaler', StandardScaler()),  # Optional for ExtraTrees\n",
        "        ('extra_trees', ExtraTreesClassifier(random_state=random_state))\n",
        "    ])\n",
        "\n",
        "    # Define the parameter grid to search\n",
        "    param_grid = {\n",
        "        'extra_trees__n_estimators': [100, 200, 300],  # Number of trees in the forest\n",
        "        'extra_trees__max_depth': [None, 10, 20, 30],  # Maximum depth of the tree\n",
        "        'extra_trees__min_samples_split': [2, 5, 10],  # Minimum number of samples required to split an internal node\n",
        "        'extra_trees__min_samples_leaf': [1, 2, 4],  # Minimum number of samples required to be at a leaf node\n",
        "        'extra_trees__max_features': ['auto', 'sqrt', 'log2']  # Number of features to consider when looking for the best split\n",
        "    }\n",
        "\n",
        "    # Create the GridSearchCV object\n",
        "    extra_trees_cv = GridSearchCV(pipe, param_grid, cv=5, verbose=1, n_jobs=-1)\n",
        "\n",
        "    # Perform the grid search on the provided data\n",
        "    extra_trees_cv.fit(X_train, y_train)\n",
        "\n",
        "    # Best parameters and best score\n",
        "    best_params = extra_trees_cv.best_params_\n",
        "    best_score = extra_trees_cv.best_score_\n",
        "    best_estimator = extra_trees_cv.best_estimator_\n",
        "    print(\"Best Parameters:\", best_params)\n",
        "    print(\"Best Score:\", best_score)\n",
        "\n",
        "    return best_estimator\n",
        "\n",
        "# Example usage\n",
        "# Ensure you have defined X_train, y_train, and optionally random_state before calling this function\n",
        "# best_extra_trees_model = optimize_with_grid_extra_trees(X_train, y_train, random_state=42)\n"
      ]
    },
    {
      "cell_type": "markdown",
      "metadata": {
        "id": "ymbIYYOgqKIK"
      },
      "source": [
        "<h1> ET on original data with optimization </h1>"
      ]
    },
    {
      "cell_type": "code",
      "execution_count": 13,
      "metadata": {
        "id": "jNHPeleDqKIL"
      },
      "outputs": [],
      "source": [
        "# using function with no sampling\n",
        "X_train, X_test, y_train, y_test = splitting_data(df, 'none')\n",
        "# Scale the features using StandardScaler\n",
        "scaler = StandardScaler()\n",
        "X_train = scaler.fit_transform(X_train)\n",
        "X_test = scaler.transform(X_test)"
      ]
    },
    {
      "cell_type": "code",
      "execution_count": 14,
      "metadata": {
        "colab": {
          "base_uri": "https://localhost:8080/"
        },
        "id": "x9HGLHNvqKIL",
        "outputId": "c660b805-d8f7-48c0-fa12-e342f729c21a"
      },
      "outputs": [
        {
          "name": "stdout",
          "output_type": "stream",
          "text": [
            "Number of observations in each class in the training set:\n",
            "diagnostic\n",
            "1    1192\n",
            "0     172\n",
            "Name: count, dtype: int64\n"
          ]
        }
      ],
      "source": [
        "#check number of observations in each class in the set\n",
        "print(\"Number of observations in each class in the training set:\")\n",
        "print(y_train.value_counts())"
      ]
    },
    {
      "cell_type": "code",
      "execution_count": 15,
      "metadata": {
        "colab": {
          "base_uri": "https://localhost:8080/"
        },
        "id": "Mo1V3LfNqKIL",
        "outputId": "c81988db-7320-4803-9ca0-12ca8e6c7bc2"
      },
      "outputs": [
        {
          "name": "stdout",
          "output_type": "stream",
          "text": [
            "              precision    recall  f1-score   support\n",
            "\n",
            "           0       0.82      0.85      0.84        39\n",
            "           1       0.98      0.98      0.98       302\n",
            "\n",
            "    accuracy                           0.96       341\n",
            "   macro avg       0.90      0.91      0.91       341\n",
            "weighted avg       0.96      0.96      0.96       341\n",
            "\n"
          ]
        }
      ],
      "source": [
        "ET1 = training(X_train, y_train)\n",
        "y_pred = predict('original',ET1, X_test, y_test)\n"
      ]
    },
    {
      "cell_type": "code",
      "execution_count": 16,
      "metadata": {
        "colab": {
          "base_uri": "https://localhost:8080/"
        },
        "id": "wiCcN4wtqKIL",
        "outputId": "4e26eff9-8da4-4ff5-da45-f6ee6add49bd"
      },
      "outputs": [
        {
          "name": "stdout",
          "output_type": "stream",
          "text": [
            "Fitting 5 folds for each of 324 candidates, totalling 1620 fits\n"
          ]
        },
        {
          "name": "stdout",
          "output_type": "stream",
          "text": [
            "Best Parameters: {'extra_trees__max_depth': None, 'extra_trees__max_features': 'sqrt', 'extra_trees__min_samples_leaf': 1, 'extra_trees__min_samples_split': 2, 'extra_trees__n_estimators': 100}\n",
            "Best Score: 0.9376966171083818\n",
            "              precision    recall  f1-score   support\n",
            "\n",
            "           0       0.80      0.82      0.81        39\n",
            "           1       0.98      0.97      0.98       302\n",
            "\n",
            "    accuracy                           0.96       341\n",
            "   macro avg       0.89      0.90      0.89       341\n",
            "weighted avg       0.96      0.96      0.96       341\n",
            "\n"
          ]
        },
        {
          "name": "stderr",
          "output_type": "stream",
          "text": [
            "/Users/hneen/miniconda3/lib/python3.11/site-packages/sklearn/model_selection/_validation.py:542: FitFailedWarning: \n",
            "540 fits failed out of a total of 1620.\n",
            "The score on these train-test partitions for these parameters will be set to nan.\n",
            "If these failures are not expected, you can try to debug them by setting error_score='raise'.\n",
            "\n",
            "Below are more details about the failures:\n",
            "--------------------------------------------------------------------------------\n",
            "154 fits failed with the following error:\n",
            "Traceback (most recent call last):\n",
            "  File \"/Users/hneen/miniconda3/lib/python3.11/site-packages/sklearn/model_selection/_validation.py\", line 890, in _fit_and_score\n",
            "    estimator.fit(X_train, y_train, **fit_params)\n",
            "  File \"/Users/hneen/miniconda3/lib/python3.11/site-packages/sklearn/base.py\", line 1351, in wrapper\n",
            "    return fit_method(estimator, *args, **kwargs)\n",
            "           ^^^^^^^^^^^^^^^^^^^^^^^^^^^^^^^^^^^^^^\n",
            "  File \"/Users/hneen/miniconda3/lib/python3.11/site-packages/sklearn/pipeline.py\", line 475, in fit\n",
            "    self._final_estimator.fit(Xt, y, **last_step_params[\"fit\"])\n",
            "  File \"/Users/hneen/miniconda3/lib/python3.11/site-packages/sklearn/base.py\", line 1344, in wrapper\n",
            "    estimator._validate_params()\n",
            "  File \"/Users/hneen/miniconda3/lib/python3.11/site-packages/sklearn/base.py\", line 666, in _validate_params\n",
            "    validate_parameter_constraints(\n",
            "  File \"/Users/hneen/miniconda3/lib/python3.11/site-packages/sklearn/utils/_param_validation.py\", line 95, in validate_parameter_constraints\n",
            "    raise InvalidParameterError(\n",
            "sklearn.utils._param_validation.InvalidParameterError: The 'max_features' parameter of ExtraTreesClassifier must be an int in the range [1, inf), a float in the range (0.0, 1.0], a str among {'log2', 'sqrt'} or None. Got 'auto' instead.\n",
            "\n",
            "--------------------------------------------------------------------------------\n",
            "386 fits failed with the following error:\n",
            "Traceback (most recent call last):\n",
            "  File \"/Users/hneen/miniconda3/lib/python3.11/site-packages/sklearn/model_selection/_validation.py\", line 890, in _fit_and_score\n",
            "    estimator.fit(X_train, y_train, **fit_params)\n",
            "  File \"/Users/hneen/miniconda3/lib/python3.11/site-packages/sklearn/base.py\", line 1351, in wrapper\n",
            "    return fit_method(estimator, *args, **kwargs)\n",
            "           ^^^^^^^^^^^^^^^^^^^^^^^^^^^^^^^^^^^^^^\n",
            "  File \"/Users/hneen/miniconda3/lib/python3.11/site-packages/sklearn/pipeline.py\", line 475, in fit\n",
            "    self._final_estimator.fit(Xt, y, **last_step_params[\"fit\"])\n",
            "  File \"/Users/hneen/miniconda3/lib/python3.11/site-packages/sklearn/base.py\", line 1344, in wrapper\n",
            "    estimator._validate_params()\n",
            "  File \"/Users/hneen/miniconda3/lib/python3.11/site-packages/sklearn/base.py\", line 666, in _validate_params\n",
            "    validate_parameter_constraints(\n",
            "  File \"/Users/hneen/miniconda3/lib/python3.11/site-packages/sklearn/utils/_param_validation.py\", line 95, in validate_parameter_constraints\n",
            "    raise InvalidParameterError(\n",
            "sklearn.utils._param_validation.InvalidParameterError: The 'max_features' parameter of ExtraTreesClassifier must be an int in the range [1, inf), a float in the range (0.0, 1.0], a str among {'sqrt', 'log2'} or None. Got 'auto' instead.\n",
            "\n",
            "  warnings.warn(some_fits_failed_message, FitFailedWarning)\n",
            "/Users/hneen/miniconda3/lib/python3.11/site-packages/sklearn/model_selection/_search.py:1051: UserWarning: One or more of the test scores are non-finite: [       nan        nan        nan        nan        nan        nan\n",
            "        nan        nan        nan        nan        nan        nan\n",
            "        nan        nan        nan        nan        nan        nan\n",
            "        nan        nan        nan        nan        nan        nan\n",
            "        nan        nan        nan 0.93769662 0.93769392 0.93769392\n",
            " 0.92890271 0.93036792 0.93110052 0.92743482 0.92670222 0.92523702\n",
            " 0.93036522 0.93183042 0.93183042 0.92890002 0.92890002 0.93109782\n",
            " 0.92083333 0.91863553 0.91863553 0.91716764 0.91570513 0.91643773\n",
            " 0.91716764 0.91570513 0.91643773 0.91423723 0.91496983 0.91423723\n",
            " 0.93769392 0.93769392 0.93769662 0.93183312 0.93403361 0.93549881\n",
            " 0.92376912 0.92523702 0.92743482 0.93402823 0.93476352 0.93476083\n",
            " 0.93256033 0.93256303 0.93109782 0.92596693 0.92523163 0.92449634\n",
            " 0.91863553 0.91863553 0.91936813 0.91863553 0.91863553 0.91936813\n",
            " 0.91790562 0.91570513 0.91643773        nan        nan        nan\n",
            "        nan        nan        nan        nan        nan        nan\n",
            "        nan        nan        nan        nan        nan        nan\n",
            "        nan        nan        nan        nan        nan        nan\n",
            "        nan        nan        nan        nan        nan        nan\n",
            " 0.92962454 0.93108974 0.92815934 0.92816203 0.92742943 0.92889733\n",
            " 0.92083064 0.92303114 0.92229853 0.92669414 0.92595885 0.92595885\n",
            " 0.92595885 0.92669145 0.92815934 0.92083333 0.92156324 0.92083064\n",
            " 0.91423993 0.91423723 0.91423723 0.91423993 0.91423723 0.91423723\n",
            " 0.91277203 0.91496983 0.91423723 0.93109244 0.93402553 0.93255764\n",
            " 0.93036253 0.93036253 0.93035984 0.92449634 0.92229853 0.92229853\n",
            " 0.92742405 0.92742405 0.92669145 0.92889194 0.92669145 0.92669145\n",
            " 0.91936813 0.91936813 0.92156593 0.92010073 0.91863553 0.92010073\n",
            " 0.92010073 0.91863553 0.92010073 0.91790293 0.91717033 0.91643773\n",
            "        nan        nan        nan        nan        nan        nan\n",
            "        nan        nan        nan        nan        nan        nan\n",
            "        nan        nan        nan        nan        nan        nan\n",
            "        nan        nan        nan        nan        nan        nan\n",
            "        nan        nan        nan 0.93549343 0.93622334 0.93622334\n",
            " 0.92963532 0.93036792 0.93183312 0.92743482 0.92670222 0.92523702\n",
            " 0.93036522 0.93183042 0.93183042 0.92890002 0.92890002 0.93109782\n",
            " 0.92083333 0.91863553 0.91863553 0.91716764 0.91570513 0.91643773\n",
            " 0.91716764 0.91570513 0.91643773 0.91423723 0.91496983 0.91423723\n",
            " 0.93695863 0.93622603 0.93549343 0.93183312 0.93256841 0.93476621\n",
            " 0.92376912 0.92523702 0.92743482 0.93402823 0.93476352 0.93549612\n",
            " 0.93256033 0.93256303 0.93109782 0.92596693 0.92523163 0.92449634\n",
            " 0.91863553 0.91863553 0.91936813 0.91863553 0.91863553 0.91936813\n",
            " 0.91790562 0.91570513 0.91643773        nan        nan        nan\n",
            "        nan        nan        nan        nan        nan        nan\n",
            "        nan        nan        nan        nan        nan        nan\n",
            "        nan        nan        nan        nan        nan        nan\n",
            "        nan        nan        nan        nan        nan        nan\n",
            " 0.93769662 0.93769392 0.93769392 0.92890271 0.93036792 0.93110052\n",
            " 0.92743482 0.92670222 0.92523702 0.93036522 0.93183042 0.93183042\n",
            " 0.92890002 0.92890002 0.93109782 0.92083333 0.91863553 0.91863553\n",
            " 0.91716764 0.91570513 0.91643773 0.91716764 0.91570513 0.91643773\n",
            " 0.91423723 0.91496983 0.91423723 0.93769392 0.93769392 0.93769662\n",
            " 0.93183312 0.93403361 0.93549881 0.92376912 0.92523702 0.92743482\n",
            " 0.93402823 0.93476352 0.93476083 0.93256033 0.93256303 0.93109782\n",
            " 0.92596693 0.92523163 0.92449634 0.91863553 0.91863553 0.91936813\n",
            " 0.91863553 0.91863553 0.91936813 0.91790562 0.91570513 0.91643773]\n",
            "  warnings.warn(\n"
          ]
        }
      ],
      "source": [
        "best_ET = optimize_with_grid(X_train, y_train)\n",
        "prediction = predict('original_grid',best_ET, X_test, y_test)"
      ]
    },
    {
      "cell_type": "code",
      "execution_count": 17,
      "metadata": {},
      "outputs": [
        {
          "data": {
            "image/png": "[encoded data removed]",
            "text/plain": [
              "<Figure size 640x480 with 2 Axes>"
            ]
          },
          "metadata": {},
          "output_type": "display_data"
        }
      ],
      "source": [
        "# plot the confusion matrix for the model\n",
        "y_pred = best_ET.predict(X_test)\n",
        "cm = confusion_matrix(y_test, y_pred)\n",
        "sns.heatmap(cm, annot=True, fmt='d')\n",
        "plt.xlabel('Predicted')\n",
        "plt.ylabel('True')\n",
        "plt.title('ET Classifier')\n",
        "plt.show()"
      ]
    },
    {
      "cell_type": "code",
      "execution_count": null,
      "metadata": {},
      "outputs": [],
      "source": []
    }
  ],
  "metadata": {
    "colab": {
      "provenance": []
    },
    "kernelspec": {
      "display_name": "Python 3 (ipykernel)",
      "language": "python",
      "name": "python3"
    },
    "language_info": {
      "codemirror_mode": {
        "name": "ipython",
        "version": 3
      },
      "file_extension": ".py",
      "mimetype": "text/x-python",
      "name": "python",
      "nbconvert_exporter": "python",
      "pygments_lexer": "ipython3",
      "version": "3.11.7"
    }
  },
  "nbformat": 4,
  "nbformat_minor": 0
}
